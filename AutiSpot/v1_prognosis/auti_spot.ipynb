{
 "cells": [
  {
   "cell_type": "code",
   "execution_count": 1,
   "id": "cloudy-transcript",
   "metadata": {},
   "outputs": [],
   "source": [
    "import pandas as pd"
   ]
  },
  {
   "cell_type": "markdown",
   "id": "uniform-raise",
   "metadata": {},
   "source": [
    "# Functions to evaluate the model"
   ]
  },
  {
   "cell_type": "code",
   "execution_count": 2,
   "id": "subtle-drove",
   "metadata": {},
   "outputs": [],
   "source": [
    "### define our metrics function with plotting confusion matrix\n",
    "import itertools\n",
    "from sklearn.metrics import confusion_matrix \n",
    "\n",
    "### define function for plotting confusion matrix\n",
    "def plot_confusion_matrix(y_true, y_preds):\n",
    "    # Print confusion matrix\n",
    "    cnf_matrix = confusion_matrix(y_true, y_preds)\n",
    "    # Create the basic matrix\n",
    "    plt.imshow(cnf_matrix,  cmap=plt.cm.Blues)\n",
    "    # Add title and axis labels\n",
    "    plt.title('Confusion Matrix')\n",
    "    plt.ylabel('True label')\n",
    "    plt.xlabel('Predicted label')\n",
    "    # Add appropriate axis scales\n",
    "    class_names = set(y) # Get class labels to add to matrix\n",
    "    tick_marks = np.arange(len(class_names))\n",
    "    plt.xticks(tick_marks, class_names, rotation=0)\n",
    "    plt.yticks(tick_marks, class_names)\n",
    "    # Add labels to each cell\n",
    "    thresh = cnf_matrix.max() / 2. # Used for text coloring below\n",
    "    # Here we iterate through the confusion matrix and append labels to our visualization\n",
    "    for i, j in itertools.product(range(cnf_matrix.shape[0]), range(cnf_matrix.shape[1])):\n",
    "            plt.text(j, i, cnf_matrix[i, j],\n",
    "                     horizontalalignment='center',\n",
    "                     color='white' if cnf_matrix[i, j] > thresh else 'black')\n",
    "    # Add a legend\n",
    "    plt.colorbar();\n",
    "    plt.show();\n",
    "def metrics(model_name, y_train, y_test, y_hat_train, y_hat_test):\n",
    "    '''Print out the evaluation metrics for a given models predictions'''\n",
    "    print(f'Model: {model_name}', )\n",
    "    print('-'*60)\n",
    "    plot_confusion_matrix(y_test,y_hat_test)\n",
    "    print(f'test accuracy: {round(accuracy_score(y_test, y_hat_test),2)}')\n",
    "    print(f'train accuracy: {round(accuracy_score(y_train, y_hat_train),2)}')\n",
    "    print('-'*60)\n",
    "    print('-'*60)\n",
    "    print('Confusion Matrix:\\n', pd.crosstab(y_test, y_hat_test, rownames=['Actual'], colnames=['Predicted'],margins = True))\n",
    "    print('\\ntest report:\\n' + classification_report(y_test, y_hat_test))\n",
    "    print('~'*60)\n",
    "    print('\\ntrain report:\\n' + classification_report(y_train, y_hat_train))\n",
    "    print('-'*60)"
   ]
  },
  {
   "cell_type": "code",
   "execution_count": 3,
   "id": "removable-rochester",
   "metadata": {},
   "outputs": [],
   "source": [
    "def plot_feature_importances(model):\n",
    "    n_features = X_train.shape[1]\n",
    "    plt.figure(figsize=(8, 8))\n",
    "    plt.barh(range(n_features), model.feature_importances_, align='center')\n",
    "    plt.yticks(np.arange(n_features), X_train.columns.values)\n",
    "    plt.xlabel('Feature importance')\n",
    "    plt.ylabel('Feature')"
   ]
  },
  {
   "cell_type": "markdown",
   "id": "appointed-color",
   "metadata": {},
   "source": [
    "# Importing libraries"
   ]
  },
  {
   "cell_type": "code",
   "execution_count": 4,
   "id": "color-recruitment",
   "metadata": {},
   "outputs": [],
   "source": [
    "import numpy as np\n",
    "import pandas as pd\n",
    "import seaborn as sns\n",
    "import matplotlib.pyplot as plt\n",
    "\n",
    "# Supress warnings\n",
    "import warnings\n",
    "warnings.filterwarnings(\"ignore\")\n",
    "\n",
    "# Classification\n",
    "from sklearn.tree import DecisionTreeClassifier\n",
    "from sklearn.neighbors import KNeighborsClassifier\n",
    "from sklearn.naive_bayes import GaussianNB\n",
    "from sklearn.svm import SVC, LinearSVC\n",
    "from sklearn.ensemble import RandomForestClassifier , GradientBoostingClassifier\n",
    "from sklearn.discriminant_analysis import LinearDiscriminantAnalysis , QuadraticDiscriminantAnalysis\n",
    "from xgboost import XGBClassifier\n",
    "\n",
    "# Regression\n",
    "from sklearn.linear_model import LinearRegression,Ridge,Lasso,RidgeCV, ElasticNet, LogisticRegression\n",
    "from sklearn.ensemble import RandomForestRegressor,BaggingRegressor,GradientBoostingRegressor,AdaBoostRegressor \n",
    "from sklearn.svm import SVR\n",
    "from sklearn.neighbors import KNeighborsRegressor\n",
    "from sklearn.neural_network import MLPRegressor\n",
    "from xgboost import XGBRegressor\n",
    "\n",
    "# Modelling Helpers :\n",
    "from sklearn.preprocessing import Normalizer , scale\n",
    "from sklearn.model_selection import train_test_split\n",
    "from sklearn.feature_selection import RFECV\n",
    "from sklearn.model_selection import GridSearchCV , KFold , cross_val_score, ShuffleSplit, cross_validate\n",
    "\n",
    "# Preprocessing :\n",
    "from sklearn.preprocessing import MinMaxScaler , StandardScaler, LabelEncoder\n",
    "from sklearn.impute import SimpleImputer\n",
    "\n",
    "# Metrics :\n",
    "# Regression\n",
    "from sklearn.metrics import mean_squared_log_error,mean_squared_error, r2_score,mean_absolute_error \n",
    "from sklearn.metrics import accuracy_score,classification_report\n",
    "\n",
    "# Classification\n",
    "from sklearn.metrics import recall_score, f1_score, fbeta_score, r2_score, roc_auc_score, roc_curve, auc, cohen_kappa_score\n",
    "\n",
    "\n",
    "## To display  all the interactive output without using the print function\n",
    "from IPython.core.interactiveshell import InteractiveShell\n",
    "InteractiveShell.ast_node_interactivity = \"all\""
   ]
  },
  {
   "cell_type": "code",
   "execution_count": 5,
   "id": "streaming-jacket",
   "metadata": {},
   "outputs": [],
   "source": [
    "import pandas as pd\n",
    "df=pd.read_csv(\"Toddler Autism dataset July 2018.csv\")"
   ]
  },
  {
   "cell_type": "markdown",
   "id": "knowing-scotland",
   "metadata": {},
   "source": [
    "# Explore Data"
   ]
  },
  {
   "cell_type": "code",
   "execution_count": 6,
   "id": "endangered-subscription",
   "metadata": {},
   "outputs": [
    {
     "name": "stdout",
     "output_type": "stream",
     "text": [
      "<class 'pandas.core.frame.DataFrame'>\n",
      "RangeIndex: 1054 entries, 0 to 1053\n",
      "Data columns (total 19 columns):\n",
      " #   Column                  Non-Null Count  Dtype \n",
      "---  ------                  --------------  ----- \n",
      " 0   Case_No                 1054 non-null   int64 \n",
      " 1   A1                      1054 non-null   int64 \n",
      " 2   A2                      1054 non-null   int64 \n",
      " 3   A3                      1054 non-null   int64 \n",
      " 4   A4                      1054 non-null   int64 \n",
      " 5   A5                      1054 non-null   int64 \n",
      " 6   A6                      1054 non-null   int64 \n",
      " 7   A7                      1054 non-null   int64 \n",
      " 8   A8                      1054 non-null   int64 \n",
      " 9   A9                      1054 non-null   int64 \n",
      " 10  A10                     1054 non-null   int64 \n",
      " 11  Age_Mons                1054 non-null   int64 \n",
      " 12  Qchat-10-Score          1054 non-null   int64 \n",
      " 13  Sex                     1054 non-null   object\n",
      " 14  Ethnicity               1054 non-null   object\n",
      " 15  Jaundice                1054 non-null   object\n",
      " 16  Family_mem_with_ASD     1054 non-null   object\n",
      " 17  Who completed the test  1054 non-null   object\n",
      " 18  Class/ASD Traits        1054 non-null   object\n",
      "dtypes: int64(13), object(6)\n",
      "memory usage: 156.6+ KB\n"
     ]
    },
    {
     "data": {
      "text/html": [
       "<div>\n",
       "<style scoped>\n",
       "    .dataframe tbody tr th:only-of-type {\n",
       "        vertical-align: middle;\n",
       "    }\n",
       "\n",
       "    .dataframe tbody tr th {\n",
       "        vertical-align: top;\n",
       "    }\n",
       "\n",
       "    .dataframe thead th {\n",
       "        text-align: right;\n",
       "    }\n",
       "</style>\n",
       "<table border=\"1\" class=\"dataframe\">\n",
       "  <thead>\n",
       "    <tr style=\"text-align: right;\">\n",
       "      <th></th>\n",
       "      <th>Case_No</th>\n",
       "      <th>A1</th>\n",
       "      <th>A2</th>\n",
       "      <th>A3</th>\n",
       "      <th>A4</th>\n",
       "      <th>A5</th>\n",
       "      <th>A6</th>\n",
       "      <th>A7</th>\n",
       "      <th>A8</th>\n",
       "      <th>A9</th>\n",
       "      <th>A10</th>\n",
       "      <th>Age_Mons</th>\n",
       "      <th>Qchat-10-Score</th>\n",
       "      <th>Sex</th>\n",
       "      <th>Ethnicity</th>\n",
       "      <th>Jaundice</th>\n",
       "      <th>Family_mem_with_ASD</th>\n",
       "      <th>Who completed the test</th>\n",
       "      <th>Class/ASD Traits</th>\n",
       "    </tr>\n",
       "  </thead>\n",
       "  <tbody>\n",
       "    <tr>\n",
       "      <th>0</th>\n",
       "      <td>1</td>\n",
       "      <td>0</td>\n",
       "      <td>0</td>\n",
       "      <td>0</td>\n",
       "      <td>0</td>\n",
       "      <td>0</td>\n",
       "      <td>0</td>\n",
       "      <td>1</td>\n",
       "      <td>1</td>\n",
       "      <td>0</td>\n",
       "      <td>1</td>\n",
       "      <td>28</td>\n",
       "      <td>3</td>\n",
       "      <td>f</td>\n",
       "      <td>middle eastern</td>\n",
       "      <td>yes</td>\n",
       "      <td>no</td>\n",
       "      <td>family member</td>\n",
       "      <td>No</td>\n",
       "    </tr>\n",
       "    <tr>\n",
       "      <th>1</th>\n",
       "      <td>2</td>\n",
       "      <td>1</td>\n",
       "      <td>1</td>\n",
       "      <td>0</td>\n",
       "      <td>0</td>\n",
       "      <td>0</td>\n",
       "      <td>1</td>\n",
       "      <td>1</td>\n",
       "      <td>0</td>\n",
       "      <td>0</td>\n",
       "      <td>0</td>\n",
       "      <td>36</td>\n",
       "      <td>4</td>\n",
       "      <td>m</td>\n",
       "      <td>White European</td>\n",
       "      <td>yes</td>\n",
       "      <td>no</td>\n",
       "      <td>family member</td>\n",
       "      <td>Yes</td>\n",
       "    </tr>\n",
       "    <tr>\n",
       "      <th>2</th>\n",
       "      <td>3</td>\n",
       "      <td>1</td>\n",
       "      <td>0</td>\n",
       "      <td>0</td>\n",
       "      <td>0</td>\n",
       "      <td>0</td>\n",
       "      <td>0</td>\n",
       "      <td>1</td>\n",
       "      <td>1</td>\n",
       "      <td>0</td>\n",
       "      <td>1</td>\n",
       "      <td>36</td>\n",
       "      <td>4</td>\n",
       "      <td>m</td>\n",
       "      <td>middle eastern</td>\n",
       "      <td>yes</td>\n",
       "      <td>no</td>\n",
       "      <td>family member</td>\n",
       "      <td>Yes</td>\n",
       "    </tr>\n",
       "    <tr>\n",
       "      <th>3</th>\n",
       "      <td>4</td>\n",
       "      <td>1</td>\n",
       "      <td>1</td>\n",
       "      <td>1</td>\n",
       "      <td>1</td>\n",
       "      <td>1</td>\n",
       "      <td>1</td>\n",
       "      <td>1</td>\n",
       "      <td>1</td>\n",
       "      <td>1</td>\n",
       "      <td>1</td>\n",
       "      <td>24</td>\n",
       "      <td>10</td>\n",
       "      <td>m</td>\n",
       "      <td>Hispanic</td>\n",
       "      <td>no</td>\n",
       "      <td>no</td>\n",
       "      <td>family member</td>\n",
       "      <td>Yes</td>\n",
       "    </tr>\n",
       "    <tr>\n",
       "      <th>4</th>\n",
       "      <td>5</td>\n",
       "      <td>1</td>\n",
       "      <td>1</td>\n",
       "      <td>0</td>\n",
       "      <td>1</td>\n",
       "      <td>1</td>\n",
       "      <td>1</td>\n",
       "      <td>1</td>\n",
       "      <td>1</td>\n",
       "      <td>1</td>\n",
       "      <td>1</td>\n",
       "      <td>20</td>\n",
       "      <td>9</td>\n",
       "      <td>f</td>\n",
       "      <td>White European</td>\n",
       "      <td>no</td>\n",
       "      <td>yes</td>\n",
       "      <td>family member</td>\n",
       "      <td>Yes</td>\n",
       "    </tr>\n",
       "  </tbody>\n",
       "</table>\n",
       "</div>"
      ],
      "text/plain": [
       "   Case_No  A1  A2  A3  A4  A5  A6  A7  A8  A9  A10  Age_Mons  Qchat-10-Score  \\\n",
       "0        1   0   0   0   0   0   0   1   1   0    1        28               3   \n",
       "1        2   1   1   0   0   0   1   1   0   0    0        36               4   \n",
       "2        3   1   0   0   0   0   0   1   1   0    1        36               4   \n",
       "3        4   1   1   1   1   1   1   1   1   1    1        24              10   \n",
       "4        5   1   1   0   1   1   1   1   1   1    1        20               9   \n",
       "\n",
       "  Sex       Ethnicity Jaundice Family_mem_with_ASD Who completed the test  \\\n",
       "0   f  middle eastern      yes                  no          family member   \n",
       "1   m  White European      yes                  no          family member   \n",
       "2   m  middle eastern      yes                  no          family member   \n",
       "3   m        Hispanic       no                  no          family member   \n",
       "4   f  White European       no                 yes          family member   \n",
       "\n",
       "  Class/ASD Traits   \n",
       "0                No  \n",
       "1               Yes  \n",
       "2               Yes  \n",
       "3               Yes  \n",
       "4               Yes  "
      ]
     },
     "execution_count": 6,
     "metadata": {},
     "output_type": "execute_result"
    }
   ],
   "source": [
    "df.info()\n",
    "df.head()"
   ]
  },
  {
   "cell_type": "code",
   "execution_count": 7,
   "id": "thrown-theme",
   "metadata": {},
   "outputs": [
    {
     "data": {
      "text/plain": [
       "(1054, 19)"
      ]
     },
     "execution_count": 7,
     "metadata": {},
     "output_type": "execute_result"
    }
   ],
   "source": [
    "df.shape"
   ]
  },
  {
   "cell_type": "code",
   "execution_count": 8,
   "id": "failing-twelve",
   "metadata": {},
   "outputs": [
    {
     "data": {
      "text/html": [
       "<div>\n",
       "<style scoped>\n",
       "    .dataframe tbody tr th:only-of-type {\n",
       "        vertical-align: middle;\n",
       "    }\n",
       "\n",
       "    .dataframe tbody tr th {\n",
       "        vertical-align: top;\n",
       "    }\n",
       "\n",
       "    .dataframe thead th {\n",
       "        text-align: right;\n",
       "    }\n",
       "</style>\n",
       "<table border=\"1\" class=\"dataframe\">\n",
       "  <thead>\n",
       "    <tr style=\"text-align: right;\">\n",
       "      <th></th>\n",
       "      <th>Case_No</th>\n",
       "      <th>A1</th>\n",
       "      <th>A2</th>\n",
       "      <th>A3</th>\n",
       "      <th>A4</th>\n",
       "      <th>A5</th>\n",
       "      <th>A6</th>\n",
       "      <th>A7</th>\n",
       "      <th>A8</th>\n",
       "      <th>A9</th>\n",
       "      <th>A10</th>\n",
       "      <th>Age_Mons</th>\n",
       "      <th>Qchat-10-Score</th>\n",
       "    </tr>\n",
       "  </thead>\n",
       "  <tbody>\n",
       "    <tr>\n",
       "      <th>count</th>\n",
       "      <td>1054.000000</td>\n",
       "      <td>1054.000000</td>\n",
       "      <td>1054.000000</td>\n",
       "      <td>1054.000000</td>\n",
       "      <td>1054.000000</td>\n",
       "      <td>1054.000000</td>\n",
       "      <td>1054.000000</td>\n",
       "      <td>1054.000000</td>\n",
       "      <td>1054.000000</td>\n",
       "      <td>1054.000000</td>\n",
       "      <td>1054.000000</td>\n",
       "      <td>1054.000000</td>\n",
       "      <td>1054.000000</td>\n",
       "    </tr>\n",
       "    <tr>\n",
       "      <th>mean</th>\n",
       "      <td>527.500000</td>\n",
       "      <td>0.563567</td>\n",
       "      <td>0.448767</td>\n",
       "      <td>0.401328</td>\n",
       "      <td>0.512334</td>\n",
       "      <td>0.524668</td>\n",
       "      <td>0.576850</td>\n",
       "      <td>0.649905</td>\n",
       "      <td>0.459203</td>\n",
       "      <td>0.489564</td>\n",
       "      <td>0.586338</td>\n",
       "      <td>27.867173</td>\n",
       "      <td>5.212524</td>\n",
       "    </tr>\n",
       "    <tr>\n",
       "      <th>std</th>\n",
       "      <td>304.407895</td>\n",
       "      <td>0.496178</td>\n",
       "      <td>0.497604</td>\n",
       "      <td>0.490400</td>\n",
       "      <td>0.500085</td>\n",
       "      <td>0.499628</td>\n",
       "      <td>0.494293</td>\n",
       "      <td>0.477226</td>\n",
       "      <td>0.498569</td>\n",
       "      <td>0.500128</td>\n",
       "      <td>0.492723</td>\n",
       "      <td>7.980354</td>\n",
       "      <td>2.907304</td>\n",
       "    </tr>\n",
       "    <tr>\n",
       "      <th>min</th>\n",
       "      <td>1.000000</td>\n",
       "      <td>0.000000</td>\n",
       "      <td>0.000000</td>\n",
       "      <td>0.000000</td>\n",
       "      <td>0.000000</td>\n",
       "      <td>0.000000</td>\n",
       "      <td>0.000000</td>\n",
       "      <td>0.000000</td>\n",
       "      <td>0.000000</td>\n",
       "      <td>0.000000</td>\n",
       "      <td>0.000000</td>\n",
       "      <td>12.000000</td>\n",
       "      <td>0.000000</td>\n",
       "    </tr>\n",
       "    <tr>\n",
       "      <th>25%</th>\n",
       "      <td>264.250000</td>\n",
       "      <td>0.000000</td>\n",
       "      <td>0.000000</td>\n",
       "      <td>0.000000</td>\n",
       "      <td>0.000000</td>\n",
       "      <td>0.000000</td>\n",
       "      <td>0.000000</td>\n",
       "      <td>0.000000</td>\n",
       "      <td>0.000000</td>\n",
       "      <td>0.000000</td>\n",
       "      <td>0.000000</td>\n",
       "      <td>23.000000</td>\n",
       "      <td>3.000000</td>\n",
       "    </tr>\n",
       "    <tr>\n",
       "      <th>50%</th>\n",
       "      <td>527.500000</td>\n",
       "      <td>1.000000</td>\n",
       "      <td>0.000000</td>\n",
       "      <td>0.000000</td>\n",
       "      <td>1.000000</td>\n",
       "      <td>1.000000</td>\n",
       "      <td>1.000000</td>\n",
       "      <td>1.000000</td>\n",
       "      <td>0.000000</td>\n",
       "      <td>0.000000</td>\n",
       "      <td>1.000000</td>\n",
       "      <td>30.000000</td>\n",
       "      <td>5.000000</td>\n",
       "    </tr>\n",
       "    <tr>\n",
       "      <th>75%</th>\n",
       "      <td>790.750000</td>\n",
       "      <td>1.000000</td>\n",
       "      <td>1.000000</td>\n",
       "      <td>1.000000</td>\n",
       "      <td>1.000000</td>\n",
       "      <td>1.000000</td>\n",
       "      <td>1.000000</td>\n",
       "      <td>1.000000</td>\n",
       "      <td>1.000000</td>\n",
       "      <td>1.000000</td>\n",
       "      <td>1.000000</td>\n",
       "      <td>36.000000</td>\n",
       "      <td>8.000000</td>\n",
       "    </tr>\n",
       "    <tr>\n",
       "      <th>max</th>\n",
       "      <td>1054.000000</td>\n",
       "      <td>1.000000</td>\n",
       "      <td>1.000000</td>\n",
       "      <td>1.000000</td>\n",
       "      <td>1.000000</td>\n",
       "      <td>1.000000</td>\n",
       "      <td>1.000000</td>\n",
       "      <td>1.000000</td>\n",
       "      <td>1.000000</td>\n",
       "      <td>1.000000</td>\n",
       "      <td>1.000000</td>\n",
       "      <td>36.000000</td>\n",
       "      <td>10.000000</td>\n",
       "    </tr>\n",
       "  </tbody>\n",
       "</table>\n",
       "</div>"
      ],
      "text/plain": [
       "           Case_No           A1           A2           A3           A4  \\\n",
       "count  1054.000000  1054.000000  1054.000000  1054.000000  1054.000000   \n",
       "mean    527.500000     0.563567     0.448767     0.401328     0.512334   \n",
       "std     304.407895     0.496178     0.497604     0.490400     0.500085   \n",
       "min       1.000000     0.000000     0.000000     0.000000     0.000000   \n",
       "25%     264.250000     0.000000     0.000000     0.000000     0.000000   \n",
       "50%     527.500000     1.000000     0.000000     0.000000     1.000000   \n",
       "75%     790.750000     1.000000     1.000000     1.000000     1.000000   \n",
       "max    1054.000000     1.000000     1.000000     1.000000     1.000000   \n",
       "\n",
       "                A5           A6           A7           A8           A9  \\\n",
       "count  1054.000000  1054.000000  1054.000000  1054.000000  1054.000000   \n",
       "mean      0.524668     0.576850     0.649905     0.459203     0.489564   \n",
       "std       0.499628     0.494293     0.477226     0.498569     0.500128   \n",
       "min       0.000000     0.000000     0.000000     0.000000     0.000000   \n",
       "25%       0.000000     0.000000     0.000000     0.000000     0.000000   \n",
       "50%       1.000000     1.000000     1.000000     0.000000     0.000000   \n",
       "75%       1.000000     1.000000     1.000000     1.000000     1.000000   \n",
       "max       1.000000     1.000000     1.000000     1.000000     1.000000   \n",
       "\n",
       "               A10     Age_Mons  Qchat-10-Score  \n",
       "count  1054.000000  1054.000000     1054.000000  \n",
       "mean      0.586338    27.867173        5.212524  \n",
       "std       0.492723     7.980354        2.907304  \n",
       "min       0.000000    12.000000        0.000000  \n",
       "25%       0.000000    23.000000        3.000000  \n",
       "50%       1.000000    30.000000        5.000000  \n",
       "75%       1.000000    36.000000        8.000000  \n",
       "max       1.000000    36.000000       10.000000  "
      ]
     },
     "execution_count": 8,
     "metadata": {},
     "output_type": "execute_result"
    }
   ],
   "source": [
    "df.describe()"
   ]
  },
  {
   "cell_type": "code",
   "execution_count": 9,
   "id": "published-burden",
   "metadata": {},
   "outputs": [
    {
     "data": {
      "text/plain": [
       "Index(['Case_No', 'A1', 'A2', 'A3', 'A4', 'A5', 'A6', 'A7', 'A8', 'A9', 'A10',\n",
       "       'Age_Mons', 'Qchat-10-Score', 'Sex', 'Ethnicity', 'Jaundice',\n",
       "       'Family_mem_with_ASD', 'Who completed the test', 'Class/ASD Traits '],\n",
       "      dtype='object')"
      ]
     },
     "execution_count": 9,
     "metadata": {},
     "output_type": "execute_result"
    }
   ],
   "source": [
    "df.columns"
   ]
  },
  {
   "cell_type": "markdown",
   "id": "turkish-vertex",
   "metadata": {},
   "source": [
    "# Dropping unwanted columns"
   ]
  },
  {
   "cell_type": "code",
   "execution_count": 10,
   "id": "thick-context",
   "metadata": {},
   "outputs": [
    {
     "data": {
      "text/plain": [
       "Index(['A1', 'A2', 'A3', 'A4', 'A5', 'A6', 'A7', 'A8', 'A9', 'A10', 'Age_Mons',\n",
       "       'Qchat-10-Score', 'Sex', 'Ethnicity', 'Jaundice', 'Family_mem_with_ASD',\n",
       "       'Class/ASD Traits '],\n",
       "      dtype='object')"
      ]
     },
     "execution_count": 10,
     "metadata": {},
     "output_type": "execute_result"
    }
   ],
   "source": [
    "df.drop(['Case_No', 'Who completed the test'], axis = 1, inplace = True)\n",
    "df.columns"
   ]
  },
  {
   "cell_type": "code",
   "execution_count": 11,
   "id": "scientific-brave",
   "metadata": {},
   "outputs": [
    {
     "name": "stdout",
     "output_type": "stream",
     "text": [
      "Toddlers: 69.07\n",
      "Toddlers: 30.93\n"
     ]
    }
   ],
   "source": [
    "# Calculating the percentage of babies shows the symptoms of autisim\n",
    "yes_autism= df[df['Class/ASD Traits ']=='Yes']\n",
    "no_autism= df[df['Class/ASD Traits ']=='No']\n",
    "\n",
    "print(\"Toddlers:\",round(len(yes_autism)/len(df) * 100,2))\n",
    "\n",
    "print(\"Toddlers:\",round(len(no_autism)/len(df) * 100,2))"
   ]
  },
  {
   "cell_type": "code",
   "execution_count": 12,
   "id": "roman-italian",
   "metadata": {},
   "outputs": [
    {
     "data": {
      "text/plain": [
       "Yes    728\n",
       "No     326\n",
       "Name: Class/ASD Traits , dtype: int64"
      ]
     },
     "execution_count": 12,
     "metadata": {},
     "output_type": "execute_result"
    }
   ],
   "source": [
    "# Displaying the content of the target column\n",
    "df['Class/ASD Traits '].value_counts()"
   ]
  },
  {
   "cell_type": "code",
   "execution_count": 13,
   "id": "flush-checklist",
   "metadata": {},
   "outputs": [
    {
     "data": {
      "text/plain": [
       "([<matplotlib.patches.Wedge at 0x25aebd84e50>,\n",
       "  <matplotlib.patches.Wedge at 0x25aebd937c0>],\n",
       " [Text(-0.9910065639807614, -0.676687512923835, 'no_autism'),\n",
       "  Text(0.908422683649031, 0.620296886846849, 'yes_autism')],\n",
       " [Text(-0.5780871623221108, -0.39473438253890375, '69.1%'),\n",
       "  Text(0.4955032819903805, 0.3383437564619176, '30.9%')])"
      ]
     },
     "execution_count": 13,
     "metadata": {},
     "output_type": "execute_result"
    },
    {
     "data": {
      "text/plain": [
       "(-1.1964412814503307,\n",
       " 1.1171489052994765,\n",
       " -1.1740720739103871,\n",
       " 1.1035272416147803)"
      ]
     },
     "execution_count": 13,
     "metadata": {},
     "output_type": "execute_result"
    },
    {
     "data": {
      "image/png": "[encoded data removed]",
      "text/plain": [
       "<Figure size 504x504 with 1 Axes>"
      ]
     },
     "metadata": {},
     "output_type": "display_data"
    }
   ],
   "source": [
    "import matplotlib.pyplot as plt\n",
    "fig = plt.gcf()\n",
    "fig.set_size_inches(7,7)\n",
    "plt.pie(df[\"Class/ASD Traits \"].value_counts(),labels=('no_autism','yes_autism'),explode = [0.1,0],autopct ='%1.1f%%' ,\n",
    "        shadow = True,startangle = 90,labeldistance = 1.1)\n",
    "plt.axis('equal')\n",
    "\n",
    "plt.show()"
   ]
  },
  {
   "cell_type": "code",
   "execution_count": 14,
   "id": "illegal-cookie",
   "metadata": {},
   "outputs": [
    {
     "data": {
      "text/plain": [
       "A1                     0\n",
       "A2                     0\n",
       "A3                     0\n",
       "A4                     0\n",
       "A5                     0\n",
       "A6                     0\n",
       "A7                     0\n",
       "A8                     0\n",
       "A9                     0\n",
       "A10                    0\n",
       "Age_Mons               0\n",
       "Qchat-10-Score         0\n",
       "Sex                    0\n",
       "Ethnicity              0\n",
       "Jaundice               0\n",
       "Family_mem_with_ASD    0\n",
       "Class/ASD Traits       0\n",
       "dtype: int64"
      ]
     },
     "execution_count": 14,
     "metadata": {},
     "output_type": "execute_result"
    }
   ],
   "source": [
    "# Checking null data \n",
    "df.isnull().sum()"
   ]
  },
  {
   "cell_type": "code",
   "execution_count": 15,
   "id": "reflected-victory",
   "metadata": {},
   "outputs": [],
   "source": [
    "df.dropna(inplace=True)"
   ]
  },
  {
   "cell_type": "code",
   "execution_count": 16,
   "id": "figured-devil",
   "metadata": {},
   "outputs": [
    {
     "data": {
      "text/plain": [
       "A1                      int64\n",
       "A2                      int64\n",
       "A3                      int64\n",
       "A4                      int64\n",
       "A5                      int64\n",
       "A6                      int64\n",
       "A7                      int64\n",
       "A8                      int64\n",
       "A9                      int64\n",
       "A10                     int64\n",
       "Age_Mons                int64\n",
       "Qchat-10-Score          int64\n",
       "Sex                    object\n",
       "Ethnicity              object\n",
       "Jaundice               object\n",
       "Family_mem_with_ASD    object\n",
       "Class/ASD Traits       object\n",
       "dtype: object"
      ]
     },
     "execution_count": 16,
     "metadata": {},
     "output_type": "execute_result"
    }
   ],
   "source": [
    "df.dtypes"
   ]
  },
  {
   "cell_type": "markdown",
   "id": "harmful-hughes",
   "metadata": {},
   "source": [
    "# Investigating the correlation through plotting pearson method heatmap"
   ]
  },
  {
   "cell_type": "code",
   "execution_count": 17,
   "id": "blond-uganda",
   "metadata": {
    "scrolled": true
   },
   "outputs": [
    {
     "data": {
      "text/plain": [
       "<Figure size 1080x1080 with 0 Axes>"
      ]
     },
     "execution_count": 17,
     "metadata": {},
     "output_type": "execute_result"
    },
    {
     "data": {
      "text/plain": [
       "<AxesSubplot:>"
      ]
     },
     "execution_count": 17,
     "metadata": {},
     "output_type": "execute_result"
    },
    {
     "data": {
      "image/png": "[encoded data removed]",
      "text/plain": [
       "<Figure size 1080x1080 with 2 Axes>"
      ]
     },
     "metadata": {
      "needs_background": "light"
     },
     "output_type": "display_data"
    }
   ],
   "source": [
    "corr = df.corr( )\n",
    "plt.figure(figsize = (15,15))\n",
    "sns.heatmap(data = corr, annot = True, square = True, cbar = True)"
   ]
  },
  {
   "cell_type": "markdown",
   "id": "surprising-frederick",
   "metadata": {},
   "source": [
    "# Interpreting the Heatmap of Correlation\n",
    "The features in orange colour shows high correlation, we can see all the 10 answers from A1 to A9 except A10 are highly correlated with Qchart10-score. Therefore, it is better to remove the Qchat coloumn from our feature list because it is going to mislead our results."
   ]
  },
  {
   "cell_type": "code",
   "execution_count": 18,
   "id": "answering-douglas",
   "metadata": {},
   "outputs": [
    {
     "data": {
      "text/plain": [
       "<Figure size 1152x576 with 0 Axes>"
      ]
     },
     "execution_count": 18,
     "metadata": {},
     "output_type": "execute_result"
    },
    {
     "data": {
      "text/plain": [
       "<AxesSubplot:xlabel='Jaundice', ylabel='count'>"
      ]
     },
     "execution_count": 18,
     "metadata": {},
     "output_type": "execute_result"
    },
    {
     "data": {
      "image/png": "[encoded data removed]",
      "text/plain": [
       "<Figure size 1152x576 with 1 Axes>"
      ]
     },
     "metadata": {
      "needs_background": "dark"
     },
     "output_type": "display_data"
    }
   ],
   "source": [
    "# Visualizing Juandice occurance in males and females\n",
    "plt.figure(figsize = (16,8))\n",
    "\n",
    "plt.style.use('dark_background')\n",
    "sns.countplot(x = 'Jaundice', hue = 'Sex', data = yes_autism)"
   ]
  },
  {
   "cell_type": "markdown",
   "id": "occasional-clerk",
   "metadata": {},
   "source": [
    "## In Toddlers, autism is nearly 2 times in males having jundice than in females."
   ]
  },
  {
   "cell_type": "code",
   "execution_count": 19,
   "id": "clinical-happening",
   "metadata": {},
   "outputs": [
    {
     "data": {
      "text/plain": [
       "<AxesSubplot:xlabel='Qchat-10-Score', ylabel='count'>"
      ]
     },
     "execution_count": 19,
     "metadata": {},
     "output_type": "execute_result"
    },
    {
     "data": {
      "image/png": "[encoded data removed]",
      "text/plain": [
       "<Figure size 432x288 with 1 Axes>"
      ]
     },
     "metadata": {},
     "output_type": "display_data"
    }
   ],
   "source": [
    "#Visualizing The Q-chat 10 Score according to the gender\n",
    "sns.countplot(x = 'Qchat-10-Score', hue = 'Sex', data = df)"
   ]
  },
  {
   "cell_type": "markdown",
   "id": "blind-target",
   "metadata": {},
   "source": [
    "## In general,Plot shows that the Qchat has more postive answers among males than females. That reflects males are more postive to autisim than females"
   ]
  },
  {
   "cell_type": "code",
   "execution_count": 20,
   "id": "genuine-cartridge",
   "metadata": {},
   "outputs": [
    {
     "data": {
      "text/plain": [
       "<AxesSubplot:xlabel='Age_Mons', ylabel='count'>"
      ]
     },
     "execution_count": 20,
     "metadata": {},
     "output_type": "execute_result"
    },
    {
     "data": {
      "text/plain": [
       "Text(0.5, 0, 'Toddlers age in months')"
      ]
     },
     "execution_count": 20,
     "metadata": {},
     "output_type": "execute_result"
    },
    {
     "data": {
      "text/plain": [
       "Text(0.5, 1.0, 'Age distribution of ASD positive')"
      ]
     },
     "execution_count": 20,
     "metadata": {},
     "output_type": "execute_result"
    },
    {
     "data": {
      "image/png": "[encoded data removed]",
      "text/plain": [
       "<Figure size 864x576 with 1 Axes>"
      ]
     },
     "metadata": {},
     "output_type": "display_data"
    }
   ],
   "source": [
    "#Visualizing  the age distribution of Positive ASD  among Todllers\n",
    "\n",
    "\n",
    "f, ax = plt.subplots(figsize=(12, 8))\n",
    "sns.countplot(x=\"Age_Mons\", data=yes_autism, color=\"r\");\n",
    "\n",
    "plt.style.use('dark_background')\n",
    "ax.set_xlabel('Toddlers age in months')\n",
    "ax.set_title('Age distribution of ASD positive')"
   ]
  },
  {
   "cell_type": "markdown",
   "id": "worse-transsexual",
   "metadata": {},
   "source": [
    "### In age close to 36 months which is three years shows more positive autism."
   ]
  },
  {
   "cell_type": "code",
   "execution_count": 21,
   "id": "lasting-symposium",
   "metadata": {},
   "outputs": [
    {
     "data": {
      "text/plain": [
       "<Figure size 1152x576 with 0 Axes>"
      ]
     },
     "execution_count": 21,
     "metadata": {},
     "output_type": "execute_result"
    },
    {
     "data": {
      "text/plain": [
       "<AxesSubplot:xlabel='Ethnicity', ylabel='count'>"
      ]
     },
     "execution_count": 21,
     "metadata": {},
     "output_type": "execute_result"
    },
    {
     "data": {
      "image/png": "[encoded data removed]",
      "text/plain": [
       "<Figure size 1152x576 with 1 Axes>"
      ]
     },
     "metadata": {},
     "output_type": "display_data"
    }
   ],
   "source": [
    "#Explore Ethnicity\n",
    "plt.figure(figsize = (16,8))\n",
    "sns.countplot(x = 'Ethnicity', data = yes_autism)"
   ]
  },
  {
   "cell_type": "markdown",
   "id": "cooperative-blocking",
   "metadata": {},
   "source": [
    "### White European ,Asian then middle eastern are the most etnicity showed increase in autism cases "
   ]
  },
  {
   "cell_type": "code",
   "execution_count": 22,
   "id": "prompt-service",
   "metadata": {},
   "outputs": [
    {
     "data": {
      "text/plain": [
       "<Figure size 1440x432 with 0 Axes>"
      ]
     },
     "execution_count": 22,
     "metadata": {},
     "output_type": "execute_result"
    },
    {
     "data": {
      "text/plain": [
       "<AxesSubplot:xlabel='Ethnicity', ylabel='count'>"
      ]
     },
     "execution_count": 22,
     "metadata": {},
     "output_type": "execute_result"
    },
    {
     "data": {
      "text/plain": [
       "Text(0.5, 1.0, 'Ethnicity Distribution of Positive ASD among Toddlers')"
      ]
     },
     "execution_count": 22,
     "metadata": {},
     "output_type": "execute_result"
    },
    {
     "data": {
      "text/plain": [
       "Text(0.5, 0, 'Ethnicity')"
      ]
     },
     "execution_count": 22,
     "metadata": {},
     "output_type": "execute_result"
    },
    {
     "data": {
      "image/png": "[encoded data removed]",
      "text/plain": [
       "<Figure size 1440x432 with 1 Axes>"
      ]
     },
     "metadata": {},
     "output_type": "display_data"
    }
   ],
   "source": [
    "#  visualize positive  ASD among Toddlers based on Ethnicity\n",
    "plt.figure(figsize=(20,6))\n",
    "sns.countplot(x='Ethnicity',data=yes_autism,order= yes_autism['Ethnicity'].value_counts().index[:11],hue='Sex',palette='Paired')\n",
    "plt.title('Ethnicity Distribution of Positive ASD among Toddlers')\n",
    "plt.xlabel('Ethnicity')\n",
    "plt.tight_layout()"
   ]
  },
  {
   "cell_type": "markdown",
   "id": "regional-giant",
   "metadata": {},
   "source": [
    "### White European then Asian indeed are the most affected ethnicity. But we can notice that males have more positive autisim compared to females "
   ]
  },
  {
   "cell_type": "code",
   "execution_count": 23,
   "id": "hybrid-strip",
   "metadata": {},
   "outputs": [
    {
     "data": {
      "text/plain": [
       "White European    250\n",
       "asian             212\n",
       "middle eastern     96\n",
       "black              39\n",
       "south asian        37\n",
       "Hispanic           30\n",
       "Others             29\n",
       "Latino             20\n",
       "Pacifica            7\n",
       "mixed               5\n",
       "Native Indian       3\n",
       "Name: Ethnicity, dtype: int64"
      ]
     },
     "execution_count": 23,
     "metadata": {},
     "output_type": "execute_result"
    }
   ],
   "source": [
    "# Displaying number of positive cases of Autisim with Regards Ethnicity\n",
    "yes_autism['Ethnicity'].value_counts()"
   ]
  },
  {
   "cell_type": "code",
   "execution_count": 24,
   "id": "constant-customs",
   "metadata": {},
   "outputs": [
    {
     "data": {
      "text/plain": [
       "<AxesSubplot:xlabel='Family_mem_with_ASD', ylabel='count'>"
      ]
     },
     "execution_count": 24,
     "metadata": {},
     "output_type": "execute_result"
    },
    {
     "data": {
      "text/plain": [
       "Text(0.5, 1.0, 'Positive ASD Toddler relatives with Autism distribution for different ethnicities')"
      ]
     },
     "execution_count": 24,
     "metadata": {},
     "output_type": "execute_result"
    },
    {
     "data": {
      "text/plain": [
       "Text(0.5, 0, 'Toddler Relatives with ASD')"
      ]
     },
     "execution_count": 24,
     "metadata": {},
     "output_type": "execute_result"
    },
    {
     "data": {
      "image/png": "[encoded data removed]",
      "text/plain": [
       "<Figure size 864x576 with 1 Axes>"
      ]
     },
     "metadata": {},
     "output_type": "display_data"
    }
   ],
   "source": [
    "#Lets visualize the distribution of autism in family within different ethnicity\n",
    "f, ax = plt.subplots(figsize=(12, 8))\n",
    "\n",
    "\n",
    "sns.countplot(x='Family_mem_with_ASD',data=yes_autism,hue='Ethnicity',palette='rainbow',ax=ax)\n",
    "ax.set_title('Positive ASD Toddler relatives with Autism distribution for different ethnicities')\n",
    "ax.set_xlabel('Toddler Relatives with ASD')\n",
    "plt.tight_layout()"
   ]
  },
  {
   "cell_type": "markdown",
   "id": "composite-accused",
   "metadata": {},
   "source": [
    "### In general family history shows small effect in autisim. However, we can see that toddlers of White Europeans Ethnicities have very high chance of being ASD positive if they have it in their genes. Middle eastern and Asians follow the next though with smaller ratios.So We can somewhat conclude that there is a genetic connect for ASD positive."
   ]
  },
  {
   "cell_type": "code",
   "execution_count": 25,
   "id": "vocal-lesson",
   "metadata": {},
   "outputs": [],
   "source": [
    "# removing 'Qchat-10-Score'\n",
    "df.drop('Qchat-10-Score', axis = 1, inplace = True)"
   ]
  },
  {
   "cell_type": "code",
   "execution_count": 26,
   "id": "suitable-assessment",
   "metadata": {},
   "outputs": [
    {
     "data": {
      "text/plain": [
       "Counter({'middle eastern': 188,\n",
       "         'White European': 334,\n",
       "         'Hispanic': 40,\n",
       "         'black': 53,\n",
       "         'asian': 299,\n",
       "         'south asian': 60,\n",
       "         'Native Indian': 3,\n",
       "         'Others': 35,\n",
       "         'Latino': 26,\n",
       "         'mixed': 8,\n",
       "         'Pacifica': 8})"
      ]
     },
     "execution_count": 26,
     "metadata": {},
     "output_type": "execute_result"
    }
   ],
   "source": [
    "from collections import Counter\n",
    "dict = Counter(df['Ethnicity'])\n",
    "dict"
   ]
  },
  {
   "cell_type": "markdown",
   "id": "higher-creation",
   "metadata": {},
   "source": [
    "## Preprocessing features to get them ready for modeling through encoding caterogical features "
   ]
  },
  {
   "cell_type": "code",
   "execution_count": 27,
   "id": "discrete-iceland",
   "metadata": {},
   "outputs": [
    {
     "data": {
      "text/plain": [
       "A1                     int64\n",
       "A2                     int64\n",
       "A3                     int64\n",
       "A4                     int64\n",
       "A5                     int64\n",
       "A6                     int64\n",
       "A7                     int64\n",
       "A8                     int64\n",
       "A9                     int64\n",
       "A10                    int64\n",
       "Age_Mons               int64\n",
       "Sex                    int32\n",
       "Ethnicity              int32\n",
       "Jaundice               int32\n",
       "Family_mem_with_ASD    int32\n",
       "Class/ASD Traits       int32\n",
       "dtype: object"
      ]
     },
     "execution_count": 27,
     "metadata": {},
     "output_type": "execute_result"
    }
   ],
   "source": [
    "le = LabelEncoder()\n",
    "columns = ['Ethnicity', 'Family_mem_with_ASD', 'Class/ASD Traits ', 'Sex', 'Jaundice']\n",
    "for col in columns:\n",
    "    df[col] = le.fit_transform(df[col])\n",
    "df.dtypes"
   ]
  },
  {
   "cell_type": "code",
   "execution_count": 28,
   "id": "freelance-cherry",
   "metadata": {},
   "outputs": [
    {
     "data": {
      "text/plain": [
       "array([ 8,  5,  0,  7,  6, 10,  2,  3,  1,  9,  4])"
      ]
     },
     "execution_count": 28,
     "metadata": {},
     "output_type": "execute_result"
    }
   ],
   "source": [
    "df['Ethnicity'].unique()"
   ]
  },
  {
   "cell_type": "code",
   "execution_count": 29,
   "id": "eight-kentucky",
   "metadata": {},
   "outputs": [
    {
     "data": {
      "text/html": [
       "<div>\n",
       "<style scoped>\n",
       "    .dataframe tbody tr th:only-of-type {\n",
       "        vertical-align: middle;\n",
       "    }\n",
       "\n",
       "    .dataframe tbody tr th {\n",
       "        vertical-align: top;\n",
       "    }\n",
       "\n",
       "    .dataframe thead th {\n",
       "        text-align: right;\n",
       "    }\n",
       "</style>\n",
       "<table border=\"1\" class=\"dataframe\">\n",
       "  <thead>\n",
       "    <tr style=\"text-align: right;\">\n",
       "      <th></th>\n",
       "      <th>A1</th>\n",
       "      <th>A2</th>\n",
       "      <th>A3</th>\n",
       "      <th>A4</th>\n",
       "      <th>A5</th>\n",
       "      <th>A6</th>\n",
       "      <th>A7</th>\n",
       "      <th>A8</th>\n",
       "      <th>A9</th>\n",
       "      <th>A10</th>\n",
       "      <th>Age_Mons</th>\n",
       "      <th>Sex</th>\n",
       "      <th>Ethnicity</th>\n",
       "      <th>Jaundice</th>\n",
       "      <th>Family_mem_with_ASD</th>\n",
       "      <th>Class/ASD Traits</th>\n",
       "    </tr>\n",
       "  </thead>\n",
       "  <tbody>\n",
       "    <tr>\n",
       "      <th>0</th>\n",
       "      <td>0</td>\n",
       "      <td>0</td>\n",
       "      <td>0</td>\n",
       "      <td>0</td>\n",
       "      <td>0</td>\n",
       "      <td>0</td>\n",
       "      <td>1</td>\n",
       "      <td>1</td>\n",
       "      <td>0</td>\n",
       "      <td>1</td>\n",
       "      <td>28</td>\n",
       "      <td>0</td>\n",
       "      <td>8</td>\n",
       "      <td>1</td>\n",
       "      <td>0</td>\n",
       "      <td>0</td>\n",
       "    </tr>\n",
       "    <tr>\n",
       "      <th>1</th>\n",
       "      <td>1</td>\n",
       "      <td>1</td>\n",
       "      <td>0</td>\n",
       "      <td>0</td>\n",
       "      <td>0</td>\n",
       "      <td>1</td>\n",
       "      <td>1</td>\n",
       "      <td>0</td>\n",
       "      <td>0</td>\n",
       "      <td>0</td>\n",
       "      <td>36</td>\n",
       "      <td>1</td>\n",
       "      <td>5</td>\n",
       "      <td>1</td>\n",
       "      <td>0</td>\n",
       "      <td>1</td>\n",
       "    </tr>\n",
       "    <tr>\n",
       "      <th>2</th>\n",
       "      <td>1</td>\n",
       "      <td>0</td>\n",
       "      <td>0</td>\n",
       "      <td>0</td>\n",
       "      <td>0</td>\n",
       "      <td>0</td>\n",
       "      <td>1</td>\n",
       "      <td>1</td>\n",
       "      <td>0</td>\n",
       "      <td>1</td>\n",
       "      <td>36</td>\n",
       "      <td>1</td>\n",
       "      <td>8</td>\n",
       "      <td>1</td>\n",
       "      <td>0</td>\n",
       "      <td>1</td>\n",
       "    </tr>\n",
       "    <tr>\n",
       "      <th>3</th>\n",
       "      <td>1</td>\n",
       "      <td>1</td>\n",
       "      <td>1</td>\n",
       "      <td>1</td>\n",
       "      <td>1</td>\n",
       "      <td>1</td>\n",
       "      <td>1</td>\n",
       "      <td>1</td>\n",
       "      <td>1</td>\n",
       "      <td>1</td>\n",
       "      <td>24</td>\n",
       "      <td>1</td>\n",
       "      <td>0</td>\n",
       "      <td>0</td>\n",
       "      <td>0</td>\n",
       "      <td>1</td>\n",
       "    </tr>\n",
       "    <tr>\n",
       "      <th>4</th>\n",
       "      <td>1</td>\n",
       "      <td>1</td>\n",
       "      <td>0</td>\n",
       "      <td>1</td>\n",
       "      <td>1</td>\n",
       "      <td>1</td>\n",
       "      <td>1</td>\n",
       "      <td>1</td>\n",
       "      <td>1</td>\n",
       "      <td>1</td>\n",
       "      <td>20</td>\n",
       "      <td>0</td>\n",
       "      <td>5</td>\n",
       "      <td>0</td>\n",
       "      <td>1</td>\n",
       "      <td>1</td>\n",
       "    </tr>\n",
       "    <tr>\n",
       "      <th>5</th>\n",
       "      <td>1</td>\n",
       "      <td>1</td>\n",
       "      <td>0</td>\n",
       "      <td>0</td>\n",
       "      <td>1</td>\n",
       "      <td>1</td>\n",
       "      <td>1</td>\n",
       "      <td>1</td>\n",
       "      <td>1</td>\n",
       "      <td>1</td>\n",
       "      <td>21</td>\n",
       "      <td>1</td>\n",
       "      <td>7</td>\n",
       "      <td>0</td>\n",
       "      <td>0</td>\n",
       "      <td>1</td>\n",
       "    </tr>\n",
       "    <tr>\n",
       "      <th>6</th>\n",
       "      <td>1</td>\n",
       "      <td>0</td>\n",
       "      <td>0</td>\n",
       "      <td>1</td>\n",
       "      <td>1</td>\n",
       "      <td>1</td>\n",
       "      <td>0</td>\n",
       "      <td>0</td>\n",
       "      <td>1</td>\n",
       "      <td>0</td>\n",
       "      <td>33</td>\n",
       "      <td>1</td>\n",
       "      <td>6</td>\n",
       "      <td>1</td>\n",
       "      <td>0</td>\n",
       "      <td>1</td>\n",
       "    </tr>\n",
       "    <tr>\n",
       "      <th>7</th>\n",
       "      <td>0</td>\n",
       "      <td>1</td>\n",
       "      <td>0</td>\n",
       "      <td>0</td>\n",
       "      <td>1</td>\n",
       "      <td>0</td>\n",
       "      <td>1</td>\n",
       "      <td>1</td>\n",
       "      <td>1</td>\n",
       "      <td>1</td>\n",
       "      <td>33</td>\n",
       "      <td>1</td>\n",
       "      <td>6</td>\n",
       "      <td>1</td>\n",
       "      <td>0</td>\n",
       "      <td>1</td>\n",
       "    </tr>\n",
       "    <tr>\n",
       "      <th>8</th>\n",
       "      <td>0</td>\n",
       "      <td>0</td>\n",
       "      <td>0</td>\n",
       "      <td>0</td>\n",
       "      <td>0</td>\n",
       "      <td>0</td>\n",
       "      <td>1</td>\n",
       "      <td>0</td>\n",
       "      <td>0</td>\n",
       "      <td>1</td>\n",
       "      <td>36</td>\n",
       "      <td>1</td>\n",
       "      <td>6</td>\n",
       "      <td>0</td>\n",
       "      <td>0</td>\n",
       "      <td>0</td>\n",
       "    </tr>\n",
       "    <tr>\n",
       "      <th>9</th>\n",
       "      <td>1</td>\n",
       "      <td>1</td>\n",
       "      <td>1</td>\n",
       "      <td>0</td>\n",
       "      <td>1</td>\n",
       "      <td>1</td>\n",
       "      <td>0</td>\n",
       "      <td>1</td>\n",
       "      <td>1</td>\n",
       "      <td>1</td>\n",
       "      <td>22</td>\n",
       "      <td>1</td>\n",
       "      <td>10</td>\n",
       "      <td>0</td>\n",
       "      <td>0</td>\n",
       "      <td>1</td>\n",
       "    </tr>\n",
       "    <tr>\n",
       "      <th>10</th>\n",
       "      <td>1</td>\n",
       "      <td>0</td>\n",
       "      <td>0</td>\n",
       "      <td>1</td>\n",
       "      <td>0</td>\n",
       "      <td>1</td>\n",
       "      <td>1</td>\n",
       "      <td>0</td>\n",
       "      <td>1</td>\n",
       "      <td>1</td>\n",
       "      <td>36</td>\n",
       "      <td>1</td>\n",
       "      <td>0</td>\n",
       "      <td>1</td>\n",
       "      <td>1</td>\n",
       "      <td>1</td>\n",
       "    </tr>\n",
       "    <tr>\n",
       "      <th>11</th>\n",
       "      <td>1</td>\n",
       "      <td>1</td>\n",
       "      <td>1</td>\n",
       "      <td>1</td>\n",
       "      <td>0</td>\n",
       "      <td>1</td>\n",
       "      <td>1</td>\n",
       "      <td>1</td>\n",
       "      <td>0</td>\n",
       "      <td>1</td>\n",
       "      <td>17</td>\n",
       "      <td>1</td>\n",
       "      <td>8</td>\n",
       "      <td>1</td>\n",
       "      <td>0</td>\n",
       "      <td>1</td>\n",
       "    </tr>\n",
       "    <tr>\n",
       "      <th>12</th>\n",
       "      <td>0</td>\n",
       "      <td>0</td>\n",
       "      <td>0</td>\n",
       "      <td>0</td>\n",
       "      <td>0</td>\n",
       "      <td>0</td>\n",
       "      <td>0</td>\n",
       "      <td>0</td>\n",
       "      <td>0</td>\n",
       "      <td>0</td>\n",
       "      <td>25</td>\n",
       "      <td>0</td>\n",
       "      <td>8</td>\n",
       "      <td>1</td>\n",
       "      <td>0</td>\n",
       "      <td>0</td>\n",
       "    </tr>\n",
       "    <tr>\n",
       "      <th>13</th>\n",
       "      <td>1</td>\n",
       "      <td>1</td>\n",
       "      <td>1</td>\n",
       "      <td>1</td>\n",
       "      <td>0</td>\n",
       "      <td>0</td>\n",
       "      <td>1</td>\n",
       "      <td>0</td>\n",
       "      <td>1</td>\n",
       "      <td>1</td>\n",
       "      <td>15</td>\n",
       "      <td>0</td>\n",
       "      <td>8</td>\n",
       "      <td>1</td>\n",
       "      <td>0</td>\n",
       "      <td>1</td>\n",
       "    </tr>\n",
       "    <tr>\n",
       "      <th>14</th>\n",
       "      <td>0</td>\n",
       "      <td>0</td>\n",
       "      <td>0</td>\n",
       "      <td>0</td>\n",
       "      <td>0</td>\n",
       "      <td>0</td>\n",
       "      <td>0</td>\n",
       "      <td>0</td>\n",
       "      <td>0</td>\n",
       "      <td>0</td>\n",
       "      <td>18</td>\n",
       "      <td>1</td>\n",
       "      <td>8</td>\n",
       "      <td>0</td>\n",
       "      <td>0</td>\n",
       "      <td>0</td>\n",
       "    </tr>\n",
       "    <tr>\n",
       "      <th>15</th>\n",
       "      <td>1</td>\n",
       "      <td>1</td>\n",
       "      <td>1</td>\n",
       "      <td>0</td>\n",
       "      <td>1</td>\n",
       "      <td>0</td>\n",
       "      <td>1</td>\n",
       "      <td>1</td>\n",
       "      <td>0</td>\n",
       "      <td>1</td>\n",
       "      <td>12</td>\n",
       "      <td>1</td>\n",
       "      <td>7</td>\n",
       "      <td>0</td>\n",
       "      <td>0</td>\n",
       "      <td>1</td>\n",
       "    </tr>\n",
       "    <tr>\n",
       "      <th>16</th>\n",
       "      <td>0</td>\n",
       "      <td>0</td>\n",
       "      <td>0</td>\n",
       "      <td>0</td>\n",
       "      <td>0</td>\n",
       "      <td>0</td>\n",
       "      <td>0</td>\n",
       "      <td>0</td>\n",
       "      <td>0</td>\n",
       "      <td>0</td>\n",
       "      <td>36</td>\n",
       "      <td>1</td>\n",
       "      <td>8</td>\n",
       "      <td>0</td>\n",
       "      <td>1</td>\n",
       "      <td>0</td>\n",
       "    </tr>\n",
       "    <tr>\n",
       "      <th>17</th>\n",
       "      <td>1</td>\n",
       "      <td>1</td>\n",
       "      <td>1</td>\n",
       "      <td>0</td>\n",
       "      <td>1</td>\n",
       "      <td>1</td>\n",
       "      <td>1</td>\n",
       "      <td>1</td>\n",
       "      <td>0</td>\n",
       "      <td>1</td>\n",
       "      <td>12</td>\n",
       "      <td>0</td>\n",
       "      <td>8</td>\n",
       "      <td>1</td>\n",
       "      <td>0</td>\n",
       "      <td>1</td>\n",
       "    </tr>\n",
       "    <tr>\n",
       "      <th>18</th>\n",
       "      <td>1</td>\n",
       "      <td>0</td>\n",
       "      <td>0</td>\n",
       "      <td>0</td>\n",
       "      <td>1</td>\n",
       "      <td>0</td>\n",
       "      <td>0</td>\n",
       "      <td>0</td>\n",
       "      <td>0</td>\n",
       "      <td>1</td>\n",
       "      <td>29</td>\n",
       "      <td>0</td>\n",
       "      <td>8</td>\n",
       "      <td>0</td>\n",
       "      <td>0</td>\n",
       "      <td>0</td>\n",
       "    </tr>\n",
       "    <tr>\n",
       "      <th>19</th>\n",
       "      <td>1</td>\n",
       "      <td>1</td>\n",
       "      <td>1</td>\n",
       "      <td>0</td>\n",
       "      <td>1</td>\n",
       "      <td>0</td>\n",
       "      <td>1</td>\n",
       "      <td>1</td>\n",
       "      <td>0</td>\n",
       "      <td>1</td>\n",
       "      <td>12</td>\n",
       "      <td>0</td>\n",
       "      <td>7</td>\n",
       "      <td>0</td>\n",
       "      <td>0</td>\n",
       "      <td>1</td>\n",
       "    </tr>\n",
       "    <tr>\n",
       "      <th>20</th>\n",
       "      <td>1</td>\n",
       "      <td>0</td>\n",
       "      <td>0</td>\n",
       "      <td>1</td>\n",
       "      <td>1</td>\n",
       "      <td>1</td>\n",
       "      <td>1</td>\n",
       "      <td>1</td>\n",
       "      <td>1</td>\n",
       "      <td>0</td>\n",
       "      <td>36</td>\n",
       "      <td>1</td>\n",
       "      <td>8</td>\n",
       "      <td>0</td>\n",
       "      <td>0</td>\n",
       "      <td>1</td>\n",
       "    </tr>\n",
       "    <tr>\n",
       "      <th>21</th>\n",
       "      <td>1</td>\n",
       "      <td>0</td>\n",
       "      <td>1</td>\n",
       "      <td>1</td>\n",
       "      <td>1</td>\n",
       "      <td>1</td>\n",
       "      <td>1</td>\n",
       "      <td>0</td>\n",
       "      <td>1</td>\n",
       "      <td>0</td>\n",
       "      <td>36</td>\n",
       "      <td>1</td>\n",
       "      <td>8</td>\n",
       "      <td>0</td>\n",
       "      <td>0</td>\n",
       "      <td>1</td>\n",
       "    </tr>\n",
       "    <tr>\n",
       "      <th>22</th>\n",
       "      <td>1</td>\n",
       "      <td>0</td>\n",
       "      <td>1</td>\n",
       "      <td>1</td>\n",
       "      <td>0</td>\n",
       "      <td>1</td>\n",
       "      <td>0</td>\n",
       "      <td>1</td>\n",
       "      <td>1</td>\n",
       "      <td>1</td>\n",
       "      <td>36</td>\n",
       "      <td>1</td>\n",
       "      <td>2</td>\n",
       "      <td>1</td>\n",
       "      <td>1</td>\n",
       "      <td>1</td>\n",
       "    </tr>\n",
       "    <tr>\n",
       "      <th>23</th>\n",
       "      <td>1</td>\n",
       "      <td>1</td>\n",
       "      <td>1</td>\n",
       "      <td>0</td>\n",
       "      <td>1</td>\n",
       "      <td>1</td>\n",
       "      <td>0</td>\n",
       "      <td>1</td>\n",
       "      <td>1</td>\n",
       "      <td>0</td>\n",
       "      <td>36</td>\n",
       "      <td>1</td>\n",
       "      <td>8</td>\n",
       "      <td>1</td>\n",
       "      <td>1</td>\n",
       "      <td>1</td>\n",
       "    </tr>\n",
       "    <tr>\n",
       "      <th>24</th>\n",
       "      <td>1</td>\n",
       "      <td>1</td>\n",
       "      <td>1</td>\n",
       "      <td>1</td>\n",
       "      <td>1</td>\n",
       "      <td>1</td>\n",
       "      <td>1</td>\n",
       "      <td>1</td>\n",
       "      <td>1</td>\n",
       "      <td>0</td>\n",
       "      <td>22</td>\n",
       "      <td>1</td>\n",
       "      <td>5</td>\n",
       "      <td>0</td>\n",
       "      <td>0</td>\n",
       "      <td>1</td>\n",
       "    </tr>\n",
       "  </tbody>\n",
       "</table>\n",
       "</div>"
      ],
      "text/plain": [
       "    A1  A2  A3  A4  A5  A6  A7  A8  A9  A10  Age_Mons  Sex  Ethnicity  \\\n",
       "0    0   0   0   0   0   0   1   1   0    1        28    0          8   \n",
       "1    1   1   0   0   0   1   1   0   0    0        36    1          5   \n",
       "2    1   0   0   0   0   0   1   1   0    1        36    1          8   \n",
       "3    1   1   1   1   1   1   1   1   1    1        24    1          0   \n",
       "4    1   1   0   1   1   1   1   1   1    1        20    0          5   \n",
       "5    1   1   0   0   1   1   1   1   1    1        21    1          7   \n",
       "6    1   0   0   1   1   1   0   0   1    0        33    1          6   \n",
       "7    0   1   0   0   1   0   1   1   1    1        33    1          6   \n",
       "8    0   0   0   0   0   0   1   0   0    1        36    1          6   \n",
       "9    1   1   1   0   1   1   0   1   1    1        22    1         10   \n",
       "10   1   0   0   1   0   1   1   0   1    1        36    1          0   \n",
       "11   1   1   1   1   0   1   1   1   0    1        17    1          8   \n",
       "12   0   0   0   0   0   0   0   0   0    0        25    0          8   \n",
       "13   1   1   1   1   0   0   1   0   1    1        15    0          8   \n",
       "14   0   0   0   0   0   0   0   0   0    0        18    1          8   \n",
       "15   1   1   1   0   1   0   1   1   0    1        12    1          7   \n",
       "16   0   0   0   0   0   0   0   0   0    0        36    1          8   \n",
       "17   1   1   1   0   1   1   1   1   0    1        12    0          8   \n",
       "18   1   0   0   0   1   0   0   0   0    1        29    0          8   \n",
       "19   1   1   1   0   1   0   1   1   0    1        12    0          7   \n",
       "20   1   0   0   1   1   1   1   1   1    0        36    1          8   \n",
       "21   1   0   1   1   1   1   1   0   1    0        36    1          8   \n",
       "22   1   0   1   1   0   1   0   1   1    1        36    1          2   \n",
       "23   1   1   1   0   1   1   0   1   1    0        36    1          8   \n",
       "24   1   1   1   1   1   1   1   1   1    0        22    1          5   \n",
       "\n",
       "    Jaundice  Family_mem_with_ASD  Class/ASD Traits   \n",
       "0          1                    0                  0  \n",
       "1          1                    0                  1  \n",
       "2          1                    0                  1  \n",
       "3          0                    0                  1  \n",
       "4          0                    1                  1  \n",
       "5          0                    0                  1  \n",
       "6          1                    0                  1  \n",
       "7          1                    0                  1  \n",
       "8          0                    0                  0  \n",
       "9          0                    0                  1  \n",
       "10         1                    1                  1  \n",
       "11         1                    0                  1  \n",
       "12         1                    0                  0  \n",
       "13         1                    0                  1  \n",
       "14         0                    0                  0  \n",
       "15         0                    0                  1  \n",
       "16         0                    1                  0  \n",
       "17         1                    0                  1  \n",
       "18         0                    0                  0  \n",
       "19         0                    0                  1  \n",
       "20         0                    0                  1  \n",
       "21         0                    0                  1  \n",
       "22         1                    1                  1  \n",
       "23         1                    1                  1  \n",
       "24         0                    0                  1  "
      ]
     },
     "execution_count": 29,
     "metadata": {},
     "output_type": "execute_result"
    }
   ],
   "source": [
    "df.head(25)"
   ]
  },
  {
   "cell_type": "code",
   "execution_count": null,
   "id": "saving-tsunami",
   "metadata": {},
   "outputs": [],
   "source": []
  },
  {
   "cell_type": "markdown",
   "id": "intended-scout",
   "metadata": {},
   "source": [
    "# Define X and y and split the data to training/testing, with test-size=40%"
   ]
  },
  {
   "cell_type": "code",
   "execution_count": null,
   "id": "noble-recovery",
   "metadata": {},
   "outputs": [],
   "source": []
  },
  {
   "cell_type": "code",
   "execution_count": 30,
   "id": "pleasant-equity",
   "metadata": {
    "scrolled": true
   },
   "outputs": [
    {
     "data": {
      "text/plain": [
       "A1                     0\n",
       "A2                     0\n",
       "A3                     0\n",
       "A4                     0\n",
       "A5                     0\n",
       "A6                     0\n",
       "A7                     0\n",
       "A8                     0\n",
       "A9                     0\n",
       "A10                    0\n",
       "Age_Mons               0\n",
       "Sex                    0\n",
       "Ethnicity              0\n",
       "Jaundice               0\n",
       "Family_mem_with_ASD    0\n",
       "dtype: int64"
      ]
     },
     "execution_count": 30,
     "metadata": {},
     "output_type": "execute_result"
    },
    {
     "name": "stdout",
     "output_type": "stream",
     "text": [
      "<class 'pandas.core.frame.DataFrame'>\n",
      "Int64Index: 1054 entries, 0 to 1053\n",
      "Data columns (total 15 columns):\n",
      " #   Column               Non-Null Count  Dtype\n",
      "---  ------               --------------  -----\n",
      " 0   A1                   1054 non-null   int64\n",
      " 1   A2                   1054 non-null   int64\n",
      " 2   A3                   1054 non-null   int64\n",
      " 3   A4                   1054 non-null   int64\n",
      " 4   A5                   1054 non-null   int64\n",
      " 5   A6                   1054 non-null   int64\n",
      " 6   A7                   1054 non-null   int64\n",
      " 7   A8                   1054 non-null   int64\n",
      " 8   A9                   1054 non-null   int64\n",
      " 9   A10                  1054 non-null   int64\n",
      " 10  Age_Mons             1054 non-null   int64\n",
      " 11  Sex                  1054 non-null   int32\n",
      " 12  Ethnicity            1054 non-null   int32\n",
      " 13  Jaundice             1054 non-null   int32\n",
      " 14  Family_mem_with_ASD  1054 non-null   int32\n",
      "dtypes: int32(4), int64(11)\n",
      "memory usage: 147.6 KB\n"
     ]
    }
   ],
   "source": [
    "X = df.drop(['Class/ASD Traits '], axis = 1)\n",
    "y = df['Class/ASD Traits ']\n",
    "X_train, X_test, y_train, y_test = train_test_split(X, y, test_size = 0.40, random_state =42)\n",
    "X.isnull().sum()\n",
    "X.info()"
   ]
  },
  {
   "cell_type": "code",
   "execution_count": 33,
   "id": "fabulous-theme",
   "metadata": {},
   "outputs": [
    {
     "data": {
      "text/plain": [
       "LogisticRegression()"
      ]
     },
     "execution_count": 33,
     "metadata": {},
     "output_type": "execute_result"
    },
    {
     "name": "stdout",
     "output_type": "stream",
     "text": [
      "Accuracy Score is :  1\n",
      "Model: LogisticRegression()\n",
      "------------------------------------------------------------\n"
     ]
    },
    {
     "data": {
      "image/png": "[encoded data removed]",
      "text/plain": [
       "<Figure size 432x288 with 2 Axes>"
      ]
     },
     "metadata": {},
     "output_type": "display_data"
    },
    {
     "name": "stdout",
     "output_type": "stream",
     "text": [
      "test accuracy: 1.0\n",
      "train accuracy: 1.0\n",
      "------------------------------------------------------------\n",
      "------------------------------------------------------------\n",
      "Confusion Matrix:\n",
      " Predicted    0    1  All\n",
      "Actual                  \n",
      "0          129    0  129\n",
      "1            0  293  293\n",
      "All        129  293  422\n",
      "\n",
      "test report:\n",
      "              precision    recall  f1-score   support\n",
      "\n",
      "           0       1.00      1.00      1.00       129\n",
      "           1       1.00      1.00      1.00       293\n",
      "\n",
      "    accuracy                           1.00       422\n",
      "   macro avg       1.00      1.00      1.00       422\n",
      "weighted avg       1.00      1.00      1.00       422\n",
      "\n",
      "~~~~~~~~~~~~~~~~~~~~~~~~~~~~~~~~~~~~~~~~~~~~~~~~~~~~~~~~~~~~\n",
      "\n",
      "train report:\n",
      "              precision    recall  f1-score   support\n",
      "\n",
      "           0       1.00      1.00      1.00       197\n",
      "           1       1.00      1.00      1.00       435\n",
      "\n",
      "    accuracy                           1.00       632\n",
      "   macro avg       1.00      1.00      1.00       632\n",
      "weighted avg       1.00      1.00      1.00       632\n",
      "\n",
      "------------------------------------------------------------\n"
     ]
    },
    {
     "data": {
      "text/plain": [
       "KNeighborsClassifier()"
      ]
     },
     "execution_count": 33,
     "metadata": {},
     "output_type": "execute_result"
    },
    {
     "name": "stdout",
     "output_type": "stream",
     "text": [
      "Accuracy Score is :  1\n",
      "Model: KNeighborsClassifier()\n",
      "------------------------------------------------------------\n"
     ]
    },
    {
     "data": {
      "image/png": "[encoded data removed]",
      "text/plain": [
       "<Figure size 432x288 with 2 Axes>"
      ]
     },
     "metadata": {},
     "output_type": "display_data"
    },
    {
     "name": "stdout",
     "output_type": "stream",
     "text": [
      "test accuracy: 0.91\n",
      "train accuracy: 0.95\n",
      "------------------------------------------------------------\n",
      "------------------------------------------------------------\n",
      "Confusion Matrix:\n",
      " Predicted    0    1  All\n",
      "Actual                  \n",
      "0          114   15  129\n",
      "1           21  272  293\n",
      "All        135  287  422\n",
      "\n",
      "test report:\n",
      "              precision    recall  f1-score   support\n",
      "\n",
      "           0       0.84      0.88      0.86       129\n",
      "           1       0.95      0.93      0.94       293\n",
      "\n",
      "    accuracy                           0.91       422\n",
      "   macro avg       0.90      0.91      0.90       422\n",
      "weighted avg       0.92      0.91      0.92       422\n",
      "\n",
      "~~~~~~~~~~~~~~~~~~~~~~~~~~~~~~~~~~~~~~~~~~~~~~~~~~~~~~~~~~~~\n",
      "\n",
      "train report:\n",
      "              precision    recall  f1-score   support\n",
      "\n",
      "           0       0.90      0.93      0.92       197\n",
      "           1       0.97      0.95      0.96       435\n",
      "\n",
      "    accuracy                           0.95       632\n",
      "   macro avg       0.93      0.94      0.94       632\n",
      "weighted avg       0.95      0.95      0.95       632\n",
      "\n",
      "------------------------------------------------------------\n"
     ]
    },
    {
     "data": {
      "text/plain": [
       "DecisionTreeClassifier()"
      ]
     },
     "execution_count": 33,
     "metadata": {},
     "output_type": "execute_result"
    },
    {
     "name": "stdout",
     "output_type": "stream",
     "text": [
      "Accuracy Score is :  1\n",
      "Model: DecisionTreeClassifier()\n",
      "------------------------------------------------------------\n"
     ]
    },
    {
     "data": {
      "image/png": "[encoded data removed]",
      "text/plain": [
       "<Figure size 432x288 with 2 Axes>"
      ]
     },
     "metadata": {},
     "output_type": "display_data"
    },
    {
     "name": "stdout",
     "output_type": "stream",
     "text": [
      "test accuracy: 0.91\n",
      "train accuracy: 1.0\n",
      "------------------------------------------------------------\n",
      "------------------------------------------------------------\n",
      "Confusion Matrix:\n",
      " Predicted    0    1  All\n",
      "Actual                  \n",
      "0          108   21  129\n",
      "1           18  275  293\n",
      "All        126  296  422\n",
      "\n",
      "test report:\n",
      "              precision    recall  f1-score   support\n",
      "\n",
      "           0       0.86      0.84      0.85       129\n",
      "           1       0.93      0.94      0.93       293\n",
      "\n",
      "    accuracy                           0.91       422\n",
      "   macro avg       0.89      0.89      0.89       422\n",
      "weighted avg       0.91      0.91      0.91       422\n",
      "\n",
      "~~~~~~~~~~~~~~~~~~~~~~~~~~~~~~~~~~~~~~~~~~~~~~~~~~~~~~~~~~~~\n",
      "\n",
      "train report:\n",
      "              precision    recall  f1-score   support\n",
      "\n",
      "           0       1.00      1.00      1.00       197\n",
      "           1       1.00      1.00      1.00       435\n",
      "\n",
      "    accuracy                           1.00       632\n",
      "   macro avg       1.00      1.00      1.00       632\n",
      "weighted avg       1.00      1.00      1.00       632\n",
      "\n",
      "------------------------------------------------------------\n"
     ]
    }
   ],
   "source": [
    "#10 MODELS\n",
    "models = []\n",
    "log_reg=LogisticRegression()\n",
    "KNN=KNeighborsClassifier()\n",
    "CART=DecisionTreeClassifier()\n",
    "models.append(log_reg)\n",
    "models.append(KNN)\n",
    "models.append(CART)\n",
    "\n",
    "for model in models:\n",
    "    model.fit(X_train, y_train)\n",
    "    y_hat_test = model.predict(X_test).astype(int)\n",
    "    y_hat_train = model.predict(X_train).astype(int)\n",
    "    print('Accuracy Score is : ', round(accuracy_score(y_test, y_hat_test)))\n",
    "\n",
    "    metrics(model, y_train, y_test, y_hat_train, y_hat_test)"
   ]
  },
  {
   "cell_type": "code",
   "execution_count": 34,
   "id": "civilian-vacuum",
   "metadata": {},
   "outputs": [],
   "source": [
    "import pickle \n",
    "file=open('logistic_regression_model.pkl','wb')\n",
    "pickle.dump(log_reg,file)"
   ]
  },
  {
   "cell_type": "code",
   "execution_count": 36,
   "id": "brilliant-deputy",
   "metadata": {},
   "outputs": [],
   "source": [
    "import pickle \n",
    "file=open('decision_tree_model.pkl','wb')\n",
    "pickle.dump(CART,file)"
   ]
  },
  {
   "cell_type": "code",
   "execution_count": 37,
   "id": "hourly-procurement",
   "metadata": {},
   "outputs": [],
   "source": [
    "import pickle \n",
    "file=open('KNN.pkl','wb')\n",
    "pickle.dump(KNN,file)"
   ]
  },
  {
   "cell_type": "code",
   "execution_count": 38,
   "id": "secret-disposal",
   "metadata": {},
   "outputs": [
    {
     "data": {
      "text/plain": [
       "[LogisticRegression(), KNeighborsClassifier(), DecisionTreeClassifier()]"
      ]
     },
     "execution_count": 38,
     "metadata": {},
     "output_type": "execute_result"
    }
   ],
   "source": [
    "models"
   ]
  },
  {
   "cell_type": "code",
   "execution_count": 39,
   "id": "cross-maker",
   "metadata": {},
   "outputs": [
    {
     "data": {
      "text/plain": [
       "GaussianNB()"
      ]
     },
     "execution_count": 39,
     "metadata": {},
     "output_type": "execute_result"
    },
    {
     "name": "stdout",
     "output_type": "stream",
     "text": [
      "NB Accuracy Score is :  1\n",
      "Model: NB\n",
      "------------------------------------------------------------\n"
     ]
    },
    {
     "data": {
      "image/png": "[encoded data removed]",
      "text/plain": [
       "<Figure size 432x288 with 2 Axes>"
      ]
     },
     "metadata": {},
     "output_type": "display_data"
    },
    {
     "name": "stdout",
     "output_type": "stream",
     "text": [
      "test accuracy: 0.94\n",
      "train accuracy: 0.95\n",
      "------------------------------------------------------------\n",
      "------------------------------------------------------------\n",
      "Confusion Matrix:\n",
      " Predicted    0    1  All\n",
      "Actual                  \n",
      "0          116   13  129\n",
      "1           12  281  293\n",
      "All        128  294  422\n",
      "\n",
      "test report:\n",
      "              precision    recall  f1-score   support\n",
      "\n",
      "           0       0.91      0.90      0.90       129\n",
      "           1       0.96      0.96      0.96       293\n",
      "\n",
      "    accuracy                           0.94       422\n",
      "   macro avg       0.93      0.93      0.93       422\n",
      "weighted avg       0.94      0.94      0.94       422\n",
      "\n",
      "~~~~~~~~~~~~~~~~~~~~~~~~~~~~~~~~~~~~~~~~~~~~~~~~~~~~~~~~~~~~\n",
      "\n",
      "train report:\n",
      "              precision    recall  f1-score   support\n",
      "\n",
      "           0       0.92      0.93      0.93       197\n",
      "           1       0.97      0.97      0.97       435\n",
      "\n",
      "    accuracy                           0.95       632\n",
      "   macro avg       0.95      0.95      0.95       632\n",
      "weighted avg       0.95      0.95      0.95       632\n",
      "\n",
      "------------------------------------------------------------\n"
     ]
    },
    {
     "data": {
      "text/plain": [
       "SVC()"
      ]
     },
     "execution_count": 39,
     "metadata": {},
     "output_type": "execute_result"
    },
    {
     "name": "stdout",
     "output_type": "stream",
     "text": [
      "SVM Accuracy Score is :  1\n",
      "Model: SVM\n",
      "------------------------------------------------------------\n"
     ]
    },
    {
     "data": {
      "image/png": "[encoded data removed]",
      "text/plain": [
       "<Figure size 432x288 with 2 Axes>"
      ]
     },
     "metadata": {},
     "output_type": "display_data"
    },
    {
     "name": "stdout",
     "output_type": "stream",
     "text": [
      "test accuracy: 0.78\n",
      "train accuracy: 0.78\n",
      "------------------------------------------------------------\n",
      "------------------------------------------------------------\n",
      "Confusion Matrix:\n",
      " Predicted   0    1  All\n",
      "Actual                 \n",
      "0          36   93  129\n",
      "1           0  293  293\n",
      "All        36  386  422\n",
      "\n",
      "test report:\n",
      "              precision    recall  f1-score   support\n",
      "\n",
      "           0       1.00      0.28      0.44       129\n",
      "           1       0.76      1.00      0.86       293\n",
      "\n",
      "    accuracy                           0.78       422\n",
      "   macro avg       0.88      0.64      0.65       422\n",
      "weighted avg       0.83      0.78      0.73       422\n",
      "\n",
      "~~~~~~~~~~~~~~~~~~~~~~~~~~~~~~~~~~~~~~~~~~~~~~~~~~~~~~~~~~~~\n",
      "\n",
      "train report:\n",
      "              precision    recall  f1-score   support\n",
      "\n",
      "           0       1.00      0.29      0.45       197\n",
      "           1       0.76      1.00      0.86       435\n",
      "\n",
      "    accuracy                           0.78       632\n",
      "   macro avg       0.88      0.65      0.66       632\n",
      "weighted avg       0.83      0.78      0.74       632\n",
      "\n",
      "------------------------------------------------------------\n"
     ]
    },
    {
     "data": {
      "text/plain": [
       "RandomForestRegressor()"
      ]
     },
     "execution_count": 39,
     "metadata": {},
     "output_type": "execute_result"
    },
    {
     "name": "stdout",
     "output_type": "stream",
     "text": [
      "RF Accuracy Score is :  1\n",
      "Model: RF\n",
      "------------------------------------------------------------\n"
     ]
    },
    {
     "data": {
      "image/png": "[encoded data removed]",
      "text/plain": [
       "<Figure size 432x288 with 2 Axes>"
      ]
     },
     "metadata": {},
     "output_type": "display_data"
    },
    {
     "name": "stdout",
     "output_type": "stream",
     "text": [
      "test accuracy: 0.63\n",
      "train accuracy: 0.7\n",
      "------------------------------------------------------------\n",
      "------------------------------------------------------------\n",
      "Confusion Matrix:\n",
      " Predicted    0    1  All\n",
      "Actual                  \n",
      "0          129    0  129\n",
      "1          155  138  293\n",
      "All        284  138  422\n",
      "\n",
      "test report:\n",
      "              precision    recall  f1-score   support\n",
      "\n",
      "           0       0.45      1.00      0.62       129\n",
      "           1       1.00      0.47      0.64       293\n",
      "\n",
      "    accuracy                           0.63       422\n",
      "   macro avg       0.73      0.74      0.63       422\n",
      "weighted avg       0.83      0.63      0.64       422\n",
      "\n",
      "~~~~~~~~~~~~~~~~~~~~~~~~~~~~~~~~~~~~~~~~~~~~~~~~~~~~~~~~~~~~\n",
      "\n",
      "train report:\n",
      "              precision    recall  f1-score   support\n",
      "\n",
      "           0       0.51      1.00      0.68       197\n",
      "           1       1.00      0.57      0.72       435\n",
      "\n",
      "    accuracy                           0.70       632\n",
      "   macro avg       0.76      0.78      0.70       632\n",
      "weighted avg       0.85      0.70      0.71       632\n",
      "\n",
      "------------------------------------------------------------\n",
      "[20:06:48] WARNING: C:/Users/Administrator/workspace/xgboost-win64_release_1.3.0/src/learner.cc:1061: Starting in XGBoost 1.3.0, the default evaluation metric used with the objective 'binary:logistic' was changed from 'error' to 'logloss'. Explicitly set eval_metric if you'd like to restore the old behavior.\n"
     ]
    },
    {
     "data": {
      "text/plain": [
       "XGBClassifier(base_score=0.5, booster='gbtree', colsample_bylevel=1,\n",
       "              colsample_bynode=1, colsample_bytree=1, gamma=0, gpu_id=-1,\n",
       "              importance_type='gain', interaction_constraints='',\n",
       "              learning_rate=0.300000012, max_delta_step=0, max_depth=6,\n",
       "              min_child_weight=1, missing=nan, monotone_constraints='()',\n",
       "              n_estimators=100, n_jobs=8, num_parallel_tree=1, random_state=0,\n",
       "              reg_alpha=0, reg_lambda=1, scale_pos_weight=1, subsample=1,\n",
       "              tree_method='exact', validate_parameters=1, verbosity=None)"
      ]
     },
     "execution_count": 39,
     "metadata": {},
     "output_type": "execute_result"
    },
    {
     "name": "stdout",
     "output_type": "stream",
     "text": [
      "XGB Accuracy Score is :  1\n",
      "Model: XGB\n",
      "------------------------------------------------------------\n"
     ]
    },
    {
     "data": {
      "image/png": "[encoded data removed]",
      "text/plain": [
       "<Figure size 432x288 with 2 Axes>"
      ]
     },
     "metadata": {},
     "output_type": "display_data"
    },
    {
     "name": "stdout",
     "output_type": "stream",
     "text": [
      "test accuracy: 0.99\n",
      "train accuracy: 1.0\n",
      "------------------------------------------------------------\n",
      "------------------------------------------------------------\n",
      "Confusion Matrix:\n",
      " Predicted    0    1  All\n",
      "Actual                  \n",
      "0          127    2  129\n",
      "1            4  289  293\n",
      "All        131  291  422\n",
      "\n",
      "test report:\n",
      "              precision    recall  f1-score   support\n",
      "\n",
      "           0       0.97      0.98      0.98       129\n",
      "           1       0.99      0.99      0.99       293\n",
      "\n",
      "    accuracy                           0.99       422\n",
      "   macro avg       0.98      0.99      0.98       422\n",
      "weighted avg       0.99      0.99      0.99       422\n",
      "\n",
      "~~~~~~~~~~~~~~~~~~~~~~~~~~~~~~~~~~~~~~~~~~~~~~~~~~~~~~~~~~~~\n",
      "\n",
      "train report:\n",
      "              precision    recall  f1-score   support\n",
      "\n",
      "           0       1.00      1.00      1.00       197\n",
      "           1       1.00      1.00      1.00       435\n",
      "\n",
      "    accuracy                           1.00       632\n",
      "   macro avg       1.00      1.00      1.00       632\n",
      "weighted avg       1.00      1.00      1.00       632\n",
      "\n",
      "------------------------------------------------------------\n"
     ]
    },
    {
     "data": {
      "text/plain": [
       "GradientBoostingRegressor()"
      ]
     },
     "execution_count": 39,
     "metadata": {},
     "output_type": "execute_result"
    },
    {
     "name": "stdout",
     "output_type": "stream",
     "text": [
      "GBR Accuracy Score is :  1\n",
      "Model: GBR\n",
      "------------------------------------------------------------\n"
     ]
    },
    {
     "data": {
      "image/png": "[encoded data removed]",
      "text/plain": [
       "<Figure size 432x288 with 2 Axes>"
      ]
     },
     "metadata": {},
     "output_type": "display_data"
    },
    {
     "name": "stdout",
     "output_type": "stream",
     "text": [
      "test accuracy: 0.64\n",
      "train accuracy: 0.63\n",
      "------------------------------------------------------------\n",
      "------------------------------------------------------------\n",
      "Confusion Matrix:\n",
      " Predicted    0    1  All\n",
      "Actual                  \n",
      "0          129    0  129\n",
      "1          153  140  293\n",
      "All        282  140  422\n",
      "\n",
      "test report:\n",
      "              precision    recall  f1-score   support\n",
      "\n",
      "           0       0.46      1.00      0.63       129\n",
      "           1       1.00      0.48      0.65       293\n",
      "\n",
      "    accuracy                           0.64       422\n",
      "   macro avg       0.73      0.74      0.64       422\n",
      "weighted avg       0.83      0.64      0.64       422\n",
      "\n",
      "~~~~~~~~~~~~~~~~~~~~~~~~~~~~~~~~~~~~~~~~~~~~~~~~~~~~~~~~~~~~\n",
      "\n",
      "train report:\n",
      "              precision    recall  f1-score   support\n",
      "\n",
      "           0       0.46      1.00      0.63       197\n",
      "           1       1.00      0.47      0.64       435\n",
      "\n",
      "    accuracy                           0.63       632\n",
      "   macro avg       0.73      0.73      0.63       632\n",
      "weighted avg       0.83      0.63      0.63       632\n",
      "\n",
      "------------------------------------------------------------\n"
     ]
    },
    {
     "data": {
      "text/plain": [
       "AdaBoostRegressor()"
      ]
     },
     "execution_count": 39,
     "metadata": {},
     "output_type": "execute_result"
    },
    {
     "name": "stdout",
     "output_type": "stream",
     "text": [
      "ABR Accuracy Score is :  0\n",
      "Model: ABR\n",
      "------------------------------------------------------------\n"
     ]
    },
    {
     "data": {
      "image/png": "[encoded data removed]",
      "text/plain": [
       "<Figure size 432x288 with 2 Axes>"
      ]
     },
     "metadata": {},
     "output_type": "display_data"
    },
    {
     "name": "stdout",
     "output_type": "stream",
     "text": [
      "test accuracy: 0.43\n",
      "train accuracy: 0.41\n",
      "------------------------------------------------------------\n",
      "------------------------------------------------------------\n",
      "Confusion Matrix:\n",
      " Predicted    0   1  All\n",
      "Actual                 \n",
      "0          129   0  129\n",
      "1          239  54  293\n",
      "All        368  54  422\n",
      "\n",
      "test report:\n",
      "              precision    recall  f1-score   support\n",
      "\n",
      "           0       0.35      1.00      0.52       129\n",
      "           1       1.00      0.18      0.31       293\n",
      "\n",
      "    accuracy                           0.43       422\n",
      "   macro avg       0.68      0.59      0.42       422\n",
      "weighted avg       0.80      0.43      0.37       422\n",
      "\n",
      "~~~~~~~~~~~~~~~~~~~~~~~~~~~~~~~~~~~~~~~~~~~~~~~~~~~~~~~~~~~~\n",
      "\n",
      "train report:\n",
      "              precision    recall  f1-score   support\n",
      "\n",
      "           0       0.34      1.00      0.51       197\n",
      "           1       1.00      0.14      0.24       435\n",
      "\n",
      "    accuracy                           0.41       632\n",
      "   macro avg       0.67      0.57      0.38       632\n",
      "weighted avg       0.80      0.41      0.32       632\n",
      "\n",
      "------------------------------------------------------------\n"
     ]
    }
   ],
   "source": [
    "models=[]\n",
    "\n",
    "models.append(('NB', GaussianNB()))\n",
    "models.append(('SVM', SVC()))\n",
    "models.append(('RF', RandomForestRegressor()))\n",
    "models.append(('XGB', XGBClassifier()))\n",
    "models.append(('GBR', GradientBoostingRegressor()))\n",
    "models.append(('ABR', AdaBoostRegressor()))\n",
    "\n",
    "for name,model in models:\n",
    "    model.fit(X_train, y_train)\n",
    "    y_hat_test = model.predict(X_test).astype(int)\n",
    "    y_hat_train = model.predict(X_train).astype(int)\n",
    "    print(name,'Accuracy Score is : ', round(accuracy_score(y_test, y_hat_test)))\n",
    "\n",
    "    metrics(name, y_train, y_test, y_hat_train, y_hat_test)\n",
    "    "
   ]
  },
  {
   "cell_type": "code",
   "execution_count": null,
   "id": "atomic-swift",
   "metadata": {},
   "outputs": [],
   "source": []
  },
  {
   "cell_type": "markdown",
   "id": "adverse-leone",
   "metadata": {},
   "source": [
    "# Accuracy of all models"
   ]
  },
  {
   "cell_type": "code",
   "execution_count": 40,
   "id": "monetary-mechanics",
   "metadata": {},
   "outputs": [
    {
     "name": "stdout",
     "output_type": "stream",
     "text": [
      "NB Accuracy Score is :  0.94\n",
      "SVM Accuracy Score is :  0.78\n",
      "RF Accuracy Score is :  0.63\n",
      "XGB Accuracy Score is :  0.99\n",
      "GBR Accuracy Score is :  0.64\n",
      "ABR Accuracy Score is :  0.43\n"
     ]
    }
   ],
   "source": [
    "for name, model in models:\n",
    "    \n",
    "    y_hat_test = model.predict(X_test).astype(int)\n",
    "    y_hat_train = model.predict(X_train).astype(int)\n",
    "    print(name, 'Accuracy Score is : ',round( accuracy_score(y_test, y_hat_test),2))"
   ]
  },
  {
   "cell_type": "markdown",
   "id": "numeric-earthquake",
   "metadata": {},
   "source": [
    "#### Interpreting the Results:\n",
    "Logistic Regression model training and testing accuracy are 100%, Recall, Precision, F1score are 100% for both yes autism and no autism patients, FP, and False negative= Zero. Logistic Regression with default parameters is an ideal model.\n",
    "\n",
    "KNN model has test accuracy: 0.91,train accuracy: 0.95, and weight average Recall = 91%. so KNN is a good model.\n",
    "\n",
    "The decision tree model has test accuracy: 0.91 and train accuracy: 1.0. This model has to be hyper tuned to adjust the overfitting, so it is not accepted. NaieveBays model has test accuracy: 0.94, train accuracy: 0.95, and Weighted average Recall 94%, so naieve bayes is a good model.\n",
    "\n",
    "The support vector machine and random forest have a low accuracy score before hyper tuned, so they are rejected.\n",
    "\n",
    "XG Boosting has test accuracy: 0.99, train accuracy: 1.0, and Weighted average Recall for positive cases =99%, So XG Boosting is an ideal model ranked number#2 after Logistic Regression.\n",
    "\n",
    "GradientBoosting and ADA Boosting have low accuracy, so they are rejected. In summary, out of these 10 models, I will choose Logist Regression, and XG Boosting.\n",
    "\n",
    "Now, We will try to hyper tune support vector machine using grid search without pipeline, then we will hyper tune random forest using grid-search with the pipeline, additionally, we will model with a neural network through sikit learn, and Keras library."
   ]
  },
  {
   "cell_type": "code",
   "execution_count": 38,
   "id": "confident-publisher",
   "metadata": {},
   "outputs": [],
   "source": [
    "##Tuning hyperparametres for SVC"
   ]
  },
  {
   "cell_type": "code",
   "execution_count": 41,
   "id": "several-reynolds",
   "metadata": {},
   "outputs": [
    {
     "name": "stdout",
     "output_type": "stream",
     "text": [
      "Fitting 10 folds for each of 128 candidates, totalling 1280 fits\n",
      "[CV] END ....................C=0.1, gamma=0.1, kernel=linear; total time=   0.0s\n",
      "[CV] END ....................C=0.1, gamma=0.1, kernel=linear; total time=   0.0s\n",
      "[CV] END ....................C=0.1, gamma=0.1, kernel=linear; total time=   0.0s\n",
      "[CV] END ....................C=0.1, gamma=0.1, kernel=linear; total time=   0.0s\n",
      "[CV] END ....................C=0.1, gamma=0.1, kernel=linear; total time=   0.0s\n",
      "[CV] END ....................C=0.1, gamma=0.1, kernel=linear; total time=   0.0s\n",
      "[CV] END ....................C=0.1, gamma=0.1, kernel=linear; total time=   0.0s\n",
      "[CV] END ....................C=0.1, gamma=0.1, kernel=linear; total time=   0.0s\n",
      "[CV] END ....................C=0.1, gamma=0.1, kernel=linear; total time=   0.0s\n",
      "[CV] END ....................C=0.1, gamma=0.1, kernel=linear; total time=   0.0s\n",
      "[CV] END .......................C=0.1, gamma=0.1, kernel=rbf; total time=   0.0s\n",
      "[CV] END .......................C=0.1, gamma=0.1, kernel=rbf; total time=   0.0s\n",
      "[CV] END .......................C=0.1, gamma=0.1, kernel=rbf; total time=   0.0s\n",
      "[CV] END .......................C=0.1, gamma=0.1, kernel=rbf; total time=   0.0s\n",
      "[CV] END .......................C=0.1, gamma=0.1, kernel=rbf; total time=   0.0s\n",
      "[CV] END .......................C=0.1, gamma=0.1, kernel=rbf; total time=   0.0s\n",
      "[CV] END .......................C=0.1, gamma=0.1, kernel=rbf; total time=   0.0s\n",
      "[CV] END .......................C=0.1, gamma=0.1, kernel=rbf; total time=   0.0s\n",
      "[CV] END .......................C=0.1, gamma=0.1, kernel=rbf; total time=   0.0s\n",
      "[CV] END .......................C=0.1, gamma=0.1, kernel=rbf; total time=   0.0s\n",
      "[CV] END ....................C=0.1, gamma=0.8, kernel=linear; total time=   0.0s\n",
      "[CV] END ....................C=0.1, gamma=0.8, kernel=linear; total time=   0.0s\n",
      "[CV] END ....................C=0.1, gamma=0.8, kernel=linear; total time=   0.0s\n",
      "[CV] END ....................C=0.1, gamma=0.8, kernel=linear; total time=   0.0s\n",
      "[CV] END ....................C=0.1, gamma=0.8, kernel=linear; total time=   0.0s\n",
      "[CV] END ....................C=0.1, gamma=0.8, kernel=linear; total time=   0.0s\n",
      "[CV] END ....................C=0.1, gamma=0.8, kernel=linear; total time=   0.0s\n",
      "[CV] END ....................C=0.1, gamma=0.8, kernel=linear; total time=   0.0s\n",
      "[CV] END ....................C=0.1, gamma=0.8, kernel=linear; total time=   0.0s\n",
      "[CV] END ....................C=0.1, gamma=0.8, kernel=linear; total time=   0.0s\n",
      "[CV] END .......................C=0.1, gamma=0.8, kernel=rbf; total time=   0.0s\n",
      "[CV] END .......................C=0.1, gamma=0.8, kernel=rbf; total time=   0.0s\n",
      "[CV] END .......................C=0.1, gamma=0.8, kernel=rbf; total time=   0.0s\n",
      "[CV] END .......................C=0.1, gamma=0.8, kernel=rbf; total time=   0.0s\n",
      "[CV] END .......................C=0.1, gamma=0.8, kernel=rbf; total time=   0.0s\n",
      "[CV] END .......................C=0.1, gamma=0.8, kernel=rbf; total time=   0.0s\n",
      "[CV] END .......................C=0.1, gamma=0.8, kernel=rbf; total time=   0.0s\n",
      "[CV] END .......................C=0.1, gamma=0.8, kernel=rbf; total time=   0.0s\n",
      "[CV] END .......................C=0.1, gamma=0.8, kernel=rbf; total time=   0.0s\n",
      "[CV] END .......................C=0.1, gamma=0.8, kernel=rbf; total time=   0.0s\n",
      "[CV] END ....................C=0.1, gamma=0.9, kernel=linear; total time=   0.0s\n",
      "[CV] END ....................C=0.1, gamma=0.9, kernel=linear; total time=   0.0s\n",
      "[CV] END ....................C=0.1, gamma=0.9, kernel=linear; total time=   0.0s\n",
      "[CV] END ....................C=0.1, gamma=0.9, kernel=linear; total time=   0.0s\n",
      "[CV] END ....................C=0.1, gamma=0.9, kernel=linear; total time=   0.0s\n",
      "[CV] END ....................C=0.1, gamma=0.9, kernel=linear; total time=   0.0s\n",
      "[CV] END ....................C=0.1, gamma=0.9, kernel=linear; total time=   0.0s\n",
      "[CV] END ....................C=0.1, gamma=0.9, kernel=linear; total time=   0.0s\n",
      "[CV] END ....................C=0.1, gamma=0.9, kernel=linear; total time=   0.0s\n",
      "[CV] END ....................C=0.1, gamma=0.9, kernel=linear; total time=   0.0s\n",
      "[CV] END .......................C=0.1, gamma=0.9, kernel=rbf; total time=   0.0s\n",
      "[CV] END .......................C=0.1, gamma=0.9, kernel=rbf; total time=   0.0s\n",
      "[CV] END .......................C=0.1, gamma=0.9, kernel=rbf; total time=   0.0s\n",
      "[CV] END .......................C=0.1, gamma=0.9, kernel=rbf; total time=   0.0s\n",
      "[CV] END .......................C=0.1, gamma=0.9, kernel=rbf; total time=   0.0s\n",
      "[CV] END .......................C=0.1, gamma=0.9, kernel=rbf; total time=   0.0s\n",
      "[CV] END .......................C=0.1, gamma=0.9, kernel=rbf; total time=   0.0s\n",
      "[CV] END .......................C=0.1, gamma=0.9, kernel=rbf; total time=   0.0s\n",
      "[CV] END .......................C=0.1, gamma=0.9, kernel=rbf; total time=   0.0s\n",
      "[CV] END .......................C=0.1, gamma=0.9, kernel=rbf; total time=   0.0s\n",
      "[CV] END ......................C=0.1, gamma=1, kernel=linear; total time=   0.0s\n",
      "[CV] END ......................C=0.1, gamma=1, kernel=linear; total time=   0.0s\n",
      "[CV] END ......................C=0.1, gamma=1, kernel=linear; total time=   0.0s\n",
      "[CV] END ......................C=0.1, gamma=1, kernel=linear; total time=   0.0s\n",
      "[CV] END ......................C=0.1, gamma=1, kernel=linear; total time=   0.0s\n",
      "[CV] END ......................C=0.1, gamma=1, kernel=linear; total time=   0.0s\n",
      "[CV] END ......................C=0.1, gamma=1, kernel=linear; total time=   0.0s\n",
      "[CV] END ......................C=0.1, gamma=1, kernel=linear; total time=   0.0s\n",
      "[CV] END ......................C=0.1, gamma=1, kernel=linear; total time=   0.0s\n",
      "[CV] END ......................C=0.1, gamma=1, kernel=linear; total time=   0.0s\n",
      "[CV] END .........................C=0.1, gamma=1, kernel=rbf; total time=   0.0s\n",
      "[CV] END .........................C=0.1, gamma=1, kernel=rbf; total time=   0.0s\n",
      "[CV] END .........................C=0.1, gamma=1, kernel=rbf; total time=   0.0s\n",
      "[CV] END .........................C=0.1, gamma=1, kernel=rbf; total time=   0.0s\n",
      "[CV] END .........................C=0.1, gamma=1, kernel=rbf; total time=   0.0s\n",
      "[CV] END .........................C=0.1, gamma=1, kernel=rbf; total time=   0.0s\n",
      "[CV] END .........................C=0.1, gamma=1, kernel=rbf; total time=   0.0s\n",
      "[CV] END .........................C=0.1, gamma=1, kernel=rbf; total time=   0.0s\n",
      "[CV] END .........................C=0.1, gamma=1, kernel=rbf; total time=   0.0s\n",
      "[CV] END .........................C=0.1, gamma=1, kernel=rbf; total time=   0.0s\n",
      "[CV] END ....................C=0.1, gamma=1.1, kernel=linear; total time=   0.0s\n",
      "[CV] END ....................C=0.1, gamma=1.1, kernel=linear; total time=   0.0s\n",
      "[CV] END ....................C=0.1, gamma=1.1, kernel=linear; total time=   0.0s\n",
      "[CV] END ....................C=0.1, gamma=1.1, kernel=linear; total time=   0.0s\n",
      "[CV] END ....................C=0.1, gamma=1.1, kernel=linear; total time=   0.0s\n",
      "[CV] END ....................C=0.1, gamma=1.1, kernel=linear; total time=   0.0s\n",
      "[CV] END ....................C=0.1, gamma=1.1, kernel=linear; total time=   0.0s\n",
      "[CV] END ....................C=0.1, gamma=1.1, kernel=linear; total time=   0.0s\n",
      "[CV] END ....................C=0.1, gamma=1.1, kernel=linear; total time=   0.0s\n",
      "[CV] END ....................C=0.1, gamma=1.1, kernel=linear; total time=   0.0s\n",
      "[CV] END .......................C=0.1, gamma=1.1, kernel=rbf; total time=   0.0s\n",
      "[CV] END .......................C=0.1, gamma=1.1, kernel=rbf; total time=   0.0s\n",
      "[CV] END .......................C=0.1, gamma=1.1, kernel=rbf; total time=   0.0s\n",
      "[CV] END .......................C=0.1, gamma=1.1, kernel=rbf; total time=   0.0s\n",
      "[CV] END .......................C=0.1, gamma=1.1, kernel=rbf; total time=   0.0s\n",
      "[CV] END .......................C=0.1, gamma=1.1, kernel=rbf; total time=   0.0s\n",
      "[CV] END .......................C=0.1, gamma=1.1, kernel=rbf; total time=   0.0s\n",
      "[CV] END .......................C=0.1, gamma=1.1, kernel=rbf; total time=   0.0s\n",
      "[CV] END .......................C=0.1, gamma=1.1, kernel=rbf; total time=   0.0s\n",
      "[CV] END .......................C=0.1, gamma=1.1, kernel=rbf; total time=   0.0s\n",
      "[CV] END ....................C=0.1, gamma=1.2, kernel=linear; total time=   0.0s\n",
      "[CV] END ....................C=0.1, gamma=1.2, kernel=linear; total time=   0.0s\n",
      "[CV] END ....................C=0.1, gamma=1.2, kernel=linear; total time=   0.0s\n",
      "[CV] END ....................C=0.1, gamma=1.2, kernel=linear; total time=   0.0s\n",
      "[CV] END ....................C=0.1, gamma=1.2, kernel=linear; total time=   0.0s\n",
      "[CV] END ....................C=0.1, gamma=1.2, kernel=linear; total time=   0.0s\n",
      "[CV] END ....................C=0.1, gamma=1.2, kernel=linear; total time=   0.0s\n",
      "[CV] END ....................C=0.1, gamma=1.2, kernel=linear; total time=   0.0s\n",
      "[CV] END ....................C=0.1, gamma=1.2, kernel=linear; total time=   0.0s\n",
      "[CV] END ....................C=0.1, gamma=1.2, kernel=linear; total time=   0.0s\n"
     ]
    },
    {
     "name": "stdout",
     "output_type": "stream",
     "text": [
      "[CV] END .......................C=0.1, gamma=1.2, kernel=rbf; total time=   0.0s\n",
      "[CV] END .......................C=0.1, gamma=1.2, kernel=rbf; total time=   0.0s\n",
      "[CV] END .......................C=0.1, gamma=1.2, kernel=rbf; total time=   0.0s\n",
      "[CV] END .......................C=0.1, gamma=1.2, kernel=rbf; total time=   0.0s\n",
      "[CV] END .......................C=0.1, gamma=1.2, kernel=rbf; total time=   0.0s\n",
      "[CV] END .......................C=0.1, gamma=1.2, kernel=rbf; total time=   0.0s\n",
      "[CV] END .......................C=0.1, gamma=1.2, kernel=rbf; total time=   0.0s\n",
      "[CV] END .......................C=0.1, gamma=1.2, kernel=rbf; total time=   0.0s\n",
      "[CV] END .......................C=0.1, gamma=1.2, kernel=rbf; total time=   0.0s\n",
      "[CV] END .......................C=0.1, gamma=1.2, kernel=rbf; total time=   0.0s\n",
      "[CV] END ....................C=0.1, gamma=1.3, kernel=linear; total time=   0.0s\n",
      "[CV] END ....................C=0.1, gamma=1.3, kernel=linear; total time=   0.0s\n",
      "[CV] END ....................C=0.1, gamma=1.3, kernel=linear; total time=   0.0s\n",
      "[CV] END ....................C=0.1, gamma=1.3, kernel=linear; total time=   0.0s\n",
      "[CV] END ....................C=0.1, gamma=1.3, kernel=linear; total time=   0.0s\n",
      "[CV] END ....................C=0.1, gamma=1.3, kernel=linear; total time=   0.0s\n",
      "[CV] END ....................C=0.1, gamma=1.3, kernel=linear; total time=   0.0s\n",
      "[CV] END ....................C=0.1, gamma=1.3, kernel=linear; total time=   0.0s\n",
      "[CV] END ....................C=0.1, gamma=1.3, kernel=linear; total time=   0.0s\n",
      "[CV] END ....................C=0.1, gamma=1.3, kernel=linear; total time=   0.0s\n",
      "[CV] END .......................C=0.1, gamma=1.3, kernel=rbf; total time=   0.0s\n",
      "[CV] END .......................C=0.1, gamma=1.3, kernel=rbf; total time=   0.0s\n",
      "[CV] END .......................C=0.1, gamma=1.3, kernel=rbf; total time=   0.0s\n",
      "[CV] END .......................C=0.1, gamma=1.3, kernel=rbf; total time=   0.0s\n",
      "[CV] END .......................C=0.1, gamma=1.3, kernel=rbf; total time=   0.0s\n",
      "[CV] END .......................C=0.1, gamma=1.3, kernel=rbf; total time=   0.0s\n",
      "[CV] END .......................C=0.1, gamma=1.3, kernel=rbf; total time=   0.0s\n",
      "[CV] END .......................C=0.1, gamma=1.3, kernel=rbf; total time=   0.0s\n",
      "[CV] END .......................C=0.1, gamma=1.3, kernel=rbf; total time=   0.0s\n",
      "[CV] END .......................C=0.1, gamma=1.3, kernel=rbf; total time=   0.0s\n",
      "[CV] END ....................C=0.1, gamma=1.4, kernel=linear; total time=   0.0s\n",
      "[CV] END ....................C=0.1, gamma=1.4, kernel=linear; total time=   0.0s\n",
      "[CV] END ....................C=0.1, gamma=1.4, kernel=linear; total time=   0.0s\n",
      "[CV] END ....................C=0.1, gamma=1.4, kernel=linear; total time=   0.0s\n",
      "[CV] END ....................C=0.1, gamma=1.4, kernel=linear; total time=   0.0s\n",
      "[CV] END ....................C=0.1, gamma=1.4, kernel=linear; total time=   0.0s\n",
      "[CV] END ....................C=0.1, gamma=1.4, kernel=linear; total time=   0.0s\n",
      "[CV] END ....................C=0.1, gamma=1.4, kernel=linear; total time=   0.0s\n",
      "[CV] END ....................C=0.1, gamma=1.4, kernel=linear; total time=   0.0s\n",
      "[CV] END ....................C=0.1, gamma=1.4, kernel=linear; total time=   0.0s\n",
      "[CV] END .......................C=0.1, gamma=1.4, kernel=rbf; total time=   0.0s\n",
      "[CV] END .......................C=0.1, gamma=1.4, kernel=rbf; total time=   0.0s\n",
      "[CV] END .......................C=0.1, gamma=1.4, kernel=rbf; total time=   0.0s\n",
      "[CV] END .......................C=0.1, gamma=1.4, kernel=rbf; total time=   0.0s\n",
      "[CV] END .......................C=0.1, gamma=1.4, kernel=rbf; total time=   0.0s\n",
      "[CV] END .......................C=0.1, gamma=1.4, kernel=rbf; total time=   0.0s\n",
      "[CV] END .......................C=0.1, gamma=1.4, kernel=rbf; total time=   0.0s\n",
      "[CV] END .......................C=0.1, gamma=1.4, kernel=rbf; total time=   0.0s\n",
      "[CV] END .......................C=0.1, gamma=1.4, kernel=rbf; total time=   0.0s\n",
      "[CV] END .......................C=0.1, gamma=1.4, kernel=rbf; total time=   0.0s\n",
      "[CV] END ....................C=0.8, gamma=0.1, kernel=linear; total time=   0.0s\n",
      "[CV] END ....................C=0.8, gamma=0.1, kernel=linear; total time=   0.0s\n",
      "[CV] END ....................C=0.8, gamma=0.1, kernel=linear; total time=   0.0s\n",
      "[CV] END ....................C=0.8, gamma=0.1, kernel=linear; total time=   0.0s\n",
      "[CV] END ....................C=0.8, gamma=0.1, kernel=linear; total time=   0.0s\n",
      "[CV] END ....................C=0.8, gamma=0.1, kernel=linear; total time=   0.0s\n",
      "[CV] END ....................C=0.8, gamma=0.1, kernel=linear; total time=   0.0s\n",
      "[CV] END ....................C=0.8, gamma=0.1, kernel=linear; total time=   0.0s\n",
      "[CV] END ....................C=0.8, gamma=0.1, kernel=linear; total time=   0.0s\n",
      "[CV] END ....................C=0.8, gamma=0.1, kernel=linear; total time=   0.0s\n",
      "[CV] END .......................C=0.8, gamma=0.1, kernel=rbf; total time=   0.0s\n",
      "[CV] END .......................C=0.8, gamma=0.1, kernel=rbf; total time=   0.0s\n",
      "[CV] END .......................C=0.8, gamma=0.1, kernel=rbf; total time=   0.0s\n",
      "[CV] END .......................C=0.8, gamma=0.1, kernel=rbf; total time=   0.0s\n",
      "[CV] END .......................C=0.8, gamma=0.1, kernel=rbf; total time=   0.0s\n",
      "[CV] END .......................C=0.8, gamma=0.1, kernel=rbf; total time=   0.0s\n",
      "[CV] END .......................C=0.8, gamma=0.1, kernel=rbf; total time=   0.0s\n",
      "[CV] END .......................C=0.8, gamma=0.1, kernel=rbf; total time=   0.0s\n",
      "[CV] END .......................C=0.8, gamma=0.1, kernel=rbf; total time=   0.0s\n",
      "[CV] END .......................C=0.8, gamma=0.1, kernel=rbf; total time=   0.0s\n",
      "[CV] END ....................C=0.8, gamma=0.8, kernel=linear; total time=   0.0s\n",
      "[CV] END ....................C=0.8, gamma=0.8, kernel=linear; total time=   0.0s\n",
      "[CV] END ....................C=0.8, gamma=0.8, kernel=linear; total time=   0.0s\n",
      "[CV] END ....................C=0.8, gamma=0.8, kernel=linear; total time=   0.0s\n",
      "[CV] END ....................C=0.8, gamma=0.8, kernel=linear; total time=   0.0s\n",
      "[CV] END ....................C=0.8, gamma=0.8, kernel=linear; total time=   0.0s\n",
      "[CV] END ....................C=0.8, gamma=0.8, kernel=linear; total time=   0.0s\n",
      "[CV] END ....................C=0.8, gamma=0.8, kernel=linear; total time=   0.0s\n",
      "[CV] END ....................C=0.8, gamma=0.8, kernel=linear; total time=   0.0s\n",
      "[CV] END ....................C=0.8, gamma=0.8, kernel=linear; total time=   0.0s\n",
      "[CV] END .......................C=0.8, gamma=0.8, kernel=rbf; total time=   0.0s\n",
      "[CV] END .......................C=0.8, gamma=0.8, kernel=rbf; total time=   0.0s\n",
      "[CV] END .......................C=0.8, gamma=0.8, kernel=rbf; total time=   0.0s\n",
      "[CV] END .......................C=0.8, gamma=0.8, kernel=rbf; total time=   0.0s\n",
      "[CV] END .......................C=0.8, gamma=0.8, kernel=rbf; total time=   0.0s\n",
      "[CV] END .......................C=0.8, gamma=0.8, kernel=rbf; total time=   0.0s\n",
      "[CV] END .......................C=0.8, gamma=0.8, kernel=rbf; total time=   0.0s\n",
      "[CV] END .......................C=0.8, gamma=0.8, kernel=rbf; total time=   0.0s\n",
      "[CV] END .......................C=0.8, gamma=0.8, kernel=rbf; total time=   0.0s\n",
      "[CV] END .......................C=0.8, gamma=0.8, kernel=rbf; total time=   0.0s\n",
      "[CV] END ....................C=0.8, gamma=0.9, kernel=linear; total time=   0.0s\n",
      "[CV] END ....................C=0.8, gamma=0.9, kernel=linear; total time=   0.0s\n",
      "[CV] END ....................C=0.8, gamma=0.9, kernel=linear; total time=   0.0s\n",
      "[CV] END ....................C=0.8, gamma=0.9, kernel=linear; total time=   0.0s\n",
      "[CV] END ....................C=0.8, gamma=0.9, kernel=linear; total time=   0.0s\n",
      "[CV] END ....................C=0.8, gamma=0.9, kernel=linear; total time=   0.0s\n",
      "[CV] END ....................C=0.8, gamma=0.9, kernel=linear; total time=   0.0s\n",
      "[CV] END ....................C=0.8, gamma=0.9, kernel=linear; total time=   0.0s\n",
      "[CV] END ....................C=0.8, gamma=0.9, kernel=linear; total time=   0.0s\n",
      "[CV] END ....................C=0.8, gamma=0.9, kernel=linear; total time=   0.0s\n",
      "[CV] END .......................C=0.8, gamma=0.9, kernel=rbf; total time=   0.0s\n",
      "[CV] END .......................C=0.8, gamma=0.9, kernel=rbf; total time=   0.0s\n"
     ]
    },
    {
     "name": "stdout",
     "output_type": "stream",
     "text": [
      "[CV] END .......................C=0.8, gamma=0.9, kernel=rbf; total time=   0.0s\n",
      "[CV] END .......................C=0.8, gamma=0.9, kernel=rbf; total time=   0.0s\n",
      "[CV] END .......................C=0.8, gamma=0.9, kernel=rbf; total time=   0.0s\n",
      "[CV] END .......................C=0.8, gamma=0.9, kernel=rbf; total time=   0.0s\n",
      "[CV] END .......................C=0.8, gamma=0.9, kernel=rbf; total time=   0.0s\n",
      "[CV] END .......................C=0.8, gamma=0.9, kernel=rbf; total time=   0.0s\n",
      "[CV] END .......................C=0.8, gamma=0.9, kernel=rbf; total time=   0.0s\n",
      "[CV] END .......................C=0.8, gamma=0.9, kernel=rbf; total time=   0.0s\n",
      "[CV] END ......................C=0.8, gamma=1, kernel=linear; total time=   0.0s\n",
      "[CV] END ......................C=0.8, gamma=1, kernel=linear; total time=   0.0s\n",
      "[CV] END ......................C=0.8, gamma=1, kernel=linear; total time=   0.0s\n",
      "[CV] END ......................C=0.8, gamma=1, kernel=linear; total time=   0.0s\n",
      "[CV] END ......................C=0.8, gamma=1, kernel=linear; total time=   0.0s\n",
      "[CV] END ......................C=0.8, gamma=1, kernel=linear; total time=   0.0s\n",
      "[CV] END ......................C=0.8, gamma=1, kernel=linear; total time=   0.0s\n",
      "[CV] END ......................C=0.8, gamma=1, kernel=linear; total time=   0.0s\n",
      "[CV] END ......................C=0.8, gamma=1, kernel=linear; total time=   0.0s\n",
      "[CV] END ......................C=0.8, gamma=1, kernel=linear; total time=   0.0s\n",
      "[CV] END .........................C=0.8, gamma=1, kernel=rbf; total time=   0.0s\n",
      "[CV] END .........................C=0.8, gamma=1, kernel=rbf; total time=   0.0s\n",
      "[CV] END .........................C=0.8, gamma=1, kernel=rbf; total time=   0.0s\n",
      "[CV] END .........................C=0.8, gamma=1, kernel=rbf; total time=   0.0s\n",
      "[CV] END .........................C=0.8, gamma=1, kernel=rbf; total time=   0.0s\n",
      "[CV] END .........................C=0.8, gamma=1, kernel=rbf; total time=   0.0s\n",
      "[CV] END .........................C=0.8, gamma=1, kernel=rbf; total time=   0.0s\n",
      "[CV] END .........................C=0.8, gamma=1, kernel=rbf; total time=   0.0s\n",
      "[CV] END .........................C=0.8, gamma=1, kernel=rbf; total time=   0.0s\n",
      "[CV] END .........................C=0.8, gamma=1, kernel=rbf; total time=   0.0s\n",
      "[CV] END ....................C=0.8, gamma=1.1, kernel=linear; total time=   0.0s\n",
      "[CV] END ....................C=0.8, gamma=1.1, kernel=linear; total time=   0.0s\n",
      "[CV] END ....................C=0.8, gamma=1.1, kernel=linear; total time=   0.0s\n",
      "[CV] END ....................C=0.8, gamma=1.1, kernel=linear; total time=   0.0s\n",
      "[CV] END ....................C=0.8, gamma=1.1, kernel=linear; total time=   0.0s\n",
      "[CV] END ....................C=0.8, gamma=1.1, kernel=linear; total time=   0.0s\n",
      "[CV] END ....................C=0.8, gamma=1.1, kernel=linear; total time=   0.0s\n",
      "[CV] END ....................C=0.8, gamma=1.1, kernel=linear; total time=   0.0s\n",
      "[CV] END ....................C=0.8, gamma=1.1, kernel=linear; total time=   0.0s\n",
      "[CV] END ....................C=0.8, gamma=1.1, kernel=linear; total time=   0.0s\n",
      "[CV] END .......................C=0.8, gamma=1.1, kernel=rbf; total time=   0.0s\n",
      "[CV] END .......................C=0.8, gamma=1.1, kernel=rbf; total time=   0.0s\n",
      "[CV] END .......................C=0.8, gamma=1.1, kernel=rbf; total time=   0.0s\n",
      "[CV] END .......................C=0.8, gamma=1.1, kernel=rbf; total time=   0.0s\n",
      "[CV] END .......................C=0.8, gamma=1.1, kernel=rbf; total time=   0.0s\n",
      "[CV] END .......................C=0.8, gamma=1.1, kernel=rbf; total time=   0.0s\n",
      "[CV] END .......................C=0.8, gamma=1.1, kernel=rbf; total time=   0.0s\n",
      "[CV] END .......................C=0.8, gamma=1.1, kernel=rbf; total time=   0.0s\n",
      "[CV] END .......................C=0.8, gamma=1.1, kernel=rbf; total time=   0.0s\n",
      "[CV] END .......................C=0.8, gamma=1.1, kernel=rbf; total time=   0.0s\n",
      "[CV] END ....................C=0.8, gamma=1.2, kernel=linear; total time=   0.0s\n",
      "[CV] END ....................C=0.8, gamma=1.2, kernel=linear; total time=   0.0s\n",
      "[CV] END ....................C=0.8, gamma=1.2, kernel=linear; total time=   0.0s\n",
      "[CV] END ....................C=0.8, gamma=1.2, kernel=linear; total time=   0.0s\n",
      "[CV] END ....................C=0.8, gamma=1.2, kernel=linear; total time=   0.0s\n",
      "[CV] END ....................C=0.8, gamma=1.2, kernel=linear; total time=   0.0s\n",
      "[CV] END ....................C=0.8, gamma=1.2, kernel=linear; total time=   0.0s\n",
      "[CV] END ....................C=0.8, gamma=1.2, kernel=linear; total time=   0.0s\n",
      "[CV] END ....................C=0.8, gamma=1.2, kernel=linear; total time=   0.0s\n",
      "[CV] END ....................C=0.8, gamma=1.2, kernel=linear; total time=   0.0s\n",
      "[CV] END .......................C=0.8, gamma=1.2, kernel=rbf; total time=   0.0s\n",
      "[CV] END .......................C=0.8, gamma=1.2, kernel=rbf; total time=   0.0s\n",
      "[CV] END .......................C=0.8, gamma=1.2, kernel=rbf; total time=   0.0s\n",
      "[CV] END .......................C=0.8, gamma=1.2, kernel=rbf; total time=   0.0s\n",
      "[CV] END .......................C=0.8, gamma=1.2, kernel=rbf; total time=   0.0s\n",
      "[CV] END .......................C=0.8, gamma=1.2, kernel=rbf; total time=   0.0s\n",
      "[CV] END .......................C=0.8, gamma=1.2, kernel=rbf; total time=   0.0s\n",
      "[CV] END .......................C=0.8, gamma=1.2, kernel=rbf; total time=   0.0s\n",
      "[CV] END .......................C=0.8, gamma=1.2, kernel=rbf; total time=   0.0s\n",
      "[CV] END .......................C=0.8, gamma=1.2, kernel=rbf; total time=   0.0s\n",
      "[CV] END ....................C=0.8, gamma=1.3, kernel=linear; total time=   0.0s\n",
      "[CV] END ....................C=0.8, gamma=1.3, kernel=linear; total time=   0.0s\n",
      "[CV] END ....................C=0.8, gamma=1.3, kernel=linear; total time=   0.0s\n",
      "[CV] END ....................C=0.8, gamma=1.3, kernel=linear; total time=   0.0s\n",
      "[CV] END ....................C=0.8, gamma=1.3, kernel=linear; total time=   0.0s\n",
      "[CV] END ....................C=0.8, gamma=1.3, kernel=linear; total time=   0.0s\n",
      "[CV] END ....................C=0.8, gamma=1.3, kernel=linear; total time=   0.0s\n",
      "[CV] END ....................C=0.8, gamma=1.3, kernel=linear; total time=   0.0s\n",
      "[CV] END ....................C=0.8, gamma=1.3, kernel=linear; total time=   0.0s\n",
      "[CV] END ....................C=0.8, gamma=1.3, kernel=linear; total time=   0.0s\n",
      "[CV] END .......................C=0.8, gamma=1.3, kernel=rbf; total time=   0.0s\n",
      "[CV] END .......................C=0.8, gamma=1.3, kernel=rbf; total time=   0.0s\n",
      "[CV] END .......................C=0.8, gamma=1.3, kernel=rbf; total time=   0.0s\n",
      "[CV] END .......................C=0.8, gamma=1.3, kernel=rbf; total time=   0.0s\n",
      "[CV] END .......................C=0.8, gamma=1.3, kernel=rbf; total time=   0.0s\n",
      "[CV] END .......................C=0.8, gamma=1.3, kernel=rbf; total time=   0.0s\n",
      "[CV] END .......................C=0.8, gamma=1.3, kernel=rbf; total time=   0.0s\n",
      "[CV] END .......................C=0.8, gamma=1.3, kernel=rbf; total time=   0.0s\n",
      "[CV] END .......................C=0.8, gamma=1.3, kernel=rbf; total time=   0.0s\n",
      "[CV] END .......................C=0.8, gamma=1.3, kernel=rbf; total time=   0.0s\n",
      "[CV] END ....................C=0.8, gamma=1.4, kernel=linear; total time=   0.0s\n",
      "[CV] END ....................C=0.8, gamma=1.4, kernel=linear; total time=   0.0s\n",
      "[CV] END ....................C=0.8, gamma=1.4, kernel=linear; total time=   0.0s\n",
      "[CV] END ....................C=0.8, gamma=1.4, kernel=linear; total time=   0.0s\n",
      "[CV] END ....................C=0.8, gamma=1.4, kernel=linear; total time=   0.0s\n",
      "[CV] END ....................C=0.8, gamma=1.4, kernel=linear; total time=   0.0s\n",
      "[CV] END ....................C=0.8, gamma=1.4, kernel=linear; total time=   0.0s\n",
      "[CV] END ....................C=0.8, gamma=1.4, kernel=linear; total time=   0.0s\n",
      "[CV] END ....................C=0.8, gamma=1.4, kernel=linear; total time=   0.0s\n",
      "[CV] END ....................C=0.8, gamma=1.4, kernel=linear; total time=   0.0s\n",
      "[CV] END .......................C=0.8, gamma=1.4, kernel=rbf; total time=   0.0s\n",
      "[CV] END .......................C=0.8, gamma=1.4, kernel=rbf; total time=   0.0s\n",
      "[CV] END .......................C=0.8, gamma=1.4, kernel=rbf; total time=   0.0s\n",
      "[CV] END .......................C=0.8, gamma=1.4, kernel=rbf; total time=   0.0s\n"
     ]
    },
    {
     "name": "stdout",
     "output_type": "stream",
     "text": [
      "[CV] END .......................C=0.8, gamma=1.4, kernel=rbf; total time=   0.0s\n",
      "[CV] END .......................C=0.8, gamma=1.4, kernel=rbf; total time=   0.0s\n",
      "[CV] END .......................C=0.8, gamma=1.4, kernel=rbf; total time=   0.0s\n",
      "[CV] END .......................C=0.8, gamma=1.4, kernel=rbf; total time=   0.0s\n",
      "[CV] END .......................C=0.8, gamma=1.4, kernel=rbf; total time=   0.0s\n",
      "[CV] END .......................C=0.8, gamma=1.4, kernel=rbf; total time=   0.0s\n",
      "[CV] END ....................C=0.9, gamma=0.1, kernel=linear; total time=   0.0s\n",
      "[CV] END ....................C=0.9, gamma=0.1, kernel=linear; total time=   0.0s\n",
      "[CV] END ....................C=0.9, gamma=0.1, kernel=linear; total time=   0.0s\n",
      "[CV] END ....................C=0.9, gamma=0.1, kernel=linear; total time=   0.0s\n",
      "[CV] END ....................C=0.9, gamma=0.1, kernel=linear; total time=   0.0s\n",
      "[CV] END ....................C=0.9, gamma=0.1, kernel=linear; total time=   0.0s\n",
      "[CV] END ....................C=0.9, gamma=0.1, kernel=linear; total time=   0.0s\n",
      "[CV] END ....................C=0.9, gamma=0.1, kernel=linear; total time=   0.0s\n",
      "[CV] END ....................C=0.9, gamma=0.1, kernel=linear; total time=   0.0s\n",
      "[CV] END ....................C=0.9, gamma=0.1, kernel=linear; total time=   0.0s\n",
      "[CV] END .......................C=0.9, gamma=0.1, kernel=rbf; total time=   0.0s\n",
      "[CV] END .......................C=0.9, gamma=0.1, kernel=rbf; total time=   0.0s\n",
      "[CV] END .......................C=0.9, gamma=0.1, kernel=rbf; total time=   0.0s\n",
      "[CV] END .......................C=0.9, gamma=0.1, kernel=rbf; total time=   0.0s\n",
      "[CV] END .......................C=0.9, gamma=0.1, kernel=rbf; total time=   0.0s\n",
      "[CV] END .......................C=0.9, gamma=0.1, kernel=rbf; total time=   0.0s\n",
      "[CV] END .......................C=0.9, gamma=0.1, kernel=rbf; total time=   0.0s\n",
      "[CV] END .......................C=0.9, gamma=0.1, kernel=rbf; total time=   0.0s\n",
      "[CV] END .......................C=0.9, gamma=0.1, kernel=rbf; total time=   0.0s\n",
      "[CV] END .......................C=0.9, gamma=0.1, kernel=rbf; total time=   0.0s\n",
      "[CV] END ....................C=0.9, gamma=0.8, kernel=linear; total time=   0.0s\n",
      "[CV] END ....................C=0.9, gamma=0.8, kernel=linear; total time=   0.0s\n",
      "[CV] END ....................C=0.9, gamma=0.8, kernel=linear; total time=   0.0s\n",
      "[CV] END ....................C=0.9, gamma=0.8, kernel=linear; total time=   0.0s\n",
      "[CV] END ....................C=0.9, gamma=0.8, kernel=linear; total time=   0.0s\n",
      "[CV] END ....................C=0.9, gamma=0.8, kernel=linear; total time=   0.0s\n",
      "[CV] END ....................C=0.9, gamma=0.8, kernel=linear; total time=   0.0s\n",
      "[CV] END ....................C=0.9, gamma=0.8, kernel=linear; total time=   0.0s\n",
      "[CV] END ....................C=0.9, gamma=0.8, kernel=linear; total time=   0.0s\n",
      "[CV] END ....................C=0.9, gamma=0.8, kernel=linear; total time=   0.0s\n",
      "[CV] END .......................C=0.9, gamma=0.8, kernel=rbf; total time=   0.0s\n",
      "[CV] END .......................C=0.9, gamma=0.8, kernel=rbf; total time=   0.0s\n",
      "[CV] END .......................C=0.9, gamma=0.8, kernel=rbf; total time=   0.0s\n",
      "[CV] END .......................C=0.9, gamma=0.8, kernel=rbf; total time=   0.0s\n",
      "[CV] END .......................C=0.9, gamma=0.8, kernel=rbf; total time=   0.0s\n",
      "[CV] END .......................C=0.9, gamma=0.8, kernel=rbf; total time=   0.0s\n",
      "[CV] END .......................C=0.9, gamma=0.8, kernel=rbf; total time=   0.0s\n",
      "[CV] END .......................C=0.9, gamma=0.8, kernel=rbf; total time=   0.0s\n",
      "[CV] END .......................C=0.9, gamma=0.8, kernel=rbf; total time=   0.0s\n",
      "[CV] END .......................C=0.9, gamma=0.8, kernel=rbf; total time=   0.0s\n",
      "[CV] END ....................C=0.9, gamma=0.9, kernel=linear; total time=   0.0s\n",
      "[CV] END ....................C=0.9, gamma=0.9, kernel=linear; total time=   0.0s\n",
      "[CV] END ....................C=0.9, gamma=0.9, kernel=linear; total time=   0.0s\n",
      "[CV] END ....................C=0.9, gamma=0.9, kernel=linear; total time=   0.0s\n",
      "[CV] END ....................C=0.9, gamma=0.9, kernel=linear; total time=   0.0s\n",
      "[CV] END ....................C=0.9, gamma=0.9, kernel=linear; total time=   0.0s\n",
      "[CV] END ....................C=0.9, gamma=0.9, kernel=linear; total time=   0.0s\n",
      "[CV] END ....................C=0.9, gamma=0.9, kernel=linear; total time=   0.0s\n",
      "[CV] END ....................C=0.9, gamma=0.9, kernel=linear; total time=   0.0s\n",
      "[CV] END ....................C=0.9, gamma=0.9, kernel=linear; total time=   0.0s\n",
      "[CV] END .......................C=0.9, gamma=0.9, kernel=rbf; total time=   0.0s\n",
      "[CV] END .......................C=0.9, gamma=0.9, kernel=rbf; total time=   0.0s\n",
      "[CV] END .......................C=0.9, gamma=0.9, kernel=rbf; total time=   0.0s\n",
      "[CV] END .......................C=0.9, gamma=0.9, kernel=rbf; total time=   0.0s\n",
      "[CV] END .......................C=0.9, gamma=0.9, kernel=rbf; total time=   0.0s\n",
      "[CV] END .......................C=0.9, gamma=0.9, kernel=rbf; total time=   0.0s\n",
      "[CV] END .......................C=0.9, gamma=0.9, kernel=rbf; total time=   0.0s\n",
      "[CV] END .......................C=0.9, gamma=0.9, kernel=rbf; total time=   0.0s\n",
      "[CV] END .......................C=0.9, gamma=0.9, kernel=rbf; total time=   0.0s\n",
      "[CV] END .......................C=0.9, gamma=0.9, kernel=rbf; total time=   0.0s\n",
      "[CV] END ......................C=0.9, gamma=1, kernel=linear; total time=   0.0s\n",
      "[CV] END ......................C=0.9, gamma=1, kernel=linear; total time=   0.0s\n",
      "[CV] END ......................C=0.9, gamma=1, kernel=linear; total time=   0.0s\n",
      "[CV] END ......................C=0.9, gamma=1, kernel=linear; total time=   0.0s\n",
      "[CV] END ......................C=0.9, gamma=1, kernel=linear; total time=   0.0s\n",
      "[CV] END ......................C=0.9, gamma=1, kernel=linear; total time=   0.0s\n",
      "[CV] END ......................C=0.9, gamma=1, kernel=linear; total time=   0.0s\n",
      "[CV] END ......................C=0.9, gamma=1, kernel=linear; total time=   0.0s\n",
      "[CV] END ......................C=0.9, gamma=1, kernel=linear; total time=   0.0s\n",
      "[CV] END ......................C=0.9, gamma=1, kernel=linear; total time=   0.0s\n",
      "[CV] END .........................C=0.9, gamma=1, kernel=rbf; total time=   0.0s\n",
      "[CV] END .........................C=0.9, gamma=1, kernel=rbf; total time=   0.0s\n",
      "[CV] END .........................C=0.9, gamma=1, kernel=rbf; total time=   0.0s\n",
      "[CV] END .........................C=0.9, gamma=1, kernel=rbf; total time=   0.0s\n",
      "[CV] END .........................C=0.9, gamma=1, kernel=rbf; total time=   0.0s\n",
      "[CV] END .........................C=0.9, gamma=1, kernel=rbf; total time=   0.0s\n",
      "[CV] END .........................C=0.9, gamma=1, kernel=rbf; total time=   0.0s\n",
      "[CV] END .........................C=0.9, gamma=1, kernel=rbf; total time=   0.0s\n",
      "[CV] END .........................C=0.9, gamma=1, kernel=rbf; total time=   0.0s\n",
      "[CV] END .........................C=0.9, gamma=1, kernel=rbf; total time=   0.0s\n",
      "[CV] END ....................C=0.9, gamma=1.1, kernel=linear; total time=   0.0s\n",
      "[CV] END ....................C=0.9, gamma=1.1, kernel=linear; total time=   0.0s\n",
      "[CV] END ....................C=0.9, gamma=1.1, kernel=linear; total time=   0.0s\n",
      "[CV] END ....................C=0.9, gamma=1.1, kernel=linear; total time=   0.0s\n",
      "[CV] END ....................C=0.9, gamma=1.1, kernel=linear; total time=   0.0s\n",
      "[CV] END ....................C=0.9, gamma=1.1, kernel=linear; total time=   0.0s\n",
      "[CV] END ....................C=0.9, gamma=1.1, kernel=linear; total time=   0.0s\n",
      "[CV] END ....................C=0.9, gamma=1.1, kernel=linear; total time=   0.0s\n",
      "[CV] END ....................C=0.9, gamma=1.1, kernel=linear; total time=   0.0s\n",
      "[CV] END ....................C=0.9, gamma=1.1, kernel=linear; total time=   0.0s\n",
      "[CV] END .......................C=0.9, gamma=1.1, kernel=rbf; total time=   0.0s\n",
      "[CV] END .......................C=0.9, gamma=1.1, kernel=rbf; total time=   0.0s\n",
      "[CV] END .......................C=0.9, gamma=1.1, kernel=rbf; total time=   0.0s\n",
      "[CV] END .......................C=0.9, gamma=1.1, kernel=rbf; total time=   0.0s\n",
      "[CV] END .......................C=0.9, gamma=1.1, kernel=rbf; total time=   0.0s\n",
      "[CV] END .......................C=0.9, gamma=1.1, kernel=rbf; total time=   0.0s\n",
      "[CV] END .......................C=0.9, gamma=1.1, kernel=rbf; total time=   0.0s\n",
      "[CV] END .......................C=0.9, gamma=1.1, kernel=rbf; total time=   0.0s\n",
      "[CV] END .......................C=0.9, gamma=1.1, kernel=rbf; total time=   0.0s\n"
     ]
    },
    {
     "name": "stdout",
     "output_type": "stream",
     "text": [
      "[CV] END .......................C=0.9, gamma=1.1, kernel=rbf; total time=   0.0s\n",
      "[CV] END ....................C=0.9, gamma=1.2, kernel=linear; total time=   0.0s\n",
      "[CV] END ....................C=0.9, gamma=1.2, kernel=linear; total time=   0.0s\n",
      "[CV] END ....................C=0.9, gamma=1.2, kernel=linear; total time=   0.0s\n",
      "[CV] END ....................C=0.9, gamma=1.2, kernel=linear; total time=   0.0s\n",
      "[CV] END ....................C=0.9, gamma=1.2, kernel=linear; total time=   0.0s\n",
      "[CV] END ....................C=0.9, gamma=1.2, kernel=linear; total time=   0.0s\n",
      "[CV] END ....................C=0.9, gamma=1.2, kernel=linear; total time=   0.0s\n",
      "[CV] END ....................C=0.9, gamma=1.2, kernel=linear; total time=   0.0s\n",
      "[CV] END ....................C=0.9, gamma=1.2, kernel=linear; total time=   0.0s\n",
      "[CV] END ....................C=0.9, gamma=1.2, kernel=linear; total time=   0.0s\n",
      "[CV] END .......................C=0.9, gamma=1.2, kernel=rbf; total time=   0.0s\n",
      "[CV] END .......................C=0.9, gamma=1.2, kernel=rbf; total time=   0.0s\n",
      "[CV] END .......................C=0.9, gamma=1.2, kernel=rbf; total time=   0.0s\n",
      "[CV] END .......................C=0.9, gamma=1.2, kernel=rbf; total time=   0.0s\n",
      "[CV] END .......................C=0.9, gamma=1.2, kernel=rbf; total time=   0.0s\n",
      "[CV] END .......................C=0.9, gamma=1.2, kernel=rbf; total time=   0.0s\n",
      "[CV] END .......................C=0.9, gamma=1.2, kernel=rbf; total time=   0.0s\n",
      "[CV] END .......................C=0.9, gamma=1.2, kernel=rbf; total time=   0.0s\n",
      "[CV] END .......................C=0.9, gamma=1.2, kernel=rbf; total time=   0.0s\n",
      "[CV] END .......................C=0.9, gamma=1.2, kernel=rbf; total time=   0.0s\n",
      "[CV] END ....................C=0.9, gamma=1.3, kernel=linear; total time=   0.0s\n",
      "[CV] END ....................C=0.9, gamma=1.3, kernel=linear; total time=   0.0s\n",
      "[CV] END ....................C=0.9, gamma=1.3, kernel=linear; total time=   0.0s\n",
      "[CV] END ....................C=0.9, gamma=1.3, kernel=linear; total time=   0.0s\n",
      "[CV] END ....................C=0.9, gamma=1.3, kernel=linear; total time=   0.0s\n",
      "[CV] END ....................C=0.9, gamma=1.3, kernel=linear; total time=   0.0s\n",
      "[CV] END ....................C=0.9, gamma=1.3, kernel=linear; total time=   0.0s\n",
      "[CV] END ....................C=0.9, gamma=1.3, kernel=linear; total time=   0.0s\n",
      "[CV] END ....................C=0.9, gamma=1.3, kernel=linear; total time=   0.0s\n",
      "[CV] END ....................C=0.9, gamma=1.3, kernel=linear; total time=   0.0s\n",
      "[CV] END .......................C=0.9, gamma=1.3, kernel=rbf; total time=   0.0s\n",
      "[CV] END .......................C=0.9, gamma=1.3, kernel=rbf; total time=   0.0s\n",
      "[CV] END .......................C=0.9, gamma=1.3, kernel=rbf; total time=   0.0s\n",
      "[CV] END .......................C=0.9, gamma=1.3, kernel=rbf; total time=   0.0s\n",
      "[CV] END .......................C=0.9, gamma=1.3, kernel=rbf; total time=   0.0s\n",
      "[CV] END .......................C=0.9, gamma=1.3, kernel=rbf; total time=   0.0s\n",
      "[CV] END .......................C=0.9, gamma=1.3, kernel=rbf; total time=   0.0s\n",
      "[CV] END .......................C=0.9, gamma=1.3, kernel=rbf; total time=   0.0s\n",
      "[CV] END .......................C=0.9, gamma=1.3, kernel=rbf; total time=   0.0s\n",
      "[CV] END .......................C=0.9, gamma=1.3, kernel=rbf; total time=   0.0s\n",
      "[CV] END ....................C=0.9, gamma=1.4, kernel=linear; total time=   0.0s\n",
      "[CV] END ....................C=0.9, gamma=1.4, kernel=linear; total time=   0.0s\n",
      "[CV] END ....................C=0.9, gamma=1.4, kernel=linear; total time=   0.0s\n",
      "[CV] END ....................C=0.9, gamma=1.4, kernel=linear; total time=   0.0s\n",
      "[CV] END ....................C=0.9, gamma=1.4, kernel=linear; total time=   0.0s\n",
      "[CV] END ....................C=0.9, gamma=1.4, kernel=linear; total time=   0.0s\n",
      "[CV] END ....................C=0.9, gamma=1.4, kernel=linear; total time=   0.0s\n",
      "[CV] END ....................C=0.9, gamma=1.4, kernel=linear; total time=   0.0s\n",
      "[CV] END ....................C=0.9, gamma=1.4, kernel=linear; total time=   0.0s\n",
      "[CV] END ....................C=0.9, gamma=1.4, kernel=linear; total time=   0.0s\n",
      "[CV] END .......................C=0.9, gamma=1.4, kernel=rbf; total time=   0.0s\n",
      "[CV] END .......................C=0.9, gamma=1.4, kernel=rbf; total time=   0.0s\n",
      "[CV] END .......................C=0.9, gamma=1.4, kernel=rbf; total time=   0.0s\n",
      "[CV] END .......................C=0.9, gamma=1.4, kernel=rbf; total time=   0.0s\n",
      "[CV] END .......................C=0.9, gamma=1.4, kernel=rbf; total time=   0.0s\n",
      "[CV] END .......................C=0.9, gamma=1.4, kernel=rbf; total time=   0.0s\n",
      "[CV] END .......................C=0.9, gamma=1.4, kernel=rbf; total time=   0.0s\n",
      "[CV] END .......................C=0.9, gamma=1.4, kernel=rbf; total time=   0.0s\n",
      "[CV] END .......................C=0.9, gamma=1.4, kernel=rbf; total time=   0.0s\n",
      "[CV] END .......................C=0.9, gamma=1.4, kernel=rbf; total time=   0.0s\n",
      "[CV] END ......................C=1, gamma=0.1, kernel=linear; total time=   0.0s\n",
      "[CV] END ......................C=1, gamma=0.1, kernel=linear; total time=   0.0s\n",
      "[CV] END ......................C=1, gamma=0.1, kernel=linear; total time=   0.0s\n",
      "[CV] END ......................C=1, gamma=0.1, kernel=linear; total time=   0.0s\n",
      "[CV] END ......................C=1, gamma=0.1, kernel=linear; total time=   0.0s\n",
      "[CV] END ......................C=1, gamma=0.1, kernel=linear; total time=   0.0s\n",
      "[CV] END ......................C=1, gamma=0.1, kernel=linear; total time=   0.0s\n",
      "[CV] END ......................C=1, gamma=0.1, kernel=linear; total time=   0.0s\n",
      "[CV] END ......................C=1, gamma=0.1, kernel=linear; total time=   0.0s\n",
      "[CV] END ......................C=1, gamma=0.1, kernel=linear; total time=   0.0s\n",
      "[CV] END .........................C=1, gamma=0.1, kernel=rbf; total time=   0.0s\n",
      "[CV] END .........................C=1, gamma=0.1, kernel=rbf; total time=   0.0s\n",
      "[CV] END .........................C=1, gamma=0.1, kernel=rbf; total time=   0.0s\n",
      "[CV] END .........................C=1, gamma=0.1, kernel=rbf; total time=   0.0s\n",
      "[CV] END .........................C=1, gamma=0.1, kernel=rbf; total time=   0.0s\n",
      "[CV] END .........................C=1, gamma=0.1, kernel=rbf; total time=   0.0s\n",
      "[CV] END .........................C=1, gamma=0.1, kernel=rbf; total time=   0.0s\n",
      "[CV] END .........................C=1, gamma=0.1, kernel=rbf; total time=   0.0s\n",
      "[CV] END .........................C=1, gamma=0.1, kernel=rbf; total time=   0.0s\n",
      "[CV] END .........................C=1, gamma=0.1, kernel=rbf; total time=   0.0s\n",
      "[CV] END ......................C=1, gamma=0.8, kernel=linear; total time=   0.0s\n",
      "[CV] END ......................C=1, gamma=0.8, kernel=linear; total time=   0.0s\n",
      "[CV] END ......................C=1, gamma=0.8, kernel=linear; total time=   0.0s\n",
      "[CV] END ......................C=1, gamma=0.8, kernel=linear; total time=   0.0s\n",
      "[CV] END ......................C=1, gamma=0.8, kernel=linear; total time=   0.0s\n",
      "[CV] END ......................C=1, gamma=0.8, kernel=linear; total time=   0.0s\n",
      "[CV] END ......................C=1, gamma=0.8, kernel=linear; total time=   0.0s\n",
      "[CV] END ......................C=1, gamma=0.8, kernel=linear; total time=   0.0s\n",
      "[CV] END ......................C=1, gamma=0.8, kernel=linear; total time=   0.0s\n",
      "[CV] END ......................C=1, gamma=0.8, kernel=linear; total time=   0.0s\n",
      "[CV] END .........................C=1, gamma=0.8, kernel=rbf; total time=   0.0s\n",
      "[CV] END .........................C=1, gamma=0.8, kernel=rbf; total time=   0.0s\n",
      "[CV] END .........................C=1, gamma=0.8, kernel=rbf; total time=   0.0s\n",
      "[CV] END .........................C=1, gamma=0.8, kernel=rbf; total time=   0.0s\n",
      "[CV] END .........................C=1, gamma=0.8, kernel=rbf; total time=   0.0s\n",
      "[CV] END .........................C=1, gamma=0.8, kernel=rbf; total time=   0.0s\n",
      "[CV] END .........................C=1, gamma=0.8, kernel=rbf; total time=   0.0s\n",
      "[CV] END .........................C=1, gamma=0.8, kernel=rbf; total time=   0.0s\n",
      "[CV] END .........................C=1, gamma=0.8, kernel=rbf; total time=   0.0s\n",
      "[CV] END .........................C=1, gamma=0.8, kernel=rbf; total time=   0.0s\n",
      "[CV] END ......................C=1, gamma=0.9, kernel=linear; total time=   0.0s\n",
      "[CV] END ......................C=1, gamma=0.9, kernel=linear; total time=   0.0s\n",
      "[CV] END ......................C=1, gamma=0.9, kernel=linear; total time=   0.0s\n",
      "[CV] END ......................C=1, gamma=0.9, kernel=linear; total time=   0.0s\n",
      "[CV] END ......................C=1, gamma=0.9, kernel=linear; total time=   0.0s\n",
      "[CV] END ......................C=1, gamma=0.9, kernel=linear; total time=   0.0s\n",
      "[CV] END ......................C=1, gamma=0.9, kernel=linear; total time=   0.0s\n",
      "[CV] END ......................C=1, gamma=0.9, kernel=linear; total time=   0.0s\n",
      "[CV] END ......................C=1, gamma=0.9, kernel=linear; total time=   0.0s\n",
      "[CV] END ......................C=1, gamma=0.9, kernel=linear; total time=   0.0s\n"
     ]
    },
    {
     "name": "stdout",
     "output_type": "stream",
     "text": [
      "[CV] END .........................C=1, gamma=0.9, kernel=rbf; total time=   0.0s\n",
      "[CV] END .........................C=1, gamma=0.9, kernel=rbf; total time=   0.0s\n",
      "[CV] END .........................C=1, gamma=0.9, kernel=rbf; total time=   0.0s\n",
      "[CV] END .........................C=1, gamma=0.9, kernel=rbf; total time=   0.0s\n",
      "[CV] END .........................C=1, gamma=0.9, kernel=rbf; total time=   0.0s\n",
      "[CV] END .........................C=1, gamma=0.9, kernel=rbf; total time=   0.0s\n",
      "[CV] END .........................C=1, gamma=0.9, kernel=rbf; total time=   0.0s\n",
      "[CV] END .........................C=1, gamma=0.9, kernel=rbf; total time=   0.0s\n",
      "[CV] END .........................C=1, gamma=0.9, kernel=rbf; total time=   0.0s\n",
      "[CV] END .........................C=1, gamma=0.9, kernel=rbf; total time=   0.0s\n",
      "[CV] END ........................C=1, gamma=1, kernel=linear; total time=   0.0s\n",
      "[CV] END ........................C=1, gamma=1, kernel=linear; total time=   0.0s\n",
      "[CV] END ........................C=1, gamma=1, kernel=linear; total time=   0.0s\n",
      "[CV] END ........................C=1, gamma=1, kernel=linear; total time=   0.0s\n",
      "[CV] END ........................C=1, gamma=1, kernel=linear; total time=   0.0s\n",
      "[CV] END ........................C=1, gamma=1, kernel=linear; total time=   0.0s\n",
      "[CV] END ........................C=1, gamma=1, kernel=linear; total time=   0.0s\n",
      "[CV] END ........................C=1, gamma=1, kernel=linear; total time=   0.0s\n",
      "[CV] END ........................C=1, gamma=1, kernel=linear; total time=   0.0s\n",
      "[CV] END ........................C=1, gamma=1, kernel=linear; total time=   0.0s\n",
      "[CV] END ...........................C=1, gamma=1, kernel=rbf; total time=   0.0s\n",
      "[CV] END ...........................C=1, gamma=1, kernel=rbf; total time=   0.0s\n",
      "[CV] END ...........................C=1, gamma=1, kernel=rbf; total time=   0.0s\n",
      "[CV] END ...........................C=1, gamma=1, kernel=rbf; total time=   0.0s\n",
      "[CV] END ...........................C=1, gamma=1, kernel=rbf; total time=   0.0s\n",
      "[CV] END ...........................C=1, gamma=1, kernel=rbf; total time=   0.0s\n",
      "[CV] END ...........................C=1, gamma=1, kernel=rbf; total time=   0.0s\n",
      "[CV] END ...........................C=1, gamma=1, kernel=rbf; total time=   0.0s\n",
      "[CV] END ...........................C=1, gamma=1, kernel=rbf; total time=   0.0s\n",
      "[CV] END ...........................C=1, gamma=1, kernel=rbf; total time=   0.0s\n",
      "[CV] END ......................C=1, gamma=1.1, kernel=linear; total time=   0.0s\n",
      "[CV] END ......................C=1, gamma=1.1, kernel=linear; total time=   0.0s\n",
      "[CV] END ......................C=1, gamma=1.1, kernel=linear; total time=   0.0s\n",
      "[CV] END ......................C=1, gamma=1.1, kernel=linear; total time=   0.0s\n",
      "[CV] END ......................C=1, gamma=1.1, kernel=linear; total time=   0.0s\n",
      "[CV] END ......................C=1, gamma=1.1, kernel=linear; total time=   0.0s\n",
      "[CV] END ......................C=1, gamma=1.1, kernel=linear; total time=   0.0s\n",
      "[CV] END ......................C=1, gamma=1.1, kernel=linear; total time=   0.0s\n",
      "[CV] END ......................C=1, gamma=1.1, kernel=linear; total time=   0.0s\n",
      "[CV] END ......................C=1, gamma=1.1, kernel=linear; total time=   0.0s\n",
      "[CV] END .........................C=1, gamma=1.1, kernel=rbf; total time=   0.0s\n",
      "[CV] END .........................C=1, gamma=1.1, kernel=rbf; total time=   0.0s\n",
      "[CV] END .........................C=1, gamma=1.1, kernel=rbf; total time=   0.0s\n",
      "[CV] END .........................C=1, gamma=1.1, kernel=rbf; total time=   0.0s\n",
      "[CV] END .........................C=1, gamma=1.1, kernel=rbf; total time=   0.0s\n",
      "[CV] END .........................C=1, gamma=1.1, kernel=rbf; total time=   0.0s\n",
      "[CV] END .........................C=1, gamma=1.1, kernel=rbf; total time=   0.0s\n",
      "[CV] END .........................C=1, gamma=1.1, kernel=rbf; total time=   0.0s\n",
      "[CV] END .........................C=1, gamma=1.1, kernel=rbf; total time=   0.0s\n",
      "[CV] END .........................C=1, gamma=1.1, kernel=rbf; total time=   0.0s\n",
      "[CV] END ......................C=1, gamma=1.2, kernel=linear; total time=   0.0s\n",
      "[CV] END ......................C=1, gamma=1.2, kernel=linear; total time=   0.0s\n",
      "[CV] END ......................C=1, gamma=1.2, kernel=linear; total time=   0.0s\n",
      "[CV] END ......................C=1, gamma=1.2, kernel=linear; total time=   0.0s\n",
      "[CV] END ......................C=1, gamma=1.2, kernel=linear; total time=   0.0s\n",
      "[CV] END ......................C=1, gamma=1.2, kernel=linear; total time=   0.0s\n",
      "[CV] END ......................C=1, gamma=1.2, kernel=linear; total time=   0.0s\n",
      "[CV] END ......................C=1, gamma=1.2, kernel=linear; total time=   0.0s\n",
      "[CV] END ......................C=1, gamma=1.2, kernel=linear; total time=   0.0s\n",
      "[CV] END ......................C=1, gamma=1.2, kernel=linear; total time=   0.0s\n",
      "[CV] END .........................C=1, gamma=1.2, kernel=rbf; total time=   0.0s\n",
      "[CV] END .........................C=1, gamma=1.2, kernel=rbf; total time=   0.0s\n",
      "[CV] END .........................C=1, gamma=1.2, kernel=rbf; total time=   0.0s\n",
      "[CV] END .........................C=1, gamma=1.2, kernel=rbf; total time=   0.0s\n",
      "[CV] END .........................C=1, gamma=1.2, kernel=rbf; total time=   0.0s\n",
      "[CV] END .........................C=1, gamma=1.2, kernel=rbf; total time=   0.0s\n",
      "[CV] END .........................C=1, gamma=1.2, kernel=rbf; total time=   0.0s\n",
      "[CV] END .........................C=1, gamma=1.2, kernel=rbf; total time=   0.0s\n",
      "[CV] END .........................C=1, gamma=1.2, kernel=rbf; total time=   0.0s\n",
      "[CV] END .........................C=1, gamma=1.2, kernel=rbf; total time=   0.0s\n",
      "[CV] END ......................C=1, gamma=1.3, kernel=linear; total time=   0.0s\n",
      "[CV] END ......................C=1, gamma=1.3, kernel=linear; total time=   0.0s\n",
      "[CV] END ......................C=1, gamma=1.3, kernel=linear; total time=   0.0s\n",
      "[CV] END ......................C=1, gamma=1.3, kernel=linear; total time=   0.0s\n",
      "[CV] END ......................C=1, gamma=1.3, kernel=linear; total time=   0.0s\n",
      "[CV] END ......................C=1, gamma=1.3, kernel=linear; total time=   0.0s\n",
      "[CV] END ......................C=1, gamma=1.3, kernel=linear; total time=   0.0s\n",
      "[CV] END ......................C=1, gamma=1.3, kernel=linear; total time=   0.0s\n",
      "[CV] END ......................C=1, gamma=1.3, kernel=linear; total time=   0.0s\n",
      "[CV] END ......................C=1, gamma=1.3, kernel=linear; total time=   0.0s\n",
      "[CV] END .........................C=1, gamma=1.3, kernel=rbf; total time=   0.0s\n",
      "[CV] END .........................C=1, gamma=1.3, kernel=rbf; total time=   0.0s\n",
      "[CV] END .........................C=1, gamma=1.3, kernel=rbf; total time=   0.0s\n",
      "[CV] END .........................C=1, gamma=1.3, kernel=rbf; total time=   0.0s\n",
      "[CV] END .........................C=1, gamma=1.3, kernel=rbf; total time=   0.0s\n",
      "[CV] END .........................C=1, gamma=1.3, kernel=rbf; total time=   0.0s\n",
      "[CV] END .........................C=1, gamma=1.3, kernel=rbf; total time=   0.0s\n",
      "[CV] END .........................C=1, gamma=1.3, kernel=rbf; total time=   0.0s\n",
      "[CV] END .........................C=1, gamma=1.3, kernel=rbf; total time=   0.0s\n",
      "[CV] END .........................C=1, gamma=1.3, kernel=rbf; total time=   0.0s\n",
      "[CV] END ......................C=1, gamma=1.4, kernel=linear; total time=   0.0s\n",
      "[CV] END ......................C=1, gamma=1.4, kernel=linear; total time=   0.0s\n",
      "[CV] END ......................C=1, gamma=1.4, kernel=linear; total time=   0.0s\n",
      "[CV] END ......................C=1, gamma=1.4, kernel=linear; total time=   0.0s\n",
      "[CV] END ......................C=1, gamma=1.4, kernel=linear; total time=   0.0s\n",
      "[CV] END ......................C=1, gamma=1.4, kernel=linear; total time=   0.0s\n",
      "[CV] END ......................C=1, gamma=1.4, kernel=linear; total time=   0.0s\n",
      "[CV] END ......................C=1, gamma=1.4, kernel=linear; total time=   0.0s\n",
      "[CV] END ......................C=1, gamma=1.4, kernel=linear; total time=   0.0s\n",
      "[CV] END ......................C=1, gamma=1.4, kernel=linear; total time=   0.0s\n",
      "[CV] END .........................C=1, gamma=1.4, kernel=rbf; total time=   0.0s\n",
      "[CV] END .........................C=1, gamma=1.4, kernel=rbf; total time=   0.0s\n",
      "[CV] END .........................C=1, gamma=1.4, kernel=rbf; total time=   0.0s\n",
      "[CV] END .........................C=1, gamma=1.4, kernel=rbf; total time=   0.0s\n"
     ]
    },
    {
     "name": "stdout",
     "output_type": "stream",
     "text": [
      "[CV] END .........................C=1, gamma=1.4, kernel=rbf; total time=   0.0s\n",
      "[CV] END .........................C=1, gamma=1.4, kernel=rbf; total time=   0.0s\n",
      "[CV] END .........................C=1, gamma=1.4, kernel=rbf; total time=   0.0s\n",
      "[CV] END .........................C=1, gamma=1.4, kernel=rbf; total time=   0.0s\n",
      "[CV] END .........................C=1, gamma=1.4, kernel=rbf; total time=   0.0s\n",
      "[CV] END .........................C=1, gamma=1.4, kernel=rbf; total time=   0.0s\n",
      "[CV] END ....................C=1.1, gamma=0.1, kernel=linear; total time=   0.0s\n",
      "[CV] END ....................C=1.1, gamma=0.1, kernel=linear; total time=   0.0s\n",
      "[CV] END ....................C=1.1, gamma=0.1, kernel=linear; total time=   0.0s\n",
      "[CV] END ....................C=1.1, gamma=0.1, kernel=linear; total time=   0.0s\n",
      "[CV] END ....................C=1.1, gamma=0.1, kernel=linear; total time=   0.0s\n",
      "[CV] END ....................C=1.1, gamma=0.1, kernel=linear; total time=   0.0s\n",
      "[CV] END ....................C=1.1, gamma=0.1, kernel=linear; total time=   0.0s\n",
      "[CV] END ....................C=1.1, gamma=0.1, kernel=linear; total time=   0.0s\n",
      "[CV] END ....................C=1.1, gamma=0.1, kernel=linear; total time=   0.0s\n",
      "[CV] END ....................C=1.1, gamma=0.1, kernel=linear; total time=   0.0s\n",
      "[CV] END .......................C=1.1, gamma=0.1, kernel=rbf; total time=   0.0s\n",
      "[CV] END .......................C=1.1, gamma=0.1, kernel=rbf; total time=   0.0s\n",
      "[CV] END .......................C=1.1, gamma=0.1, kernel=rbf; total time=   0.0s\n",
      "[CV] END .......................C=1.1, gamma=0.1, kernel=rbf; total time=   0.0s\n",
      "[CV] END .......................C=1.1, gamma=0.1, kernel=rbf; total time=   0.0s\n",
      "[CV] END .......................C=1.1, gamma=0.1, kernel=rbf; total time=   0.0s\n",
      "[CV] END .......................C=1.1, gamma=0.1, kernel=rbf; total time=   0.0s\n",
      "[CV] END .......................C=1.1, gamma=0.1, kernel=rbf; total time=   0.0s\n",
      "[CV] END .......................C=1.1, gamma=0.1, kernel=rbf; total time=   0.0s\n",
      "[CV] END .......................C=1.1, gamma=0.1, kernel=rbf; total time=   0.0s\n",
      "[CV] END ....................C=1.1, gamma=0.8, kernel=linear; total time=   0.0s\n",
      "[CV] END ....................C=1.1, gamma=0.8, kernel=linear; total time=   0.0s\n",
      "[CV] END ....................C=1.1, gamma=0.8, kernel=linear; total time=   0.0s\n",
      "[CV] END ....................C=1.1, gamma=0.8, kernel=linear; total time=   0.0s\n",
      "[CV] END ....................C=1.1, gamma=0.8, kernel=linear; total time=   0.0s\n",
      "[CV] END ....................C=1.1, gamma=0.8, kernel=linear; total time=   0.0s\n",
      "[CV] END ....................C=1.1, gamma=0.8, kernel=linear; total time=   0.0s\n",
      "[CV] END ....................C=1.1, gamma=0.8, kernel=linear; total time=   0.0s\n",
      "[CV] END ....................C=1.1, gamma=0.8, kernel=linear; total time=   0.0s\n",
      "[CV] END ....................C=1.1, gamma=0.8, kernel=linear; total time=   0.0s\n",
      "[CV] END .......................C=1.1, gamma=0.8, kernel=rbf; total time=   0.0s\n",
      "[CV] END .......................C=1.1, gamma=0.8, kernel=rbf; total time=   0.0s\n",
      "[CV] END .......................C=1.1, gamma=0.8, kernel=rbf; total time=   0.0s\n",
      "[CV] END .......................C=1.1, gamma=0.8, kernel=rbf; total time=   0.0s\n",
      "[CV] END .......................C=1.1, gamma=0.8, kernel=rbf; total time=   0.0s\n",
      "[CV] END .......................C=1.1, gamma=0.8, kernel=rbf; total time=   0.0s\n",
      "[CV] END .......................C=1.1, gamma=0.8, kernel=rbf; total time=   0.0s\n",
      "[CV] END .......................C=1.1, gamma=0.8, kernel=rbf; total time=   0.0s\n",
      "[CV] END .......................C=1.1, gamma=0.8, kernel=rbf; total time=   0.0s\n",
      "[CV] END .......................C=1.1, gamma=0.8, kernel=rbf; total time=   0.0s\n",
      "[CV] END ....................C=1.1, gamma=0.9, kernel=linear; total time=   0.0s\n",
      "[CV] END ....................C=1.1, gamma=0.9, kernel=linear; total time=   0.0s\n",
      "[CV] END ....................C=1.1, gamma=0.9, kernel=linear; total time=   0.0s\n",
      "[CV] END ....................C=1.1, gamma=0.9, kernel=linear; total time=   0.0s\n",
      "[CV] END ....................C=1.1, gamma=0.9, kernel=linear; total time=   0.0s\n",
      "[CV] END ....................C=1.1, gamma=0.9, kernel=linear; total time=   0.0s\n",
      "[CV] END ....................C=1.1, gamma=0.9, kernel=linear; total time=   0.0s\n",
      "[CV] END ....................C=1.1, gamma=0.9, kernel=linear; total time=   0.0s\n",
      "[CV] END ....................C=1.1, gamma=0.9, kernel=linear; total time=   0.0s\n",
      "[CV] END ....................C=1.1, gamma=0.9, kernel=linear; total time=   0.0s\n",
      "[CV] END .......................C=1.1, gamma=0.9, kernel=rbf; total time=   0.0s\n",
      "[CV] END .......................C=1.1, gamma=0.9, kernel=rbf; total time=   0.0s\n",
      "[CV] END .......................C=1.1, gamma=0.9, kernel=rbf; total time=   0.0s\n",
      "[CV] END .......................C=1.1, gamma=0.9, kernel=rbf; total time=   0.0s\n",
      "[CV] END .......................C=1.1, gamma=0.9, kernel=rbf; total time=   0.0s\n",
      "[CV] END .......................C=1.1, gamma=0.9, kernel=rbf; total time=   0.0s\n",
      "[CV] END .......................C=1.1, gamma=0.9, kernel=rbf; total time=   0.0s\n",
      "[CV] END .......................C=1.1, gamma=0.9, kernel=rbf; total time=   0.0s\n",
      "[CV] END .......................C=1.1, gamma=0.9, kernel=rbf; total time=   0.0s\n",
      "[CV] END .......................C=1.1, gamma=0.9, kernel=rbf; total time=   0.0s\n",
      "[CV] END ......................C=1.1, gamma=1, kernel=linear; total time=   0.0s\n",
      "[CV] END ......................C=1.1, gamma=1, kernel=linear; total time=   0.0s\n",
      "[CV] END ......................C=1.1, gamma=1, kernel=linear; total time=   0.0s\n",
      "[CV] END ......................C=1.1, gamma=1, kernel=linear; total time=   0.0s\n",
      "[CV] END ......................C=1.1, gamma=1, kernel=linear; total time=   0.0s\n",
      "[CV] END ......................C=1.1, gamma=1, kernel=linear; total time=   0.0s\n",
      "[CV] END ......................C=1.1, gamma=1, kernel=linear; total time=   0.0s\n",
      "[CV] END ......................C=1.1, gamma=1, kernel=linear; total time=   0.0s\n",
      "[CV] END ......................C=1.1, gamma=1, kernel=linear; total time=   0.0s\n",
      "[CV] END ......................C=1.1, gamma=1, kernel=linear; total time=   0.0s\n",
      "[CV] END .........................C=1.1, gamma=1, kernel=rbf; total time=   0.0s\n",
      "[CV] END .........................C=1.1, gamma=1, kernel=rbf; total time=   0.0s\n",
      "[CV] END .........................C=1.1, gamma=1, kernel=rbf; total time=   0.0s\n",
      "[CV] END .........................C=1.1, gamma=1, kernel=rbf; total time=   0.0s\n",
      "[CV] END .........................C=1.1, gamma=1, kernel=rbf; total time=   0.0s\n",
      "[CV] END .........................C=1.1, gamma=1, kernel=rbf; total time=   0.0s\n",
      "[CV] END .........................C=1.1, gamma=1, kernel=rbf; total time=   0.0s\n",
      "[CV] END .........................C=1.1, gamma=1, kernel=rbf; total time=   0.0s\n",
      "[CV] END .........................C=1.1, gamma=1, kernel=rbf; total time=   0.0s\n",
      "[CV] END .........................C=1.1, gamma=1, kernel=rbf; total time=   0.0s\n",
      "[CV] END ....................C=1.1, gamma=1.1, kernel=linear; total time=   0.0s\n",
      "[CV] END ....................C=1.1, gamma=1.1, kernel=linear; total time=   0.0s\n",
      "[CV] END ....................C=1.1, gamma=1.1, kernel=linear; total time=   0.0s\n",
      "[CV] END ....................C=1.1, gamma=1.1, kernel=linear; total time=   0.0s\n",
      "[CV] END ....................C=1.1, gamma=1.1, kernel=linear; total time=   0.0s\n",
      "[CV] END ....................C=1.1, gamma=1.1, kernel=linear; total time=   0.0s\n",
      "[CV] END ....................C=1.1, gamma=1.1, kernel=linear; total time=   0.0s\n",
      "[CV] END ....................C=1.1, gamma=1.1, kernel=linear; total time=   0.0s\n",
      "[CV] END ....................C=1.1, gamma=1.1, kernel=linear; total time=   0.0s\n",
      "[CV] END ....................C=1.1, gamma=1.1, kernel=linear; total time=   0.0s\n",
      "[CV] END .......................C=1.1, gamma=1.1, kernel=rbf; total time=   0.0s\n",
      "[CV] END .......................C=1.1, gamma=1.1, kernel=rbf; total time=   0.0s\n",
      "[CV] END .......................C=1.1, gamma=1.1, kernel=rbf; total time=   0.0s\n",
      "[CV] END .......................C=1.1, gamma=1.1, kernel=rbf; total time=   0.0s\n",
      "[CV] END .......................C=1.1, gamma=1.1, kernel=rbf; total time=   0.0s\n",
      "[CV] END .......................C=1.1, gamma=1.1, kernel=rbf; total time=   0.0s\n",
      "[CV] END .......................C=1.1, gamma=1.1, kernel=rbf; total time=   0.0s\n",
      "[CV] END .......................C=1.1, gamma=1.1, kernel=rbf; total time=   0.0s\n",
      "[CV] END .......................C=1.1, gamma=1.1, kernel=rbf; total time=   0.0s\n"
     ]
    },
    {
     "name": "stdout",
     "output_type": "stream",
     "text": [
      "[CV] END .......................C=1.1, gamma=1.1, kernel=rbf; total time=   0.0s\n",
      "[CV] END ....................C=1.1, gamma=1.2, kernel=linear; total time=   0.0s\n",
      "[CV] END ....................C=1.1, gamma=1.2, kernel=linear; total time=   0.0s\n",
      "[CV] END ....................C=1.1, gamma=1.2, kernel=linear; total time=   0.0s\n",
      "[CV] END ....................C=1.1, gamma=1.2, kernel=linear; total time=   0.0s\n",
      "[CV] END ....................C=1.1, gamma=1.2, kernel=linear; total time=   0.0s\n",
      "[CV] END ....................C=1.1, gamma=1.2, kernel=linear; total time=   0.0s\n",
      "[CV] END ....................C=1.1, gamma=1.2, kernel=linear; total time=   0.0s\n",
      "[CV] END ....................C=1.1, gamma=1.2, kernel=linear; total time=   0.0s\n",
      "[CV] END ....................C=1.1, gamma=1.2, kernel=linear; total time=   0.0s\n",
      "[CV] END ....................C=1.1, gamma=1.2, kernel=linear; total time=   0.0s\n",
      "[CV] END .......................C=1.1, gamma=1.2, kernel=rbf; total time=   0.0s\n",
      "[CV] END .......................C=1.1, gamma=1.2, kernel=rbf; total time=   0.0s\n",
      "[CV] END .......................C=1.1, gamma=1.2, kernel=rbf; total time=   0.0s\n",
      "[CV] END .......................C=1.1, gamma=1.2, kernel=rbf; total time=   0.0s\n",
      "[CV] END .......................C=1.1, gamma=1.2, kernel=rbf; total time=   0.0s\n",
      "[CV] END .......................C=1.1, gamma=1.2, kernel=rbf; total time=   0.0s\n",
      "[CV] END .......................C=1.1, gamma=1.2, kernel=rbf; total time=   0.0s\n",
      "[CV] END .......................C=1.1, gamma=1.2, kernel=rbf; total time=   0.0s\n",
      "[CV] END .......................C=1.1, gamma=1.2, kernel=rbf; total time=   0.0s\n",
      "[CV] END .......................C=1.1, gamma=1.2, kernel=rbf; total time=   0.0s\n",
      "[CV] END ....................C=1.1, gamma=1.3, kernel=linear; total time=   0.0s\n",
      "[CV] END ....................C=1.1, gamma=1.3, kernel=linear; total time=   0.0s\n",
      "[CV] END ....................C=1.1, gamma=1.3, kernel=linear; total time=   0.0s\n",
      "[CV] END ....................C=1.1, gamma=1.3, kernel=linear; total time=   0.0s\n",
      "[CV] END ....................C=1.1, gamma=1.3, kernel=linear; total time=   0.0s\n",
      "[CV] END ....................C=1.1, gamma=1.3, kernel=linear; total time=   0.0s\n",
      "[CV] END ....................C=1.1, gamma=1.3, kernel=linear; total time=   0.0s\n",
      "[CV] END ....................C=1.1, gamma=1.3, kernel=linear; total time=   0.0s\n",
      "[CV] END ....................C=1.1, gamma=1.3, kernel=linear; total time=   0.0s\n",
      "[CV] END ....................C=1.1, gamma=1.3, kernel=linear; total time=   0.0s\n",
      "[CV] END .......................C=1.1, gamma=1.3, kernel=rbf; total time=   0.0s\n",
      "[CV] END .......................C=1.1, gamma=1.3, kernel=rbf; total time=   0.0s\n",
      "[CV] END .......................C=1.1, gamma=1.3, kernel=rbf; total time=   0.0s\n",
      "[CV] END .......................C=1.1, gamma=1.3, kernel=rbf; total time=   0.0s\n",
      "[CV] END .......................C=1.1, gamma=1.3, kernel=rbf; total time=   0.0s\n",
      "[CV] END .......................C=1.1, gamma=1.3, kernel=rbf; total time=   0.0s\n",
      "[CV] END .......................C=1.1, gamma=1.3, kernel=rbf; total time=   0.0s\n",
      "[CV] END .......................C=1.1, gamma=1.3, kernel=rbf; total time=   0.0s\n",
      "[CV] END .......................C=1.1, gamma=1.3, kernel=rbf; total time=   0.0s\n",
      "[CV] END .......................C=1.1, gamma=1.3, kernel=rbf; total time=   0.0s\n",
      "[CV] END ....................C=1.1, gamma=1.4, kernel=linear; total time=   0.0s\n",
      "[CV] END ....................C=1.1, gamma=1.4, kernel=linear; total time=   0.0s\n",
      "[CV] END ....................C=1.1, gamma=1.4, kernel=linear; total time=   0.0s\n",
      "[CV] END ....................C=1.1, gamma=1.4, kernel=linear; total time=   0.0s\n",
      "[CV] END ....................C=1.1, gamma=1.4, kernel=linear; total time=   0.0s\n",
      "[CV] END ....................C=1.1, gamma=1.4, kernel=linear; total time=   0.0s\n",
      "[CV] END ....................C=1.1, gamma=1.4, kernel=linear; total time=   0.0s\n",
      "[CV] END ....................C=1.1, gamma=1.4, kernel=linear; total time=   0.0s\n",
      "[CV] END ....................C=1.1, gamma=1.4, kernel=linear; total time=   0.0s\n",
      "[CV] END ....................C=1.1, gamma=1.4, kernel=linear; total time=   0.0s\n",
      "[CV] END .......................C=1.1, gamma=1.4, kernel=rbf; total time=   0.0s\n",
      "[CV] END .......................C=1.1, gamma=1.4, kernel=rbf; total time=   0.0s\n",
      "[CV] END .......................C=1.1, gamma=1.4, kernel=rbf; total time=   0.0s\n",
      "[CV] END .......................C=1.1, gamma=1.4, kernel=rbf; total time=   0.0s\n",
      "[CV] END .......................C=1.1, gamma=1.4, kernel=rbf; total time=   0.0s\n",
      "[CV] END .......................C=1.1, gamma=1.4, kernel=rbf; total time=   0.0s\n",
      "[CV] END .......................C=1.1, gamma=1.4, kernel=rbf; total time=   0.0s\n",
      "[CV] END .......................C=1.1, gamma=1.4, kernel=rbf; total time=   0.0s\n",
      "[CV] END .......................C=1.1, gamma=1.4, kernel=rbf; total time=   0.0s\n",
      "[CV] END .......................C=1.1, gamma=1.4, kernel=rbf; total time=   0.0s\n",
      "[CV] END ....................C=1.2, gamma=0.1, kernel=linear; total time=   0.0s\n",
      "[CV] END ....................C=1.2, gamma=0.1, kernel=linear; total time=   0.0s\n",
      "[CV] END ....................C=1.2, gamma=0.1, kernel=linear; total time=   0.0s\n",
      "[CV] END ....................C=1.2, gamma=0.1, kernel=linear; total time=   0.0s\n",
      "[CV] END ....................C=1.2, gamma=0.1, kernel=linear; total time=   0.0s\n",
      "[CV] END ....................C=1.2, gamma=0.1, kernel=linear; total time=   0.0s\n",
      "[CV] END ....................C=1.2, gamma=0.1, kernel=linear; total time=   0.0s\n",
      "[CV] END ....................C=1.2, gamma=0.1, kernel=linear; total time=   0.0s\n",
      "[CV] END ....................C=1.2, gamma=0.1, kernel=linear; total time=   0.0s\n",
      "[CV] END ....................C=1.2, gamma=0.1, kernel=linear; total time=   0.0s\n",
      "[CV] END .......................C=1.2, gamma=0.1, kernel=rbf; total time=   0.0s\n",
      "[CV] END .......................C=1.2, gamma=0.1, kernel=rbf; total time=   0.0s\n",
      "[CV] END .......................C=1.2, gamma=0.1, kernel=rbf; total time=   0.0s\n",
      "[CV] END .......................C=1.2, gamma=0.1, kernel=rbf; total time=   0.0s\n",
      "[CV] END .......................C=1.2, gamma=0.1, kernel=rbf; total time=   0.0s\n",
      "[CV] END .......................C=1.2, gamma=0.1, kernel=rbf; total time=   0.0s\n",
      "[CV] END .......................C=1.2, gamma=0.1, kernel=rbf; total time=   0.0s\n",
      "[CV] END .......................C=1.2, gamma=0.1, kernel=rbf; total time=   0.0s\n",
      "[CV] END .......................C=1.2, gamma=0.1, kernel=rbf; total time=   0.0s\n",
      "[CV] END .......................C=1.2, gamma=0.1, kernel=rbf; total time=   0.0s\n",
      "[CV] END ....................C=1.2, gamma=0.8, kernel=linear; total time=   0.0s\n",
      "[CV] END ....................C=1.2, gamma=0.8, kernel=linear; total time=   0.0s\n",
      "[CV] END ....................C=1.2, gamma=0.8, kernel=linear; total time=   0.0s\n",
      "[CV] END ....................C=1.2, gamma=0.8, kernel=linear; total time=   0.0s\n",
      "[CV] END ....................C=1.2, gamma=0.8, kernel=linear; total time=   0.0s\n",
      "[CV] END ....................C=1.2, gamma=0.8, kernel=linear; total time=   0.0s\n",
      "[CV] END ....................C=1.2, gamma=0.8, kernel=linear; total time=   0.0s\n",
      "[CV] END ....................C=1.2, gamma=0.8, kernel=linear; total time=   0.0s\n",
      "[CV] END ....................C=1.2, gamma=0.8, kernel=linear; total time=   0.0s\n",
      "[CV] END ....................C=1.2, gamma=0.8, kernel=linear; total time=   0.0s\n",
      "[CV] END .......................C=1.2, gamma=0.8, kernel=rbf; total time=   0.0s\n",
      "[CV] END .......................C=1.2, gamma=0.8, kernel=rbf; total time=   0.0s\n",
      "[CV] END .......................C=1.2, gamma=0.8, kernel=rbf; total time=   0.0s\n",
      "[CV] END .......................C=1.2, gamma=0.8, kernel=rbf; total time=   0.0s\n",
      "[CV] END .......................C=1.2, gamma=0.8, kernel=rbf; total time=   0.0s\n",
      "[CV] END .......................C=1.2, gamma=0.8, kernel=rbf; total time=   0.0s\n",
      "[CV] END .......................C=1.2, gamma=0.8, kernel=rbf; total time=   0.0s\n",
      "[CV] END .......................C=1.2, gamma=0.8, kernel=rbf; total time=   0.0s\n",
      "[CV] END .......................C=1.2, gamma=0.8, kernel=rbf; total time=   0.0s\n",
      "[CV] END .......................C=1.2, gamma=0.8, kernel=rbf; total time=   0.0s\n",
      "[CV] END ....................C=1.2, gamma=0.9, kernel=linear; total time=   0.0s\n",
      "[CV] END ....................C=1.2, gamma=0.9, kernel=linear; total time=   0.0s\n",
      "[CV] END ....................C=1.2, gamma=0.9, kernel=linear; total time=   0.0s\n",
      "[CV] END ....................C=1.2, gamma=0.9, kernel=linear; total time=   0.0s\n",
      "[CV] END ....................C=1.2, gamma=0.9, kernel=linear; total time=   0.0s\n",
      "[CV] END ....................C=1.2, gamma=0.9, kernel=linear; total time=   0.0s\n",
      "[CV] END ....................C=1.2, gamma=0.9, kernel=linear; total time=   0.0s\n"
     ]
    },
    {
     "name": "stdout",
     "output_type": "stream",
     "text": [
      "[CV] END ....................C=1.2, gamma=0.9, kernel=linear; total time=   0.0s\n",
      "[CV] END ....................C=1.2, gamma=0.9, kernel=linear; total time=   0.0s\n",
      "[CV] END ....................C=1.2, gamma=0.9, kernel=linear; total time=   0.0s\n",
      "[CV] END .......................C=1.2, gamma=0.9, kernel=rbf; total time=   0.0s\n",
      "[CV] END .......................C=1.2, gamma=0.9, kernel=rbf; total time=   0.0s\n",
      "[CV] END .......................C=1.2, gamma=0.9, kernel=rbf; total time=   0.0s\n",
      "[CV] END .......................C=1.2, gamma=0.9, kernel=rbf; total time=   0.0s\n",
      "[CV] END .......................C=1.2, gamma=0.9, kernel=rbf; total time=   0.0s\n",
      "[CV] END .......................C=1.2, gamma=0.9, kernel=rbf; total time=   0.0s\n",
      "[CV] END .......................C=1.2, gamma=0.9, kernel=rbf; total time=   0.0s\n",
      "[CV] END .......................C=1.2, gamma=0.9, kernel=rbf; total time=   0.0s\n",
      "[CV] END .......................C=1.2, gamma=0.9, kernel=rbf; total time=   0.0s\n",
      "[CV] END .......................C=1.2, gamma=0.9, kernel=rbf; total time=   0.0s\n",
      "[CV] END ......................C=1.2, gamma=1, kernel=linear; total time=   0.0s\n",
      "[CV] END ......................C=1.2, gamma=1, kernel=linear; total time=   0.0s\n",
      "[CV] END ......................C=1.2, gamma=1, kernel=linear; total time=   0.0s\n",
      "[CV] END ......................C=1.2, gamma=1, kernel=linear; total time=   0.0s\n",
      "[CV] END ......................C=1.2, gamma=1, kernel=linear; total time=   0.0s\n",
      "[CV] END ......................C=1.2, gamma=1, kernel=linear; total time=   0.0s\n",
      "[CV] END ......................C=1.2, gamma=1, kernel=linear; total time=   0.0s\n",
      "[CV] END ......................C=1.2, gamma=1, kernel=linear; total time=   0.0s\n",
      "[CV] END ......................C=1.2, gamma=1, kernel=linear; total time=   0.0s\n",
      "[CV] END ......................C=1.2, gamma=1, kernel=linear; total time=   0.0s\n",
      "[CV] END .........................C=1.2, gamma=1, kernel=rbf; total time=   0.0s\n",
      "[CV] END .........................C=1.2, gamma=1, kernel=rbf; total time=   0.0s\n",
      "[CV] END .........................C=1.2, gamma=1, kernel=rbf; total time=   0.0s\n",
      "[CV] END .........................C=1.2, gamma=1, kernel=rbf; total time=   0.0s\n",
      "[CV] END .........................C=1.2, gamma=1, kernel=rbf; total time=   0.0s\n",
      "[CV] END .........................C=1.2, gamma=1, kernel=rbf; total time=   0.0s\n",
      "[CV] END .........................C=1.2, gamma=1, kernel=rbf; total time=   0.0s\n",
      "[CV] END .........................C=1.2, gamma=1, kernel=rbf; total time=   0.0s\n",
      "[CV] END .........................C=1.2, gamma=1, kernel=rbf; total time=   0.0s\n",
      "[CV] END .........................C=1.2, gamma=1, kernel=rbf; total time=   0.0s\n",
      "[CV] END ....................C=1.2, gamma=1.1, kernel=linear; total time=   0.0s\n",
      "[CV] END ....................C=1.2, gamma=1.1, kernel=linear; total time=   0.0s\n",
      "[CV] END ....................C=1.2, gamma=1.1, kernel=linear; total time=   0.0s\n",
      "[CV] END ....................C=1.2, gamma=1.1, kernel=linear; total time=   0.0s\n",
      "[CV] END ....................C=1.2, gamma=1.1, kernel=linear; total time=   0.0s\n",
      "[CV] END ....................C=1.2, gamma=1.1, kernel=linear; total time=   0.0s\n",
      "[CV] END ....................C=1.2, gamma=1.1, kernel=linear; total time=   0.0s\n",
      "[CV] END ....................C=1.2, gamma=1.1, kernel=linear; total time=   0.0s\n",
      "[CV] END ....................C=1.2, gamma=1.1, kernel=linear; total time=   0.0s\n",
      "[CV] END ....................C=1.2, gamma=1.1, kernel=linear; total time=   0.0s\n",
      "[CV] END .......................C=1.2, gamma=1.1, kernel=rbf; total time=   0.0s\n",
      "[CV] END .......................C=1.2, gamma=1.1, kernel=rbf; total time=   0.0s\n",
      "[CV] END .......................C=1.2, gamma=1.1, kernel=rbf; total time=   0.0s\n",
      "[CV] END .......................C=1.2, gamma=1.1, kernel=rbf; total time=   0.0s\n",
      "[CV] END .......................C=1.2, gamma=1.1, kernel=rbf; total time=   0.0s\n",
      "[CV] END .......................C=1.2, gamma=1.1, kernel=rbf; total time=   0.0s\n",
      "[CV] END .......................C=1.2, gamma=1.1, kernel=rbf; total time=   0.0s\n",
      "[CV] END .......................C=1.2, gamma=1.1, kernel=rbf; total time=   0.0s\n",
      "[CV] END .......................C=1.2, gamma=1.1, kernel=rbf; total time=   0.0s\n",
      "[CV] END .......................C=1.2, gamma=1.1, kernel=rbf; total time=   0.0s\n",
      "[CV] END ....................C=1.2, gamma=1.2, kernel=linear; total time=   0.0s\n",
      "[CV] END ....................C=1.2, gamma=1.2, kernel=linear; total time=   0.0s\n",
      "[CV] END ....................C=1.2, gamma=1.2, kernel=linear; total time=   0.0s\n",
      "[CV] END ....................C=1.2, gamma=1.2, kernel=linear; total time=   0.0s\n",
      "[CV] END ....................C=1.2, gamma=1.2, kernel=linear; total time=   0.0s\n",
      "[CV] END ....................C=1.2, gamma=1.2, kernel=linear; total time=   0.0s\n",
      "[CV] END ....................C=1.2, gamma=1.2, kernel=linear; total time=   0.0s\n",
      "[CV] END ....................C=1.2, gamma=1.2, kernel=linear; total time=   0.0s\n",
      "[CV] END ....................C=1.2, gamma=1.2, kernel=linear; total time=   0.0s\n",
      "[CV] END ....................C=1.2, gamma=1.2, kernel=linear; total time=   0.0s\n",
      "[CV] END .......................C=1.2, gamma=1.2, kernel=rbf; total time=   0.0s\n",
      "[CV] END .......................C=1.2, gamma=1.2, kernel=rbf; total time=   0.0s\n",
      "[CV] END .......................C=1.2, gamma=1.2, kernel=rbf; total time=   0.0s\n",
      "[CV] END .......................C=1.2, gamma=1.2, kernel=rbf; total time=   0.0s\n",
      "[CV] END .......................C=1.2, gamma=1.2, kernel=rbf; total time=   0.0s\n",
      "[CV] END .......................C=1.2, gamma=1.2, kernel=rbf; total time=   0.0s\n",
      "[CV] END .......................C=1.2, gamma=1.2, kernel=rbf; total time=   0.0s\n",
      "[CV] END .......................C=1.2, gamma=1.2, kernel=rbf; total time=   0.0s\n",
      "[CV] END .......................C=1.2, gamma=1.2, kernel=rbf; total time=   0.0s\n",
      "[CV] END .......................C=1.2, gamma=1.2, kernel=rbf; total time=   0.0s\n",
      "[CV] END ....................C=1.2, gamma=1.3, kernel=linear; total time=   0.0s\n",
      "[CV] END ....................C=1.2, gamma=1.3, kernel=linear; total time=   0.0s\n",
      "[CV] END ....................C=1.2, gamma=1.3, kernel=linear; total time=   0.0s\n",
      "[CV] END ....................C=1.2, gamma=1.3, kernel=linear; total time=   0.0s\n",
      "[CV] END ....................C=1.2, gamma=1.3, kernel=linear; total time=   0.0s\n",
      "[CV] END ....................C=1.2, gamma=1.3, kernel=linear; total time=   0.0s\n",
      "[CV] END ....................C=1.2, gamma=1.3, kernel=linear; total time=   0.0s\n",
      "[CV] END ....................C=1.2, gamma=1.3, kernel=linear; total time=   0.0s\n",
      "[CV] END ....................C=1.2, gamma=1.3, kernel=linear; total time=   0.0s\n",
      "[CV] END ....................C=1.2, gamma=1.3, kernel=linear; total time=   0.0s\n",
      "[CV] END .......................C=1.2, gamma=1.3, kernel=rbf; total time=   0.0s\n",
      "[CV] END .......................C=1.2, gamma=1.3, kernel=rbf; total time=   0.0s\n",
      "[CV] END .......................C=1.2, gamma=1.3, kernel=rbf; total time=   0.0s\n",
      "[CV] END .......................C=1.2, gamma=1.3, kernel=rbf; total time=   0.0s\n",
      "[CV] END .......................C=1.2, gamma=1.3, kernel=rbf; total time=   0.0s\n",
      "[CV] END .......................C=1.2, gamma=1.3, kernel=rbf; total time=   0.0s\n",
      "[CV] END .......................C=1.2, gamma=1.3, kernel=rbf; total time=   0.0s\n",
      "[CV] END .......................C=1.2, gamma=1.3, kernel=rbf; total time=   0.0s\n",
      "[CV] END .......................C=1.2, gamma=1.3, kernel=rbf; total time=   0.0s\n",
      "[CV] END .......................C=1.2, gamma=1.3, kernel=rbf; total time=   0.0s\n",
      "[CV] END ....................C=1.2, gamma=1.4, kernel=linear; total time=   0.0s\n",
      "[CV] END ....................C=1.2, gamma=1.4, kernel=linear; total time=   0.0s\n",
      "[CV] END ....................C=1.2, gamma=1.4, kernel=linear; total time=   0.0s\n",
      "[CV] END ....................C=1.2, gamma=1.4, kernel=linear; total time=   0.0s\n",
      "[CV] END ....................C=1.2, gamma=1.4, kernel=linear; total time=   0.0s\n",
      "[CV] END ....................C=1.2, gamma=1.4, kernel=linear; total time=   0.0s\n",
      "[CV] END ....................C=1.2, gamma=1.4, kernel=linear; total time=   0.0s\n",
      "[CV] END ....................C=1.2, gamma=1.4, kernel=linear; total time=   0.0s\n",
      "[CV] END ....................C=1.2, gamma=1.4, kernel=linear; total time=   0.0s\n",
      "[CV] END ....................C=1.2, gamma=1.4, kernel=linear; total time=   0.0s\n",
      "[CV] END .......................C=1.2, gamma=1.4, kernel=rbf; total time=   0.0s\n",
      "[CV] END .......................C=1.2, gamma=1.4, kernel=rbf; total time=   0.0s\n"
     ]
    },
    {
     "name": "stdout",
     "output_type": "stream",
     "text": [
      "[CV] END .......................C=1.2, gamma=1.4, kernel=rbf; total time=   0.0s\n",
      "[CV] END .......................C=1.2, gamma=1.4, kernel=rbf; total time=   0.0s\n",
      "[CV] END .......................C=1.2, gamma=1.4, kernel=rbf; total time=   0.0s\n",
      "[CV] END .......................C=1.2, gamma=1.4, kernel=rbf; total time=   0.0s\n",
      "[CV] END .......................C=1.2, gamma=1.4, kernel=rbf; total time=   0.0s\n",
      "[CV] END .......................C=1.2, gamma=1.4, kernel=rbf; total time=   0.0s\n",
      "[CV] END .......................C=1.2, gamma=1.4, kernel=rbf; total time=   0.0s\n",
      "[CV] END .......................C=1.2, gamma=1.4, kernel=rbf; total time=   0.0s\n",
      "[CV] END ....................C=1.3, gamma=0.1, kernel=linear; total time=   0.0s\n",
      "[CV] END ....................C=1.3, gamma=0.1, kernel=linear; total time=   0.0s\n",
      "[CV] END ....................C=1.3, gamma=0.1, kernel=linear; total time=   0.0s\n",
      "[CV] END ....................C=1.3, gamma=0.1, kernel=linear; total time=   0.0s\n",
      "[CV] END ....................C=1.3, gamma=0.1, kernel=linear; total time=   0.0s\n",
      "[CV] END ....................C=1.3, gamma=0.1, kernel=linear; total time=   0.0s\n",
      "[CV] END ....................C=1.3, gamma=0.1, kernel=linear; total time=   0.0s\n",
      "[CV] END ....................C=1.3, gamma=0.1, kernel=linear; total time=   0.0s\n",
      "[CV] END ....................C=1.3, gamma=0.1, kernel=linear; total time=   0.0s\n",
      "[CV] END ....................C=1.3, gamma=0.1, kernel=linear; total time=   0.0s\n",
      "[CV] END .......................C=1.3, gamma=0.1, kernel=rbf; total time=   0.0s\n",
      "[CV] END .......................C=1.3, gamma=0.1, kernel=rbf; total time=   0.0s\n",
      "[CV] END .......................C=1.3, gamma=0.1, kernel=rbf; total time=   0.0s\n",
      "[CV] END .......................C=1.3, gamma=0.1, kernel=rbf; total time=   0.0s\n",
      "[CV] END .......................C=1.3, gamma=0.1, kernel=rbf; total time=   0.0s\n",
      "[CV] END .......................C=1.3, gamma=0.1, kernel=rbf; total time=   0.0s\n",
      "[CV] END .......................C=1.3, gamma=0.1, kernel=rbf; total time=   0.0s\n",
      "[CV] END .......................C=1.3, gamma=0.1, kernel=rbf; total time=   0.0s\n",
      "[CV] END .......................C=1.3, gamma=0.1, kernel=rbf; total time=   0.0s\n",
      "[CV] END .......................C=1.3, gamma=0.1, kernel=rbf; total time=   0.0s\n",
      "[CV] END ....................C=1.3, gamma=0.8, kernel=linear; total time=   0.0s\n",
      "[CV] END ....................C=1.3, gamma=0.8, kernel=linear; total time=   0.0s\n",
      "[CV] END ....................C=1.3, gamma=0.8, kernel=linear; total time=   0.0s\n",
      "[CV] END ....................C=1.3, gamma=0.8, kernel=linear; total time=   0.0s\n",
      "[CV] END ....................C=1.3, gamma=0.8, kernel=linear; total time=   0.0s\n",
      "[CV] END ....................C=1.3, gamma=0.8, kernel=linear; total time=   0.0s\n",
      "[CV] END ....................C=1.3, gamma=0.8, kernel=linear; total time=   0.0s\n",
      "[CV] END ....................C=1.3, gamma=0.8, kernel=linear; total time=   0.0s\n",
      "[CV] END ....................C=1.3, gamma=0.8, kernel=linear; total time=   0.0s\n",
      "[CV] END ....................C=1.3, gamma=0.8, kernel=linear; total time=   0.0s\n",
      "[CV] END .......................C=1.3, gamma=0.8, kernel=rbf; total time=   0.0s\n",
      "[CV] END .......................C=1.3, gamma=0.8, kernel=rbf; total time=   0.0s\n",
      "[CV] END .......................C=1.3, gamma=0.8, kernel=rbf; total time=   0.0s\n",
      "[CV] END .......................C=1.3, gamma=0.8, kernel=rbf; total time=   0.0s\n",
      "[CV] END .......................C=1.3, gamma=0.8, kernel=rbf; total time=   0.0s\n",
      "[CV] END .......................C=1.3, gamma=0.8, kernel=rbf; total time=   0.0s\n",
      "[CV] END .......................C=1.3, gamma=0.8, kernel=rbf; total time=   0.0s\n",
      "[CV] END .......................C=1.3, gamma=0.8, kernel=rbf; total time=   0.0s\n",
      "[CV] END .......................C=1.3, gamma=0.8, kernel=rbf; total time=   0.0s\n",
      "[CV] END .......................C=1.3, gamma=0.8, kernel=rbf; total time=   0.0s\n",
      "[CV] END ....................C=1.3, gamma=0.9, kernel=linear; total time=   0.0s\n",
      "[CV] END ....................C=1.3, gamma=0.9, kernel=linear; total time=   0.0s\n",
      "[CV] END ....................C=1.3, gamma=0.9, kernel=linear; total time=   0.0s\n",
      "[CV] END ....................C=1.3, gamma=0.9, kernel=linear; total time=   0.0s\n",
      "[CV] END ....................C=1.3, gamma=0.9, kernel=linear; total time=   0.0s\n",
      "[CV] END ....................C=1.3, gamma=0.9, kernel=linear; total time=   0.0s\n",
      "[CV] END ....................C=1.3, gamma=0.9, kernel=linear; total time=   0.0s\n",
      "[CV] END ....................C=1.3, gamma=0.9, kernel=linear; total time=   0.0s\n",
      "[CV] END ....................C=1.3, gamma=0.9, kernel=linear; total time=   0.0s\n",
      "[CV] END ....................C=1.3, gamma=0.9, kernel=linear; total time=   0.0s\n",
      "[CV] END .......................C=1.3, gamma=0.9, kernel=rbf; total time=   0.0s\n",
      "[CV] END .......................C=1.3, gamma=0.9, kernel=rbf; total time=   0.0s\n",
      "[CV] END .......................C=1.3, gamma=0.9, kernel=rbf; total time=   0.0s\n",
      "[CV] END .......................C=1.3, gamma=0.9, kernel=rbf; total time=   0.0s\n",
      "[CV] END .......................C=1.3, gamma=0.9, kernel=rbf; total time=   0.0s\n",
      "[CV] END .......................C=1.3, gamma=0.9, kernel=rbf; total time=   0.0s\n",
      "[CV] END .......................C=1.3, gamma=0.9, kernel=rbf; total time=   0.0s\n",
      "[CV] END .......................C=1.3, gamma=0.9, kernel=rbf; total time=   0.0s\n",
      "[CV] END .......................C=1.3, gamma=0.9, kernel=rbf; total time=   0.0s\n",
      "[CV] END .......................C=1.3, gamma=0.9, kernel=rbf; total time=   0.0s\n",
      "[CV] END ......................C=1.3, gamma=1, kernel=linear; total time=   0.0s\n",
      "[CV] END ......................C=1.3, gamma=1, kernel=linear; total time=   0.0s\n",
      "[CV] END ......................C=1.3, gamma=1, kernel=linear; total time=   0.0s\n",
      "[CV] END ......................C=1.3, gamma=1, kernel=linear; total time=   0.0s\n",
      "[CV] END ......................C=1.3, gamma=1, kernel=linear; total time=   0.0s\n",
      "[CV] END ......................C=1.3, gamma=1, kernel=linear; total time=   0.0s\n",
      "[CV] END ......................C=1.3, gamma=1, kernel=linear; total time=   0.0s\n",
      "[CV] END ......................C=1.3, gamma=1, kernel=linear; total time=   0.0s\n",
      "[CV] END ......................C=1.3, gamma=1, kernel=linear; total time=   0.0s\n",
      "[CV] END ......................C=1.3, gamma=1, kernel=linear; total time=   0.0s\n",
      "[CV] END .........................C=1.3, gamma=1, kernel=rbf; total time=   0.0s\n",
      "[CV] END .........................C=1.3, gamma=1, kernel=rbf; total time=   0.0s\n",
      "[CV] END .........................C=1.3, gamma=1, kernel=rbf; total time=   0.0s\n",
      "[CV] END .........................C=1.3, gamma=1, kernel=rbf; total time=   0.0s\n",
      "[CV] END .........................C=1.3, gamma=1, kernel=rbf; total time=   0.0s\n",
      "[CV] END .........................C=1.3, gamma=1, kernel=rbf; total time=   0.0s\n",
      "[CV] END .........................C=1.3, gamma=1, kernel=rbf; total time=   0.0s\n",
      "[CV] END .........................C=1.3, gamma=1, kernel=rbf; total time=   0.0s\n",
      "[CV] END .........................C=1.3, gamma=1, kernel=rbf; total time=   0.0s\n",
      "[CV] END .........................C=1.3, gamma=1, kernel=rbf; total time=   0.0s\n",
      "[CV] END ....................C=1.3, gamma=1.1, kernel=linear; total time=   0.0s\n",
      "[CV] END ....................C=1.3, gamma=1.1, kernel=linear; total time=   0.0s\n",
      "[CV] END ....................C=1.3, gamma=1.1, kernel=linear; total time=   0.0s\n",
      "[CV] END ....................C=1.3, gamma=1.1, kernel=linear; total time=   0.0s\n",
      "[CV] END ....................C=1.3, gamma=1.1, kernel=linear; total time=   0.0s\n",
      "[CV] END ....................C=1.3, gamma=1.1, kernel=linear; total time=   0.0s\n",
      "[CV] END ....................C=1.3, gamma=1.1, kernel=linear; total time=   0.0s\n",
      "[CV] END ....................C=1.3, gamma=1.1, kernel=linear; total time=   0.0s\n",
      "[CV] END ....................C=1.3, gamma=1.1, kernel=linear; total time=   0.0s\n",
      "[CV] END ....................C=1.3, gamma=1.1, kernel=linear; total time=   0.0s\n",
      "[CV] END .......................C=1.3, gamma=1.1, kernel=rbf; total time=   0.0s\n",
      "[CV] END .......................C=1.3, gamma=1.1, kernel=rbf; total time=   0.0s\n",
      "[CV] END .......................C=1.3, gamma=1.1, kernel=rbf; total time=   0.0s\n",
      "[CV] END .......................C=1.3, gamma=1.1, kernel=rbf; total time=   0.0s\n",
      "[CV] END .......................C=1.3, gamma=1.1, kernel=rbf; total time=   0.0s\n",
      "[CV] END .......................C=1.3, gamma=1.1, kernel=rbf; total time=   0.0s\n"
     ]
    },
    {
     "name": "stdout",
     "output_type": "stream",
     "text": [
      "[CV] END .......................C=1.3, gamma=1.1, kernel=rbf; total time=   0.0s\n",
      "[CV] END .......................C=1.3, gamma=1.1, kernel=rbf; total time=   0.0s\n",
      "[CV] END .......................C=1.3, gamma=1.1, kernel=rbf; total time=   0.0s\n",
      "[CV] END .......................C=1.3, gamma=1.1, kernel=rbf; total time=   0.0s\n",
      "[CV] END ....................C=1.3, gamma=1.2, kernel=linear; total time=   0.0s\n",
      "[CV] END ....................C=1.3, gamma=1.2, kernel=linear; total time=   0.0s\n",
      "[CV] END ....................C=1.3, gamma=1.2, kernel=linear; total time=   0.0s\n",
      "[CV] END ....................C=1.3, gamma=1.2, kernel=linear; total time=   0.0s\n",
      "[CV] END ....................C=1.3, gamma=1.2, kernel=linear; total time=   0.0s\n",
      "[CV] END ....................C=1.3, gamma=1.2, kernel=linear; total time=   0.0s\n",
      "[CV] END ....................C=1.3, gamma=1.2, kernel=linear; total time=   0.0s\n",
      "[CV] END ....................C=1.3, gamma=1.2, kernel=linear; total time=   0.0s\n",
      "[CV] END ....................C=1.3, gamma=1.2, kernel=linear; total time=   0.0s\n",
      "[CV] END ....................C=1.3, gamma=1.2, kernel=linear; total time=   0.0s\n",
      "[CV] END .......................C=1.3, gamma=1.2, kernel=rbf; total time=   0.0s\n",
      "[CV] END .......................C=1.3, gamma=1.2, kernel=rbf; total time=   0.0s\n",
      "[CV] END .......................C=1.3, gamma=1.2, kernel=rbf; total time=   0.0s\n",
      "[CV] END .......................C=1.3, gamma=1.2, kernel=rbf; total time=   0.0s\n",
      "[CV] END .......................C=1.3, gamma=1.2, kernel=rbf; total time=   0.0s\n",
      "[CV] END .......................C=1.3, gamma=1.2, kernel=rbf; total time=   0.0s\n",
      "[CV] END .......................C=1.3, gamma=1.2, kernel=rbf; total time=   0.0s\n",
      "[CV] END .......................C=1.3, gamma=1.2, kernel=rbf; total time=   0.0s\n",
      "[CV] END .......................C=1.3, gamma=1.2, kernel=rbf; total time=   0.0s\n",
      "[CV] END .......................C=1.3, gamma=1.2, kernel=rbf; total time=   0.0s\n",
      "[CV] END ....................C=1.3, gamma=1.3, kernel=linear; total time=   0.0s\n",
      "[CV] END ....................C=1.3, gamma=1.3, kernel=linear; total time=   0.0s\n",
      "[CV] END ....................C=1.3, gamma=1.3, kernel=linear; total time=   0.0s\n",
      "[CV] END ....................C=1.3, gamma=1.3, kernel=linear; total time=   0.0s\n",
      "[CV] END ....................C=1.3, gamma=1.3, kernel=linear; total time=   0.0s\n",
      "[CV] END ....................C=1.3, gamma=1.3, kernel=linear; total time=   0.0s\n",
      "[CV] END ....................C=1.3, gamma=1.3, kernel=linear; total time=   0.0s\n",
      "[CV] END ....................C=1.3, gamma=1.3, kernel=linear; total time=   0.0s\n",
      "[CV] END ....................C=1.3, gamma=1.3, kernel=linear; total time=   0.0s\n",
      "[CV] END ....................C=1.3, gamma=1.3, kernel=linear; total time=   0.0s\n",
      "[CV] END .......................C=1.3, gamma=1.3, kernel=rbf; total time=   0.0s\n",
      "[CV] END .......................C=1.3, gamma=1.3, kernel=rbf; total time=   0.0s\n",
      "[CV] END .......................C=1.3, gamma=1.3, kernel=rbf; total time=   0.0s\n",
      "[CV] END .......................C=1.3, gamma=1.3, kernel=rbf; total time=   0.0s\n",
      "[CV] END .......................C=1.3, gamma=1.3, kernel=rbf; total time=   0.0s\n",
      "[CV] END .......................C=1.3, gamma=1.3, kernel=rbf; total time=   0.0s\n",
      "[CV] END .......................C=1.3, gamma=1.3, kernel=rbf; total time=   0.0s\n",
      "[CV] END .......................C=1.3, gamma=1.3, kernel=rbf; total time=   0.0s\n",
      "[CV] END .......................C=1.3, gamma=1.3, kernel=rbf; total time=   0.0s\n",
      "[CV] END .......................C=1.3, gamma=1.3, kernel=rbf; total time=   0.0s\n",
      "[CV] END ....................C=1.3, gamma=1.4, kernel=linear; total time=   0.0s\n",
      "[CV] END ....................C=1.3, gamma=1.4, kernel=linear; total time=   0.0s\n",
      "[CV] END ....................C=1.3, gamma=1.4, kernel=linear; total time=   0.0s\n",
      "[CV] END ....................C=1.3, gamma=1.4, kernel=linear; total time=   0.0s\n",
      "[CV] END ....................C=1.3, gamma=1.4, kernel=linear; total time=   0.0s\n",
      "[CV] END ....................C=1.3, gamma=1.4, kernel=linear; total time=   0.0s\n",
      "[CV] END ....................C=1.3, gamma=1.4, kernel=linear; total time=   0.0s\n",
      "[CV] END ....................C=1.3, gamma=1.4, kernel=linear; total time=   0.0s\n",
      "[CV] END ....................C=1.3, gamma=1.4, kernel=linear; total time=   0.0s\n",
      "[CV] END ....................C=1.3, gamma=1.4, kernel=linear; total time=   0.0s\n",
      "[CV] END .......................C=1.3, gamma=1.4, kernel=rbf; total time=   0.0s\n",
      "[CV] END .......................C=1.3, gamma=1.4, kernel=rbf; total time=   0.0s\n",
      "[CV] END .......................C=1.3, gamma=1.4, kernel=rbf; total time=   0.0s\n",
      "[CV] END .......................C=1.3, gamma=1.4, kernel=rbf; total time=   0.0s\n",
      "[CV] END .......................C=1.3, gamma=1.4, kernel=rbf; total time=   0.0s\n",
      "[CV] END .......................C=1.3, gamma=1.4, kernel=rbf; total time=   0.0s\n",
      "[CV] END .......................C=1.3, gamma=1.4, kernel=rbf; total time=   0.0s\n",
      "[CV] END .......................C=1.3, gamma=1.4, kernel=rbf; total time=   0.0s\n",
      "[CV] END .......................C=1.3, gamma=1.4, kernel=rbf; total time=   0.0s\n",
      "[CV] END .......................C=1.3, gamma=1.4, kernel=rbf; total time=   0.0s\n",
      "[CV] END ....................C=1.4, gamma=0.1, kernel=linear; total time=   0.0s\n",
      "[CV] END ....................C=1.4, gamma=0.1, kernel=linear; total time=   0.0s\n",
      "[CV] END ....................C=1.4, gamma=0.1, kernel=linear; total time=   0.0s\n",
      "[CV] END ....................C=1.4, gamma=0.1, kernel=linear; total time=   0.0s\n",
      "[CV] END ....................C=1.4, gamma=0.1, kernel=linear; total time=   0.0s\n",
      "[CV] END ....................C=1.4, gamma=0.1, kernel=linear; total time=   0.0s\n",
      "[CV] END ....................C=1.4, gamma=0.1, kernel=linear; total time=   0.0s\n",
      "[CV] END ....................C=1.4, gamma=0.1, kernel=linear; total time=   0.0s\n",
      "[CV] END ....................C=1.4, gamma=0.1, kernel=linear; total time=   0.0s\n",
      "[CV] END ....................C=1.4, gamma=0.1, kernel=linear; total time=   0.0s\n",
      "[CV] END .......................C=1.4, gamma=0.1, kernel=rbf; total time=   0.0s\n",
      "[CV] END .......................C=1.4, gamma=0.1, kernel=rbf; total time=   0.0s\n",
      "[CV] END .......................C=1.4, gamma=0.1, kernel=rbf; total time=   0.0s\n",
      "[CV] END .......................C=1.4, gamma=0.1, kernel=rbf; total time=   0.0s\n",
      "[CV] END .......................C=1.4, gamma=0.1, kernel=rbf; total time=   0.0s\n",
      "[CV] END .......................C=1.4, gamma=0.1, kernel=rbf; total time=   0.0s\n",
      "[CV] END .......................C=1.4, gamma=0.1, kernel=rbf; total time=   0.0s\n",
      "[CV] END .......................C=1.4, gamma=0.1, kernel=rbf; total time=   0.0s\n",
      "[CV] END .......................C=1.4, gamma=0.1, kernel=rbf; total time=   0.0s\n",
      "[CV] END .......................C=1.4, gamma=0.1, kernel=rbf; total time=   0.0s\n",
      "[CV] END ....................C=1.4, gamma=0.8, kernel=linear; total time=   0.0s\n",
      "[CV] END ....................C=1.4, gamma=0.8, kernel=linear; total time=   0.0s\n",
      "[CV] END ....................C=1.4, gamma=0.8, kernel=linear; total time=   0.0s\n",
      "[CV] END ....................C=1.4, gamma=0.8, kernel=linear; total time=   0.0s\n",
      "[CV] END ....................C=1.4, gamma=0.8, kernel=linear; total time=   0.0s\n",
      "[CV] END ....................C=1.4, gamma=0.8, kernel=linear; total time=   0.0s\n",
      "[CV] END ....................C=1.4, gamma=0.8, kernel=linear; total time=   0.0s\n",
      "[CV] END ....................C=1.4, gamma=0.8, kernel=linear; total time=   0.0s\n",
      "[CV] END ....................C=1.4, gamma=0.8, kernel=linear; total time=   0.0s\n",
      "[CV] END ....................C=1.4, gamma=0.8, kernel=linear; total time=   0.0s\n",
      "[CV] END .......................C=1.4, gamma=0.8, kernel=rbf; total time=   0.0s\n",
      "[CV] END .......................C=1.4, gamma=0.8, kernel=rbf; total time=   0.0s\n",
      "[CV] END .......................C=1.4, gamma=0.8, kernel=rbf; total time=   0.0s\n",
      "[CV] END .......................C=1.4, gamma=0.8, kernel=rbf; total time=   0.0s\n",
      "[CV] END .......................C=1.4, gamma=0.8, kernel=rbf; total time=   0.0s\n",
      "[CV] END .......................C=1.4, gamma=0.8, kernel=rbf; total time=   0.0s\n",
      "[CV] END .......................C=1.4, gamma=0.8, kernel=rbf; total time=   0.0s\n",
      "[CV] END .......................C=1.4, gamma=0.8, kernel=rbf; total time=   0.0s\n",
      "[CV] END .......................C=1.4, gamma=0.8, kernel=rbf; total time=   0.0s\n",
      "[CV] END .......................C=1.4, gamma=0.8, kernel=rbf; total time=   0.0s\n",
      "[CV] END ....................C=1.4, gamma=0.9, kernel=linear; total time=   0.0s\n",
      "[CV] END ....................C=1.4, gamma=0.9, kernel=linear; total time=   0.0s\n",
      "[CV] END ....................C=1.4, gamma=0.9, kernel=linear; total time=   0.0s\n",
      "[CV] END ....................C=1.4, gamma=0.9, kernel=linear; total time=   0.0s\n",
      "[CV] END ....................C=1.4, gamma=0.9, kernel=linear; total time=   0.0s\n",
      "[CV] END ....................C=1.4, gamma=0.9, kernel=linear; total time=   0.0s\n"
     ]
    },
    {
     "name": "stdout",
     "output_type": "stream",
     "text": [
      "[CV] END ....................C=1.4, gamma=0.9, kernel=linear; total time=   0.0s\n",
      "[CV] END ....................C=1.4, gamma=0.9, kernel=linear; total time=   0.0s\n",
      "[CV] END ....................C=1.4, gamma=0.9, kernel=linear; total time=   0.0s\n",
      "[CV] END ....................C=1.4, gamma=0.9, kernel=linear; total time=   0.0s\n",
      "[CV] END .......................C=1.4, gamma=0.9, kernel=rbf; total time=   0.0s\n",
      "[CV] END .......................C=1.4, gamma=0.9, kernel=rbf; total time=   0.0s\n",
      "[CV] END .......................C=1.4, gamma=0.9, kernel=rbf; total time=   0.0s\n",
      "[CV] END .......................C=1.4, gamma=0.9, kernel=rbf; total time=   0.0s\n",
      "[CV] END .......................C=1.4, gamma=0.9, kernel=rbf; total time=   0.0s\n",
      "[CV] END .......................C=1.4, gamma=0.9, kernel=rbf; total time=   0.0s\n",
      "[CV] END .......................C=1.4, gamma=0.9, kernel=rbf; total time=   0.0s\n",
      "[CV] END .......................C=1.4, gamma=0.9, kernel=rbf; total time=   0.0s\n",
      "[CV] END .......................C=1.4, gamma=0.9, kernel=rbf; total time=   0.0s\n",
      "[CV] END .......................C=1.4, gamma=0.9, kernel=rbf; total time=   0.0s\n",
      "[CV] END ......................C=1.4, gamma=1, kernel=linear; total time=   0.0s\n",
      "[CV] END ......................C=1.4, gamma=1, kernel=linear; total time=   0.0s\n",
      "[CV] END ......................C=1.4, gamma=1, kernel=linear; total time=   0.0s\n",
      "[CV] END ......................C=1.4, gamma=1, kernel=linear; total time=   0.0s\n",
      "[CV] END ......................C=1.4, gamma=1, kernel=linear; total time=   0.0s\n",
      "[CV] END ......................C=1.4, gamma=1, kernel=linear; total time=   0.0s\n",
      "[CV] END ......................C=1.4, gamma=1, kernel=linear; total time=   0.0s\n",
      "[CV] END ......................C=1.4, gamma=1, kernel=linear; total time=   0.0s\n",
      "[CV] END ......................C=1.4, gamma=1, kernel=linear; total time=   0.0s\n",
      "[CV] END ......................C=1.4, gamma=1, kernel=linear; total time=   0.0s\n",
      "[CV] END .........................C=1.4, gamma=1, kernel=rbf; total time=   0.0s\n",
      "[CV] END .........................C=1.4, gamma=1, kernel=rbf; total time=   0.0s\n",
      "[CV] END .........................C=1.4, gamma=1, kernel=rbf; total time=   0.0s\n",
      "[CV] END .........................C=1.4, gamma=1, kernel=rbf; total time=   0.0s\n",
      "[CV] END .........................C=1.4, gamma=1, kernel=rbf; total time=   0.0s\n",
      "[CV] END .........................C=1.4, gamma=1, kernel=rbf; total time=   0.0s\n",
      "[CV] END .........................C=1.4, gamma=1, kernel=rbf; total time=   0.0s\n",
      "[CV] END .........................C=1.4, gamma=1, kernel=rbf; total time=   0.0s\n",
      "[CV] END .........................C=1.4, gamma=1, kernel=rbf; total time=   0.0s\n",
      "[CV] END .........................C=1.4, gamma=1, kernel=rbf; total time=   0.0s\n",
      "[CV] END ....................C=1.4, gamma=1.1, kernel=linear; total time=   0.0s\n",
      "[CV] END ....................C=1.4, gamma=1.1, kernel=linear; total time=   0.0s\n",
      "[CV] END ....................C=1.4, gamma=1.1, kernel=linear; total time=   0.0s\n",
      "[CV] END ....................C=1.4, gamma=1.1, kernel=linear; total time=   0.0s\n",
      "[CV] END ....................C=1.4, gamma=1.1, kernel=linear; total time=   0.0s\n",
      "[CV] END ....................C=1.4, gamma=1.1, kernel=linear; total time=   0.0s\n",
      "[CV] END ....................C=1.4, gamma=1.1, kernel=linear; total time=   0.0s\n",
      "[CV] END ....................C=1.4, gamma=1.1, kernel=linear; total time=   0.0s\n",
      "[CV] END ....................C=1.4, gamma=1.1, kernel=linear; total time=   0.0s\n",
      "[CV] END ....................C=1.4, gamma=1.1, kernel=linear; total time=   0.0s\n",
      "[CV] END .......................C=1.4, gamma=1.1, kernel=rbf; total time=   0.0s\n",
      "[CV] END .......................C=1.4, gamma=1.1, kernel=rbf; total time=   0.0s\n",
      "[CV] END .......................C=1.4, gamma=1.1, kernel=rbf; total time=   0.0s\n",
      "[CV] END .......................C=1.4, gamma=1.1, kernel=rbf; total time=   0.0s\n",
      "[CV] END .......................C=1.4, gamma=1.1, kernel=rbf; total time=   0.0s\n",
      "[CV] END .......................C=1.4, gamma=1.1, kernel=rbf; total time=   0.0s\n",
      "[CV] END .......................C=1.4, gamma=1.1, kernel=rbf; total time=   0.0s\n",
      "[CV] END .......................C=1.4, gamma=1.1, kernel=rbf; total time=   0.0s\n",
      "[CV] END .......................C=1.4, gamma=1.1, kernel=rbf; total time=   0.0s\n",
      "[CV] END .......................C=1.4, gamma=1.1, kernel=rbf; total time=   0.0s\n",
      "[CV] END ....................C=1.4, gamma=1.2, kernel=linear; total time=   0.0s\n",
      "[CV] END ....................C=1.4, gamma=1.2, kernel=linear; total time=   0.0s\n",
      "[CV] END ....................C=1.4, gamma=1.2, kernel=linear; total time=   0.0s\n",
      "[CV] END ....................C=1.4, gamma=1.2, kernel=linear; total time=   0.0s\n",
      "[CV] END ....................C=1.4, gamma=1.2, kernel=linear; total time=   0.0s\n",
      "[CV] END ....................C=1.4, gamma=1.2, kernel=linear; total time=   0.0s\n",
      "[CV] END ....................C=1.4, gamma=1.2, kernel=linear; total time=   0.0s\n",
      "[CV] END ....................C=1.4, gamma=1.2, kernel=linear; total time=   0.0s\n",
      "[CV] END ....................C=1.4, gamma=1.2, kernel=linear; total time=   0.0s\n",
      "[CV] END ....................C=1.4, gamma=1.2, kernel=linear; total time=   0.0s\n",
      "[CV] END .......................C=1.4, gamma=1.2, kernel=rbf; total time=   0.0s\n",
      "[CV] END .......................C=1.4, gamma=1.2, kernel=rbf; total time=   0.0s\n",
      "[CV] END .......................C=1.4, gamma=1.2, kernel=rbf; total time=   0.0s\n",
      "[CV] END .......................C=1.4, gamma=1.2, kernel=rbf; total time=   0.0s\n",
      "[CV] END .......................C=1.4, gamma=1.2, kernel=rbf; total time=   0.0s\n",
      "[CV] END .......................C=1.4, gamma=1.2, kernel=rbf; total time=   0.0s\n",
      "[CV] END .......................C=1.4, gamma=1.2, kernel=rbf; total time=   0.0s\n",
      "[CV] END .......................C=1.4, gamma=1.2, kernel=rbf; total time=   0.0s\n",
      "[CV] END .......................C=1.4, gamma=1.2, kernel=rbf; total time=   0.0s\n",
      "[CV] END .......................C=1.4, gamma=1.2, kernel=rbf; total time=   0.0s\n",
      "[CV] END ....................C=1.4, gamma=1.3, kernel=linear; total time=   0.0s\n",
      "[CV] END ....................C=1.4, gamma=1.3, kernel=linear; total time=   0.0s\n",
      "[CV] END ....................C=1.4, gamma=1.3, kernel=linear; total time=   0.0s\n",
      "[CV] END ....................C=1.4, gamma=1.3, kernel=linear; total time=   0.0s\n",
      "[CV] END ....................C=1.4, gamma=1.3, kernel=linear; total time=   0.0s\n",
      "[CV] END ....................C=1.4, gamma=1.3, kernel=linear; total time=   0.0s\n",
      "[CV] END ....................C=1.4, gamma=1.3, kernel=linear; total time=   0.0s\n",
      "[CV] END ....................C=1.4, gamma=1.3, kernel=linear; total time=   0.0s\n",
      "[CV] END ....................C=1.4, gamma=1.3, kernel=linear; total time=   0.0s\n",
      "[CV] END ....................C=1.4, gamma=1.3, kernel=linear; total time=   0.0s\n",
      "[CV] END .......................C=1.4, gamma=1.3, kernel=rbf; total time=   0.0s\n",
      "[CV] END .......................C=1.4, gamma=1.3, kernel=rbf; total time=   0.0s\n",
      "[CV] END .......................C=1.4, gamma=1.3, kernel=rbf; total time=   0.0s\n",
      "[CV] END .......................C=1.4, gamma=1.3, kernel=rbf; total time=   0.0s\n",
      "[CV] END .......................C=1.4, gamma=1.3, kernel=rbf; total time=   0.0s\n",
      "[CV] END .......................C=1.4, gamma=1.3, kernel=rbf; total time=   0.0s\n",
      "[CV] END .......................C=1.4, gamma=1.3, kernel=rbf; total time=   0.0s\n",
      "[CV] END .......................C=1.4, gamma=1.3, kernel=rbf; total time=   0.0s\n",
      "[CV] END .......................C=1.4, gamma=1.3, kernel=rbf; total time=   0.0s\n",
      "[CV] END .......................C=1.4, gamma=1.3, kernel=rbf; total time=   0.0s\n",
      "[CV] END ....................C=1.4, gamma=1.4, kernel=linear; total time=   0.0s\n",
      "[CV] END ....................C=1.4, gamma=1.4, kernel=linear; total time=   0.0s\n",
      "[CV] END ....................C=1.4, gamma=1.4, kernel=linear; total time=   0.0s\n",
      "[CV] END ....................C=1.4, gamma=1.4, kernel=linear; total time=   0.0s\n",
      "[CV] END ....................C=1.4, gamma=1.4, kernel=linear; total time=   0.0s\n",
      "[CV] END ....................C=1.4, gamma=1.4, kernel=linear; total time=   0.0s\n",
      "[CV] END ....................C=1.4, gamma=1.4, kernel=linear; total time=   0.0s\n",
      "[CV] END ....................C=1.4, gamma=1.4, kernel=linear; total time=   0.0s\n",
      "[CV] END ....................C=1.4, gamma=1.4, kernel=linear; total time=   0.0s\n",
      "[CV] END ....................C=1.4, gamma=1.4, kernel=linear; total time=   0.0s\n",
      "[CV] END .......................C=1.4, gamma=1.4, kernel=rbf; total time=   0.0s\n",
      "[CV] END .......................C=1.4, gamma=1.4, kernel=rbf; total time=   0.0s\n",
      "[CV] END .......................C=1.4, gamma=1.4, kernel=rbf; total time=   0.0s\n",
      "[CV] END .......................C=1.4, gamma=1.4, kernel=rbf; total time=   0.0s\n",
      "[CV] END .......................C=1.4, gamma=1.4, kernel=rbf; total time=   0.0s\n"
     ]
    },
    {
     "name": "stdout",
     "output_type": "stream",
     "text": [
      "[CV] END .......................C=1.4, gamma=1.4, kernel=rbf; total time=   0.0s\n",
      "[CV] END .......................C=1.4, gamma=1.4, kernel=rbf; total time=   0.0s\n",
      "[CV] END .......................C=1.4, gamma=1.4, kernel=rbf; total time=   0.0s\n",
      "[CV] END .......................C=1.4, gamma=1.4, kernel=rbf; total time=   0.0s\n",
      "[CV] END .......................C=1.4, gamma=1.4, kernel=rbf; total time=   0.0s\n"
     ]
    },
    {
     "data": {
      "text/plain": [
       "GridSearchCV(cv=10, estimator=SVC(),\n",
       "             param_grid={'C': [0.1, 0.8, 0.9, 1, 1.1, 1.2, 1.3, 1.4],\n",
       "                         'gamma': [0.1, 0.8, 0.9, 1, 1.1, 1.2, 1.3, 1.4],\n",
       "                         'kernel': ['linear', 'rbf']},\n",
       "             scoring='accuracy', verbose=2)"
      ]
     },
     "execution_count": 41,
     "metadata": {},
     "output_type": "execute_result"
    },
    {
     "data": {
      "text/plain": [
       "{'C': 0.8, 'gamma': 0.1, 'kernel': 'linear'}"
      ]
     },
     "execution_count": 41,
     "metadata": {},
     "output_type": "execute_result"
    }
   ],
   "source": [
    "svc = SVC()\n",
    "\n",
    "params = {\n",
    "    'C': [0.1,0.8,0.9,1,1.1,1.2,1.3,1.4],\n",
    "    'kernel':['linear', 'rbf'],\n",
    "    'gamma' :[0.1,0.8,0.9,1,1.1,1.2,1.3,1.4]\n",
    "}\n",
    "\n",
    "clf = GridSearchCV(svc, param_grid = params, scoring = 'accuracy', cv = 10, verbose = 2)\n",
    "\n",
    "clf.fit(X_train, y_train)\n",
    "clf.best_params_"
   ]
  },
  {
   "cell_type": "markdown",
   "id": "premier-desert",
   "metadata": {},
   "source": [
    "# Re-running model with best parametres"
   ]
  },
  {
   "cell_type": "code",
   "execution_count": 42,
   "id": "printable-professor",
   "metadata": {},
   "outputs": [
    {
     "data": {
      "text/plain": [
       "SVC(C=0.8, gamma=0.1, kernel='linear')"
      ]
     },
     "execution_count": 42,
     "metadata": {},
     "output_type": "execute_result"
    },
    {
     "name": "stdout",
     "output_type": "stream",
     "text": [
      "Model: SVC(C=0.8, gamma=0.1, kernel='linear')\n",
      "------------------------------------------------------------\n"
     ]
    },
    {
     "data": {
      "image/png": "[encoded data removed]",
      "text/plain": [
       "<Figure size 432x288 with 2 Axes>"
      ]
     },
     "metadata": {},
     "output_type": "display_data"
    },
    {
     "name": "stdout",
     "output_type": "stream",
     "text": [
      "test accuracy: 1.0\n",
      "train accuracy: 0.41\n",
      "------------------------------------------------------------\n",
      "------------------------------------------------------------\n",
      "Confusion Matrix:\n",
      " Predicted    0    1  All\n",
      "Actual                  \n",
      "0          129    0  129\n",
      "1            0  293  293\n",
      "All        129  293  422\n",
      "\n",
      "test report:\n",
      "              precision    recall  f1-score   support\n",
      "\n",
      "           0       1.00      1.00      1.00       129\n",
      "           1       1.00      1.00      1.00       293\n",
      "\n",
      "    accuracy                           1.00       422\n",
      "   macro avg       1.00      1.00      1.00       422\n",
      "weighted avg       1.00      1.00      1.00       422\n",
      "\n",
      "~~~~~~~~~~~~~~~~~~~~~~~~~~~~~~~~~~~~~~~~~~~~~~~~~~~~~~~~~~~~\n",
      "\n",
      "train report:\n",
      "              precision    recall  f1-score   support\n",
      "\n",
      "           0       0.34      1.00      0.51       197\n",
      "           1       1.00      0.14      0.24       435\n",
      "\n",
      "    accuracy                           0.41       632\n",
      "   macro avg       0.67      0.57      0.38       632\n",
      "weighted avg       0.80      0.41      0.32       632\n",
      "\n",
      "------------------------------------------------------------\n"
     ]
    },
    {
     "data": {
      "text/plain": [
       "1.0"
      ]
     },
     "execution_count": 42,
     "metadata": {},
     "output_type": "execute_result"
    }
   ],
   "source": [
    "# Re-running model with best parametres\n",
    "svc1 = SVC(C = 0.8, gamma = 0.1, kernel = 'linear')\n",
    "svc1.fit(X_train, y_train)\n",
    "y_hat_test = svc1.predict(X_test)\n",
    "#print(accuracy_score(y_test, y_hat_test))\n",
    "metrics(svc1, y_train, y_test, y_hat_train, y_hat_test)\n",
    "svcgrid_test_acc = round(accuracy_score(y_test, y_hat_test), 2)\n",
    "\n",
    "svcgrid_test_acc"
   ]
  },
  {
   "cell_type": "markdown",
   "id": "tracked-ballot",
   "metadata": {},
   "source": [
    "#### Support vector machine model after hypertunned by grid search ran into underfitting so this model is rejected. "
   ]
  },
  {
   "cell_type": "markdown",
   "id": "bigger-genetics",
   "metadata": {},
   "source": [
    "## Random Forest( Grid search and pipeline )\n",
    "Grid search algorithm is used to make exhaustive search of hyper parameters.\n",
    "\n",
    "Pipeline is used to streamline the routine processes."
   ]
  },
  {
   "cell_type": "code",
   "execution_count": 43,
   "id": "final-foster",
   "metadata": {},
   "outputs": [],
   "source": [
    "#Instantiate the pipeline\n",
    "from sklearn.pipeline import Pipeline\n",
    "\n",
    "pipe = Pipeline([('classifier', RandomForestClassifier(random_state=123))])"
   ]
  },
  {
   "cell_type": "code",
   "execution_count": 44,
   "id": "republican-ethiopia",
   "metadata": {},
   "outputs": [],
   "source": [
    "#Define grid\n",
    "grid = [{'classifier__criterion': ['gini', 'entropy'],\n",
    "         'classifier__n_estimators':[10, 20, 50, 100],\n",
    "         'classifier__max_depth': [None, 5, 3, 10],\n",
    "         'classifier__min_samples_split': [1.0, 6, 10],\n",
    "         'classifier__min_samples_leaf': [1,  6, 10],\n",
    "         'classifier__class_weight':['balanced']}]"
   ]
  },
  {
   "cell_type": "code",
   "execution_count": 45,
   "id": "reserved-input",
   "metadata": {},
   "outputs": [
    {
     "data": {
      "text/plain": [
       "GridSearchCV(cv=5,\n",
       "             estimator=Pipeline(steps=[('classifier',\n",
       "                                        RandomForestClassifier(random_state=123))]),\n",
       "             n_jobs=-1,\n",
       "             param_grid=[{'classifier__class_weight': ['balanced'],\n",
       "                          'classifier__criterion': ['gini', 'entropy'],\n",
       "                          'classifier__max_depth': [None, 5, 3, 10],\n",
       "                          'classifier__min_samples_leaf': [1, 6, 10],\n",
       "                          'classifier__min_samples_split': [1.0, 6, 10],\n",
       "                          'classifier__n_estimators': [10, 20, 50, 100]}],\n",
       "             scoring='roc_auc')"
      ]
     },
     "execution_count": 45,
     "metadata": {},
     "output_type": "execute_result"
    }
   ],
   "source": [
    "#Instantiate, fit and predict\n",
    "\n",
    "clf = GridSearchCV(estimator=pipe, param_grid=grid,\n",
    "                   cv=5, scoring='roc_auc', n_jobs=-1)\n",
    "clf.fit(X_train, y_train)\n",
    "y_hat_train = clf.predict(X_train)\n",
    "y_hat_test = clf.predict(X_test)"
   ]
  },
  {
   "cell_type": "code",
   "execution_count": 46,
   "id": "differential-vertical",
   "metadata": {},
   "outputs": [
    {
     "name": "stdout",
     "output_type": "stream",
     "text": [
      "Model: GridSearchCV(cv=5,\n",
      "             estimator=Pipeline(steps=[('classifier',\n",
      "                                        RandomForestClassifier(random_state=123))]),\n",
      "             n_jobs=-1,\n",
      "             param_grid=[{'classifier__class_weight': ['balanced'],\n",
      "                          'classifier__criterion': ['gini', 'entropy'],\n",
      "                          'classifier__max_depth': [None, 5, 3, 10],\n",
      "                          'classifier__min_samples_leaf': [1, 6, 10],\n",
      "                          'classifier__min_samples_split': [1.0, 6, 10],\n",
      "                          'classifier__n_estimators': [10, 20, 50, 100]}],\n",
      "             scoring='roc_auc')\n",
      "------------------------------------------------------------\n"
     ]
    },
    {
     "data": {
      "image/png": "[encoded data removed]",
      "text/plain": [
       "<Figure size 432x288 with 2 Axes>"
      ]
     },
     "metadata": {},
     "output_type": "display_data"
    },
    {
     "name": "stdout",
     "output_type": "stream",
     "text": [
      "test accuracy: 0.95\n",
      "train accuracy: 0.96\n",
      "------------------------------------------------------------\n",
      "------------------------------------------------------------\n",
      "Confusion Matrix:\n",
      " Predicted    0    1  All\n",
      "Actual                  \n",
      "0          125    4  129\n",
      "1           17  276  293\n",
      "All        142  280  422\n",
      "\n",
      "test report:\n",
      "              precision    recall  f1-score   support\n",
      "\n",
      "           0       0.88      0.97      0.92       129\n",
      "           1       0.99      0.94      0.96       293\n",
      "\n",
      "    accuracy                           0.95       422\n",
      "   macro avg       0.93      0.96      0.94       422\n",
      "weighted avg       0.95      0.95      0.95       422\n",
      "\n",
      "~~~~~~~~~~~~~~~~~~~~~~~~~~~~~~~~~~~~~~~~~~~~~~~~~~~~~~~~~~~~\n",
      "\n",
      "train report:\n",
      "              precision    recall  f1-score   support\n",
      "\n",
      "           0       0.89      0.99      0.94       197\n",
      "           1       1.00      0.95      0.97       435\n",
      "\n",
      "    accuracy                           0.96       632\n",
      "   macro avg       0.95      0.97      0.96       632\n",
      "weighted avg       0.97      0.96      0.96       632\n",
      "\n",
      "------------------------------------------------------------\n"
     ]
    }
   ],
   "source": [
    "#Print evaluation metrics\n",
    "\n",
    "metrics(clf, y_train, y_test, y_hat_train, y_hat_test)"
   ]
  },
  {
   "cell_type": "code",
   "execution_count": 47,
   "id": "peripheral-sandwich",
   "metadata": {},
   "outputs": [
    {
     "name": "stdout",
     "output_type": "stream",
     "text": [
      "1\n",
      "1\n"
     ]
    }
   ],
   "source": [
    "# Best Scores\n",
    "print(round(clf.score(X_train, y_train)))\n",
    "print(round(clf.score(X_test, y_test)))"
   ]
  },
  {
   "cell_type": "code",
   "execution_count": 48,
   "id": "pleased-zealand",
   "metadata": {},
   "outputs": [
    {
     "data": {
      "text/plain": [
       "{'classifier__class_weight': 'balanced',\n",
       " 'classifier__criterion': 'gini',\n",
       " 'classifier__max_depth': None,\n",
       " 'classifier__min_samples_leaf': 6,\n",
       " 'classifier__min_samples_split': 6,\n",
       " 'classifier__n_estimators': 100}"
      ]
     },
     "execution_count": 48,
     "metadata": {},
     "output_type": "execute_result"
    }
   ],
   "source": [
    "# Best Parameters\n",
    "\n",
    "clf.best_params_"
   ]
  },
  {
   "cell_type": "code",
   "execution_count": 49,
   "id": "specific-cisco",
   "metadata": {},
   "outputs": [
    {
     "data": {
      "text/plain": [
       "Pipeline(steps=[('classifier',\n",
       "                 RandomForestClassifier(class_weight='balanced',\n",
       "                                        min_samples_leaf=6, min_samples_split=6,\n",
       "                                        random_state=123))])"
      ]
     },
     "execution_count": 49,
     "metadata": {},
     "output_type": "execute_result"
    }
   ],
   "source": [
    "# Research best estimator from grid\n",
    "best_clf_estimator = clf.best_estimator_\n",
    "best_clf_estimator.fit(X_train,y_train)"
   ]
  },
  {
   "cell_type": "code",
   "execution_count": 50,
   "id": "curious-check",
   "metadata": {},
   "outputs": [
    {
     "name": "stdout",
     "output_type": "stream",
     "text": [
      "Model: Pipeline(steps=[('classifier',\n",
      "                 RandomForestClassifier(class_weight='balanced',\n",
      "                                        min_samples_leaf=6, min_samples_split=6,\n",
      "                                        random_state=123))])\n",
      "------------------------------------------------------------\n"
     ]
    },
    {
     "data": {
      "image/png": "[encoded data removed]",
      "text/plain": [
       "<Figure size 432x288 with 2 Axes>"
      ]
     },
     "metadata": {},
     "output_type": "display_data"
    },
    {
     "name": "stdout",
     "output_type": "stream",
     "text": [
      "test accuracy: 0.95\n",
      "train accuracy: 0.96\n",
      "------------------------------------------------------------\n",
      "------------------------------------------------------------\n",
      "Confusion Matrix:\n",
      " Predicted    0    1  All\n",
      "Actual                  \n",
      "0          125    4  129\n",
      "1           17  276  293\n",
      "All        142  280  422\n",
      "\n",
      "test report:\n",
      "              precision    recall  f1-score   support\n",
      "\n",
      "           0       0.88      0.97      0.92       129\n",
      "           1       0.99      0.94      0.96       293\n",
      "\n",
      "    accuracy                           0.95       422\n",
      "   macro avg       0.93      0.96      0.94       422\n",
      "weighted avg       0.95      0.95      0.95       422\n",
      "\n",
      "~~~~~~~~~~~~~~~~~~~~~~~~~~~~~~~~~~~~~~~~~~~~~~~~~~~~~~~~~~~~\n",
      "\n",
      "train report:\n",
      "              precision    recall  f1-score   support\n",
      "\n",
      "           0       0.89      0.99      0.94       197\n",
      "           1       1.00      0.95      0.97       435\n",
      "\n",
      "    accuracy                           0.96       632\n",
      "   macro avg       0.95      0.97      0.96       632\n",
      "weighted avg       0.97      0.96      0.96       632\n",
      "\n",
      "------------------------------------------------------------\n"
     ]
    },
    {
     "data": {
      "text/plain": [
       "0.95"
      ]
     },
     "execution_count": 50,
     "metadata": {},
     "output_type": "execute_result"
    }
   ],
   "source": [
    "#Predictions\n",
    "y_hat_train=best_clf_estimator.predict(X_train)\n",
    "y_hat_test = best_clf_estimator.predict(X_test)\n",
    "results=metrics(best_clf_estimator, y_train, y_test, y_hat_train, y_hat_test)\n",
    "rf_gridsearch_test_acc = round(accuracy_score(y_test,y_hat_test), 2)\n",
    "rf_gridsearch_test_acc"
   ]
  },
  {
   "cell_type": "markdown",
   "id": "structural-second",
   "metadata": {},
   "source": [
    "## Interpreting the results of the second Random Forest model\n",
    "Random forest classifier before hyper tune Recall was 47% and after hyper tuning recall is 97%, also False-negative 156/422=37% before hyper tune but after hyper tune the false negative is only 8/422 = 0.02% meaning this model misclassifies only 0.02% and this is great mode.lWe have a weighted average recall and precision of 0.96 ain the test set. We don't have overfitting. It means we are able to detect the positive autism patient 96%.\n",
    "\n",
    "We used pipelines to prevent data leakage and to have clean code. "
   ]
  },
  {
   "cell_type": "code",
   "execution_count": 51,
   "id": "norwegian-syndicate",
   "metadata": {},
   "outputs": [
    {
     "data": {
      "image/png": "[encoded data removed]",
      "text/plain": [
       "<Figure size 576x576 with 1 Axes>"
      ]
     },
     "metadata": {},
     "output_type": "display_data"
    }
   ],
   "source": [
    "plot_feature_importances(model)"
   ]
  },
  {
   "cell_type": "markdown",
   "id": "proved-suicide",
   "metadata": {},
   "source": [
    "### A9 is the most important feature, other important features are A6, A5, and A8. Features named A are answers to the questions. If the patient answers yes to the question, the feature gets 1 for yes. As many 1 was in each column, The column got its importance. Ethnicity and age in months are important features, Jandice and the type of gender'sex' are less important features. Genes in this study which appear through the column of a family member with ASD is not an important feature, and that's actually against the worldwide studies. I can refer to the small size of the sample under study. "
   ]
  },
  {
   "cell_type": "markdown",
   "id": "better-repeat",
   "metadata": {},
   "source": [
    "### Neural Network Classifier Using SKLearn "
   ]
  },
  {
   "cell_type": "code",
   "execution_count": 52,
   "id": "little-casting",
   "metadata": {},
   "outputs": [
    {
     "data": {
      "text/plain": [
       "MLPClassifier(activation='tanh', hidden_layer_sizes=(100, 3), random_state=33,\n",
       "              solver='lbfgs')"
      ]
     },
     "execution_count": 52,
     "metadata": {},
     "output_type": "execute_result"
    },
    {
     "name": "stdout",
     "output_type": "stream",
     "text": [
      "Model: MLPClassifier(activation='tanh', hidden_layer_sizes=(100, 3), random_state=33,\n",
      "              solver='lbfgs')\n",
      "------------------------------------------------------------\n"
     ]
    },
    {
     "data": {
      "image/png": "[encoded data removed]",
      "text/plain": [
       "<Figure size 432x288 with 2 Axes>"
      ]
     },
     "metadata": {},
     "output_type": "display_data"
    },
    {
     "name": "stdout",
     "output_type": "stream",
     "text": [
      "test accuracy: 0.99\n",
      "train accuracy: 1.0\n",
      "------------------------------------------------------------\n",
      "------------------------------------------------------------\n",
      "Confusion Matrix:\n",
      " Predicted    0    1  All\n",
      "Actual                  \n",
      "0          125    4  129\n",
      "1            2  291  293\n",
      "All        127  295  422\n",
      "\n",
      "test report:\n",
      "              precision    recall  f1-score   support\n",
      "\n",
      "           0       0.98      0.97      0.98       129\n",
      "           1       0.99      0.99      0.99       293\n",
      "\n",
      "    accuracy                           0.99       422\n",
      "   macro avg       0.99      0.98      0.98       422\n",
      "weighted avg       0.99      0.99      0.99       422\n",
      "\n",
      "~~~~~~~~~~~~~~~~~~~~~~~~~~~~~~~~~~~~~~~~~~~~~~~~~~~~~~~~~~~~\n",
      "\n",
      "train report:\n",
      "              precision    recall  f1-score   support\n",
      "\n",
      "           0       1.00      1.00      1.00       197\n",
      "           1       1.00      1.00      1.00       435\n",
      "\n",
      "    accuracy                           1.00       632\n",
      "   macro avg       1.00      1.00      1.00       632\n",
      "weighted avg       1.00      1.00      1.00       632\n",
      "\n",
      "------------------------------------------------------------\n",
      "Accuracy Score is :  0.99\n"
     ]
    }
   ],
   "source": [
    "##Applying MLPClassifier Model \n",
    "from sklearn.neural_network import MLPClassifier\n",
    "MLPClassifierModel = MLPClassifier(activation='tanh', # can be also identity , logistic , relu\n",
    "                                   solver='lbfgs',  # can be also sgd , adam\n",
    "                                   learning_rate='constant', # can be also invscaling , adaptive\n",
    "                                   early_stopping= False,\n",
    "                                   alpha=0.0001 ,hidden_layer_sizes=(100, 3),random_state=33)\n",
    "MLPClassifierModel.fit(X_train, y_train)\n",
    "#Calculating Prediction\n",
    "y_hat_test = MLPClassifierModel.predict(X_test)\n",
    "y_hat_train = MLPClassifierModel.predict(X_train)\n",
    "\n",
    "results=metrics(MLPClassifierModel, y_train, y_test, y_hat_train, y_hat_test)\n",
    "\n",
    "#Calculating Accuracy Score  \n",
    "nn_sklearn_test_acc = round(accuracy_score(y_test, y_hat_test, normalize=True),2)\n",
    "\n",
    "print('Accuracy Score is : ', nn_sklearn_test_acc)"
   ]
  },
  {
   "cell_type": "code",
   "execution_count": 51,
   "id": "rural-shuttle",
   "metadata": {},
   "outputs": [],
   "source": [
    "# This model is great based on train, test and recall accuracy, so I highly recommend it."
   ]
  },
  {
   "cell_type": "code",
   "execution_count": 53,
   "id": "instructional-bradley",
   "metadata": {},
   "outputs": [],
   "source": [
    "# Create classifier summary table\n",
    "\n",
    "LogisticRegression_Accuracy =  1.0\n",
    "\n",
    "KNeighborsClassifier_accuracy =  0.91\n",
    "DecisionTreeClassifier_accuracy =  0.91\n",
    "GaussianNB_accuracy =  0.94\n",
    "SVC_beforegrid_accuracy =  0.78\n",
    "RandomForest_beforegrid_accuracy =  0.64\n",
    "XGBClassifier_accuracy=  0.99\n",
    "GradientBoosting_accuracy =  0.64,\n",
    "AdaBoosting_accuracy = 0.49\n",
    "SVC_aftergrid_accuracy = 1.0\n",
    "RandomForest_aftergrid_accuracy =0.96\n",
    "Neuralnetwork_SKLearn_accuracy= 0.99\n",
    "\n",
    "\n",
    "\n",
    "\n",
    "models=['LogisticRegression',\n",
    "       'KNeighborsClassifier','DecisionTreeClassifier',\n",
    "        'GaussianNB','SVC_beforegrid',\n",
    "        'RandomForest_beforegrid','XGBClassifier',\n",
    "        'GradientBoosting','AdaBoosting','SVC_aftergrid','RandomForest_aftergrid','Neuralnetwork_SKLearn Accuracy']\n",
    "\n",
    "\n",
    "test_Accuracy=[1.0,0.91,0.91,0.94, 0.78,0.64, 0.99,0.64,0.49,1.0,0.96,0.99]\n",
    "\n",
    "\n",
    "\n",
    "\n",
    "accuracy_summary = pd.DataFrame([models, test_Accuracy]).T\n",
    "accuracy_summary.columns = ['Classifier', 'test_Accuracy']\n"
   ]
  },
  {
   "cell_type": "markdown",
   "id": "operational-theater",
   "metadata": {},
   "source": [
    "## ACCURACY SUMMARY"
   ]
  },
  {
   "cell_type": "code",
   "execution_count": 54,
   "id": "acting-george",
   "metadata": {},
   "outputs": [
    {
     "data": {
      "text/html": [
       "<div>\n",
       "<style scoped>\n",
       "    .dataframe tbody tr th:only-of-type {\n",
       "        vertical-align: middle;\n",
       "    }\n",
       "\n",
       "    .dataframe tbody tr th {\n",
       "        vertical-align: top;\n",
       "    }\n",
       "\n",
       "    .dataframe thead th {\n",
       "        text-align: right;\n",
       "    }\n",
       "</style>\n",
       "<table border=\"1\" class=\"dataframe\">\n",
       "  <thead>\n",
       "    <tr style=\"text-align: right;\">\n",
       "      <th></th>\n",
       "      <th>Classifier</th>\n",
       "      <th>test_Accuracy</th>\n",
       "    </tr>\n",
       "  </thead>\n",
       "  <tbody>\n",
       "    <tr>\n",
       "      <th>0</th>\n",
       "      <td>LogisticRegression</td>\n",
       "      <td>1.0</td>\n",
       "    </tr>\n",
       "    <tr>\n",
       "      <th>1</th>\n",
       "      <td>KNeighborsClassifier</td>\n",
       "      <td>0.91</td>\n",
       "    </tr>\n",
       "    <tr>\n",
       "      <th>2</th>\n",
       "      <td>DecisionTreeClassifier</td>\n",
       "      <td>0.91</td>\n",
       "    </tr>\n",
       "    <tr>\n",
       "      <th>3</th>\n",
       "      <td>GaussianNB</td>\n",
       "      <td>0.94</td>\n",
       "    </tr>\n",
       "    <tr>\n",
       "      <th>4</th>\n",
       "      <td>SVC_beforegrid</td>\n",
       "      <td>0.78</td>\n",
       "    </tr>\n",
       "    <tr>\n",
       "      <th>5</th>\n",
       "      <td>RandomForest_beforegrid</td>\n",
       "      <td>0.64</td>\n",
       "    </tr>\n",
       "    <tr>\n",
       "      <th>6</th>\n",
       "      <td>XGBClassifier</td>\n",
       "      <td>0.99</td>\n",
       "    </tr>\n",
       "    <tr>\n",
       "      <th>7</th>\n",
       "      <td>GradientBoosting</td>\n",
       "      <td>0.64</td>\n",
       "    </tr>\n",
       "    <tr>\n",
       "      <th>8</th>\n",
       "      <td>AdaBoosting</td>\n",
       "      <td>0.49</td>\n",
       "    </tr>\n",
       "    <tr>\n",
       "      <th>9</th>\n",
       "      <td>SVC_aftergrid</td>\n",
       "      <td>1.0</td>\n",
       "    </tr>\n",
       "    <tr>\n",
       "      <th>10</th>\n",
       "      <td>RandomForest_aftergrid</td>\n",
       "      <td>0.96</td>\n",
       "    </tr>\n",
       "    <tr>\n",
       "      <th>11</th>\n",
       "      <td>Neuralnetwork_SKLearn Accuracy</td>\n",
       "      <td>0.99</td>\n",
       "    </tr>\n",
       "  </tbody>\n",
       "</table>\n",
       "</div>"
      ],
      "text/plain": [
       "                        Classifier test_Accuracy\n",
       "0               LogisticRegression           1.0\n",
       "1             KNeighborsClassifier          0.91\n",
       "2           DecisionTreeClassifier          0.91\n",
       "3                       GaussianNB          0.94\n",
       "4                   SVC_beforegrid          0.78\n",
       "5          RandomForest_beforegrid          0.64\n",
       "6                    XGBClassifier          0.99\n",
       "7                 GradientBoosting          0.64\n",
       "8                      AdaBoosting          0.49\n",
       "9                    SVC_aftergrid           1.0\n",
       "10          RandomForest_aftergrid          0.96\n",
       "11  Neuralnetwork_SKLearn Accuracy          0.99"
      ]
     },
     "execution_count": 54,
     "metadata": {},
     "output_type": "execute_result"
    }
   ],
   "source": [
    "accuracy_summary"
   ]
  },
  {
   "cell_type": "code",
   "execution_count": null,
   "id": "vital-manchester",
   "metadata": {},
   "outputs": [],
   "source": []
  },
  {
   "cell_type": "code",
   "execution_count": null,
   "id": "prospective-departure",
   "metadata": {},
   "outputs": [],
   "source": []
  }
 ],
 "metadata": {
  "kernelspec": {
   "display_name": "autispot",
   "language": "python",
   "name": "autispot"
  },
  "language_info": {
   "codemirror_mode": {
    "name": "ipython",
    "version": 3
   },
   "file_extension": ".py",
   "mimetype": "text/x-python",
   "name": "python",
   "nbconvert_exporter": "python",
   "pygments_lexer": "ipython3",
   "version": "3.8.5"
  }
 },
 "nbformat": 4,
 "nbformat_minor": 5
}
